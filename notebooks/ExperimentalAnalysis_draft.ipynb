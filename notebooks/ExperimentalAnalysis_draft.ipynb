{
 "cells": [
  {
   "cell_type": "markdown",
   "metadata": {},
   "source": [
    "## Warning!\n",
    "This notebook is only for experimental purposes while learning, working with data of Ashrae Kaggle Competition. It won't be part of the final project, and will be removed from the repository."
   ]
  },
  {
   "cell_type": "markdown",
   "metadata": {},
   "source": [
    "### Training data sets structure"
   ]
  },
  {
   "cell_type": "markdown",
   "metadata": {},
   "source": [
    "**train.csv**\n",
    "* `building_id` - Foreign key for the building metadata.\n",
    "* `meter` - The meter id code. Read as `{0: electricity, 1: chilledwater, 2: steam, 3: hotwater}`. Not every building has all meter types.\n",
    "* `timestamp`  - When the measurement was taken\n",
    "* `meter_reading` - The target variable. Energy consumption in kWh (or equivalent). Note that this is real data with measurement error, which we expect will impose a baseline level of modeling error.\n",
    "\n",
    "**building_meta.csv**\n",
    "* `site_id` - Foreign key for the weather files.\n",
    "* `building_id` - Foreign key for training.csv\n",
    "* `primary_use` - Indicator of the primary category of activities for the building based on EnergyStar property type definitions\n",
    "* `square_feet` - Gross floor area of the building\n",
    "* `year_built` - Year building was opened\n",
    "* `floor_count` - Number of floors of the building\n",
    "\n",
    "**weather_[train/test].csv**\n",
    "\n",
    "Weather data from a meteorological station as close as possible to the site.\n",
    "\n",
    "* `site_id`\n",
    "* `air_temperature` - Degrees Celsius\n",
    "* `cloud_coverage` - Portion of the sky covered in clouds, in oktas\n",
    "* `dew_temperature` - Degrees Celsius\n",
    "* `precip_depth_1_hr` - Millimeters\n",
    "* `sea_level_pressure` - Millibar/hectopascals\n",
    "* `wind_direction` - Compass direction (0-360)\n",
    "* `wind_speed` - Meters per second"
   ]
  },
  {
   "cell_type": "markdown",
   "metadata": {},
   "source": [
    "##  Loading data"
   ]
  },
  {
   "cell_type": "code",
   "execution_count": 1,
   "metadata": {},
   "outputs": [],
   "source": [
    "%load_ext autoreload\n",
    "%autoreload 2\n",
    "import pandas as pd\n",
    "import numpy as np\n",
    "import datetime as dt\n",
    "import gc\n",
    "from src.functions import utils as utl\n",
    "import matplotlib.pyplot as plt\n",
    "import seaborn as sns\n",
    "import missingno as msno"
   ]
  },
  {
   "cell_type": "code",
   "execution_count": null,
   "metadata": {},
   "outputs": [],
   "source": [
    "# Importing data\n",
    "train = utl.import_data('../data/raw/train.csv') \n"
   ]
  },
  {
   "cell_type": "code",
   "execution_count": null,
   "metadata": {},
   "outputs": [],
   "source": [
    "building_meta = utl.import_data('../data/raw/building_metadata.csv')"
   ]
  },
  {
   "cell_type": "code",
   "execution_count": 2,
   "metadata": {},
   "outputs": [
    {
     "name": "stdout",
     "output_type": "stream",
     "text": [
      "Memory usage of dataframe is 9.60 MB\n",
      "Memory usage after optimization is: 2.65 MB\n",
      "Decreased by 72.4%\n"
     ]
    }
   ],
   "source": [
    "weather_train = utl.import_data('../data/raw/weather_train.csv')"
   ]
  },
  {
   "cell_type": "code",
   "execution_count": null,
   "metadata": {},
   "outputs": [],
   "source": [
    "weather_train.to_csv('../data/interim/weather.csv')"
   ]
  },
  {
   "cell_type": "markdown",
   "metadata": {},
   "source": [
    "## Wrangling\n"
   ]
  },
  {
   "cell_type": "markdown",
   "metadata": {},
   "source": [
    "#### Data set `building_meta` "
   ]
  },
  {
   "cell_type": "code",
   "execution_count": null,
   "metadata": {},
   "outputs": [],
   "source": [
    "building_meta.shape"
   ]
  },
  {
   "cell_type": "code",
   "execution_count": null,
   "metadata": {},
   "outputs": [],
   "source": [
    "building_meta.head()"
   ]
  },
  {
   "cell_type": "code",
   "execution_count": null,
   "metadata": {},
   "outputs": [],
   "source": [
    "building_meta.info()"
   ]
  },
  {
   "cell_type": "markdown",
   "metadata": {},
   "source": [
    "Feature `year_built`  is `float` type. We're casting it to `str`, removing the '.0' decimal too."
   ]
  },
  {
   "cell_type": "code",
   "execution_count": null,
   "metadata": {},
   "outputs": [],
   "source": [
    "building_meta['year_built'] = building_meta['year_built'].astype(str, errors='ignore')"
   ]
  },
  {
   "cell_type": "code",
   "execution_count": null,
   "metadata": {},
   "outputs": [],
   "source": [
    "f = lambda x: x.replace('.0','')\n",
    "building_meta['year_built'] = building_meta['year_built'].apply(f)"
   ]
  },
  {
   "cell_type": "code",
   "execution_count": null,
   "metadata": {},
   "outputs": [],
   "source": [
    "building_meta.head()"
   ]
  },
  {
   "cell_type": "markdown",
   "metadata": {},
   "source": [
    "** Missing values **"
   ]
  },
  {
   "cell_type": "code",
   "execution_count": null,
   "metadata": {},
   "outputs": [],
   "source": [
    "building_meta.isna().sum()"
   ]
  },
  {
   "cell_type": "code",
   "execution_count": null,
   "metadata": {},
   "outputs": [],
   "source": [
    "building_meta[building_meta['floor_count'].isna()].tail()"
   ]
  },
  {
   "cell_type": "markdown",
   "metadata": {},
   "source": [
    "** Duplicated observations **"
   ]
  },
  {
   "cell_type": "code",
   "execution_count": null,
   "metadata": {},
   "outputs": [],
   "source": [
    "building_meta[building_meta.duplicated()].sum()"
   ]
  },
  {
   "cell_type": "markdown",
   "metadata": {},
   "source": [
    "#### Data set `train`"
   ]
  },
  {
   "cell_type": "code",
   "execution_count": null,
   "metadata": {},
   "outputs": [],
   "source": [
    "train.shape"
   ]
  },
  {
   "cell_type": "code",
   "execution_count": null,
   "metadata": {
    "scrolled": false
   },
   "outputs": [],
   "source": [
    "train.head()"
   ]
  },
  {
   "cell_type": "code",
   "execution_count": null,
   "metadata": {},
   "outputs": [],
   "source": [
    "train.info()"
   ]
  },
  {
   "cell_type": "code",
   "execution_count": null,
   "metadata": {},
   "outputs": [],
   "source": [
    "train.isna().sum()"
   ]
  },
  {
   "cell_type": "code",
   "execution_count": null,
   "metadata": {},
   "outputs": [],
   "source": [
    "train[train.duplicated()].sum()"
   ]
  },
  {
   "cell_type": "markdown",
   "metadata": {},
   "source": [
    "#### Data set `weather_train`"
   ]
  },
  {
   "cell_type": "code",
   "execution_count": null,
   "metadata": {},
   "outputs": [],
   "source": [
    "weather_train.tail()"
   ]
  },
  {
   "cell_type": "code",
   "execution_count": null,
   "metadata": {},
   "outputs": [],
   "source": [
    "weather_train.info()"
   ]
  },
  {
   "cell_type": "code",
   "execution_count": null,
   "metadata": {},
   "outputs": [],
   "source": [
    "weather_train.isna().sum()"
   ]
  },
  {
   "cell_type": "code",
   "execution_count": null,
   "metadata": {},
   "outputs": [],
   "source": [
    "weather_train[weather_train.duplicated()].sum()"
   ]
  },
  {
   "cell_type": "markdown",
   "metadata": {},
   "source": [
    "#### Merging data sets"
   ]
  },
  {
   "cell_type": "code",
   "execution_count": null,
   "metadata": {},
   "outputs": [],
   "source": [
    "# train + building by FK 'building_id'\n",
    "merge_1 = pd.merge(train, building_meta, how='left', on='building_id')"
   ]
  },
  {
   "cell_type": "code",
   "execution_count": null,
   "metadata": {},
   "outputs": [],
   "source": [
    "merge_1.head()"
   ]
  },
  {
   "cell_type": "code",
   "execution_count": null,
   "metadata": {},
   "outputs": [],
   "source": [
    "df = pd.merge(merge_1, weather_train, how='left', on=['site_id','timestamp'])"
   ]
  },
  {
   "cell_type": "code",
   "execution_count": null,
   "metadata": {},
   "outputs": [],
   "source": [
    "df.head()"
   ]
  },
  {
   "cell_type": "code",
   "execution_count": null,
   "metadata": {},
   "outputs": [],
   "source": [
    "del(train, weather_train, building_meta, merge_1)"
   ]
  },
  {
   "cell_type": "code",
   "execution_count": null,
   "metadata": {},
   "outputs": [],
   "source": [
    "gc.collect()"
   ]
  },
  {
   "cell_type": "code",
   "execution_count": null,
   "metadata": {},
   "outputs": [],
   "source": [
    "# Saving as csv file \n",
    "# df.to_csv('../data/processed/df_merged')"
   ]
  },
  {
   "cell_type": "code",
   "execution_count": null,
   "metadata": {},
   "outputs": [],
   "source": [
    "df.info()"
   ]
  },
  {
   "cell_type": "code",
   "execution_count": null,
   "metadata": {},
   "outputs": [],
   "source": [
    "df[df['floor_count'].notnull()]['floor_count'].head()"
   ]
  },
  {
   "cell_type": "code",
   "execution_count": null,
   "metadata": {},
   "outputs": [],
   "source": [
    "(df.isna().sum()/df.shape[0])*100"
   ]
  },
  {
   "cell_type": "code",
   "execution_count": null,
   "metadata": {},
   "outputs": [],
   "source": [
    "# Rearranging columns\n",
    "cols = df.columns.tolist()"
   ]
  },
  {
   "cell_type": "code",
   "execution_count": null,
   "metadata": {},
   "outputs": [],
   "source": [
    "cols = [\n",
    "    'site_id', \n",
    "    'building_id', \n",
    "    'year_built', \n",
    "    'primary_use', \n",
    "    'floor_count', \n",
    "    'meter', \n",
    "    'timestamp', \n",
    "    'air_temperature', \n",
    "    'cloud_coverage',\n",
    "    'dew_temperature',\n",
    "    'precip_depth_1_hr',\n",
    "    'sea_level_pressure',\n",
    "    'wind_direction',\n",
    "    'wind_speed',\n",
    "    'meter_reading'\n",
    "]"
   ]
  },
  {
   "cell_type": "code",
   "execution_count": null,
   "metadata": {},
   "outputs": [],
   "source": [
    "df = df[cols]"
   ]
  },
  {
   "cell_type": "code",
   "execution_count": null,
   "metadata": {},
   "outputs": [],
   "source": [
    "df.head()"
   ]
  },
  {
   "cell_type": "code",
   "execution_count": null,
   "metadata": {
    "scrolled": true
   },
   "outputs": [],
   "source": [
    "pd.to_datetime(df['timestamp'])"
   ]
  },
  {
   "cell_type": "code",
   "execution_count": null,
   "metadata": {},
   "outputs": [],
   "source": [
    "df['timestamp'].describe()"
   ]
  },
  {
   "cell_type": "markdown",
   "metadata": {},
   "source": [
    "## Data quality assessment and profiling"
   ]
  },
  {
   "cell_type": "markdown",
   "metadata": {},
   "source": [
    "### Handling missing values"
   ]
  },
  {
   "cell_type": "code",
   "execution_count": null,
   "metadata": {},
   "outputs": [],
   "source": [
    "df.isna().sum()"
   ]
  },
  {
   "cell_type": "markdown",
   "metadata": {},
   "source": [
    "#### Variable `floor_count`"
   ]
  },
  {
   "cell_type": "markdown",
   "metadata": {},
   "source": [
    "There're more than 16 million of `NaN` values in `floor_count`. They're likely to be buildings with only ground-floor. We're filling this missing values with `0` and, by the way, we're casting the type of this variable to int, as now it is a float."
   ]
  },
  {
   "cell_type": "code",
   "execution_count": null,
   "metadata": {},
   "outputs": [],
   "source": [
    "# df['floor_count'] = df['floor_count'].fillna(0.0).astype(int)"
   ]
  },
  {
   "cell_type": "code",
   "execution_count": null,
   "metadata": {},
   "outputs": [],
   "source": [
    "# df.head()"
   ]
  },
  {
   "cell_type": "code",
   "execution_count": null,
   "metadata": {},
   "outputs": [],
   "source": [
    "# df.isna().sum()"
   ]
  },
  {
   "cell_type": "markdown",
   "metadata": {},
   "source": [
    "#### Remaining features\n",
    "\n",
    "Let's visualize the distribution of missing values, using a sample of `df` data set, as it's very large and may cause memory errors:"
   ]
  },
  {
   "cell_type": "code",
   "execution_count": null,
   "metadata": {},
   "outputs": [],
   "source": [
    "df_sample = df.sample(500000, replace=False, random_state=666)"
   ]
  },
  {
   "cell_type": "code",
   "execution_count": null,
   "metadata": {},
   "outputs": [],
   "source": [
    "df_sample.to_csv('../data/interim/df_sample.csv')"
   ]
  },
  {
   "cell_type": "code",
   "execution_count": null,
   "metadata": {
    "scrolled": false
   },
   "outputs": [],
   "source": [
    "msno.matrix(df_sample)"
   ]
  },
  {
   "cell_type": "code",
   "execution_count": null,
   "metadata": {},
   "outputs": [],
   "source": [
    "msno.bar(df_sample)"
   ]
  },
  {
   "cell_type": "code",
   "execution_count": null,
   "metadata": {
    "scrolled": true
   },
   "outputs": [],
   "source": [
    "msno.heatmap(df_sample)"
   ]
  },
  {
   "cell_type": "markdown",
   "metadata": {},
   "source": [
    "There's high correlation in the distribution of `NaN`values between variables `air_temperature`, `dew_temperature` and `wind_speed`. Also there's is a significative correlation in the missing values distribution for `precip_depth_1_hr`and `sea_level_preassure`.\n",
    "\n",
    "The feature with most of missing values is `cloud_coverage`, and it doesn't seem to be a correlation with any other feature, regarding `NaN` values.\n",
    "\n",
    "We need a little more information to be able to decide what to do with missing values. A correlation plot between features could be a good advisor. We're only interested in weather variables, as the rest have no missing values."
   ]
  },
  {
   "cell_type": "markdown",
   "metadata": {},
   "source": [
    "### Missing values analysis in `weather_train` data set"
   ]
  },
  {
   "cell_type": "code",
   "execution_count": 3,
   "metadata": {},
   "outputs": [
    {
     "data": {
      "text/plain": [
       "site_id                0.000000\n",
       "timestamp              0.000000\n",
       "air_temperature        0.039350\n",
       "cloud_coverage        49.489529\n",
       "dew_temperature        0.080845\n",
       "precip_depth_1_hr     35.979052\n",
       "sea_level_pressure     7.596603\n",
       "wind_direction         4.484414\n",
       "wind_speed             0.217496\n",
       "dtype: float64"
      ]
     },
     "execution_count": 3,
     "metadata": {},
     "output_type": "execute_result"
    }
   ],
   "source": [
    "# Percentage of missing values per column\n",
    "(weather_train.isna().sum()/weather_train.shape[0]) * 100"
   ]
  },
  {
   "cell_type": "code",
   "execution_count": 4,
   "metadata": {},
   "outputs": [],
   "source": [
    "# weather group by site\n",
    "weather_by_site = weather_train.groupby('site_id')"
   ]
  },
  {
   "cell_type": "code",
   "execution_count": 5,
   "metadata": {
    "scrolled": true
   },
   "outputs": [
    {
     "data": {
      "text/html": [
       "<div>\n",
       "<style scoped>\n",
       "    .dataframe tbody tr th:only-of-type {\n",
       "        vertical-align: middle;\n",
       "    }\n",
       "\n",
       "    .dataframe tbody tr th {\n",
       "        vertical-align: top;\n",
       "    }\n",
       "\n",
       "    .dataframe thead th {\n",
       "        text-align: right;\n",
       "    }\n",
       "</style>\n",
       "<table border=\"1\" class=\"dataframe\">\n",
       "  <thead>\n",
       "    <tr style=\"text-align: right;\">\n",
       "      <th></th>\n",
       "      <th>timestamp</th>\n",
       "      <th>air_temperature</th>\n",
       "      <th>cloud_coverage</th>\n",
       "      <th>dew_temperature</th>\n",
       "      <th>precip_depth_1_hr</th>\n",
       "      <th>sea_level_pressure</th>\n",
       "      <th>wind_direction</th>\n",
       "      <th>wind_speed</th>\n",
       "    </tr>\n",
       "    <tr>\n",
       "      <th>site_id</th>\n",
       "      <th></th>\n",
       "      <th></th>\n",
       "      <th></th>\n",
       "      <th></th>\n",
       "      <th></th>\n",
       "      <th></th>\n",
       "      <th></th>\n",
       "      <th></th>\n",
       "    </tr>\n",
       "  </thead>\n",
       "  <tbody>\n",
       "    <tr>\n",
       "      <th>0</th>\n",
       "      <td>8784</td>\n",
       "      <td>8781</td>\n",
       "      <td>4954</td>\n",
       "      <td>8781</td>\n",
       "      <td>8783</td>\n",
       "      <td>8699</td>\n",
       "      <td>8534</td>\n",
       "      <td>8784</td>\n",
       "    </tr>\n",
       "    <tr>\n",
       "      <th>1</th>\n",
       "      <td>8763</td>\n",
       "      <td>8762</td>\n",
       "      <td>1701</td>\n",
       "      <td>8762</td>\n",
       "      <td>0</td>\n",
       "      <td>8711</td>\n",
       "      <td>8760</td>\n",
       "      <td>8763</td>\n",
       "    </tr>\n",
       "    <tr>\n",
       "      <th>2</th>\n",
       "      <td>8783</td>\n",
       "      <td>8782</td>\n",
       "      <td>6429</td>\n",
       "      <td>8782</td>\n",
       "      <td>8717</td>\n",
       "      <td>8739</td>\n",
       "      <td>8192</td>\n",
       "      <td>8778</td>\n",
       "    </tr>\n",
       "    <tr>\n",
       "      <th>3</th>\n",
       "      <td>8780</td>\n",
       "      <td>8776</td>\n",
       "      <td>5138</td>\n",
       "      <td>8774</td>\n",
       "      <td>8743</td>\n",
       "      <td>8622</td>\n",
       "      <td>8627</td>\n",
       "      <td>8776</td>\n",
       "    </tr>\n",
       "    <tr>\n",
       "      <th>4</th>\n",
       "      <td>8783</td>\n",
       "      <td>8783</td>\n",
       "      <td>4553</td>\n",
       "      <td>8781</td>\n",
       "      <td>7466</td>\n",
       "      <td>8710</td>\n",
       "      <td>8678</td>\n",
       "      <td>8783</td>\n",
       "    </tr>\n",
       "    <tr>\n",
       "      <th>5</th>\n",
       "      <td>8755</td>\n",
       "      <td>8753</td>\n",
       "      <td>2725</td>\n",
       "      <td>8753</td>\n",
       "      <td>0</td>\n",
       "      <td>0</td>\n",
       "      <td>8460</td>\n",
       "      <td>8752</td>\n",
       "    </tr>\n",
       "    <tr>\n",
       "      <th>6</th>\n",
       "      <td>8782</td>\n",
       "      <td>8772</td>\n",
       "      <td>5790</td>\n",
       "      <td>8772</td>\n",
       "      <td>8782</td>\n",
       "      <td>8607</td>\n",
       "      <td>8003</td>\n",
       "      <td>8743</td>\n",
       "    </tr>\n",
       "    <tr>\n",
       "      <th>7</th>\n",
       "      <td>8614</td>\n",
       "      <td>8614</td>\n",
       "      <td>0</td>\n",
       "      <td>8591</td>\n",
       "      <td>731</td>\n",
       "      <td>8606</td>\n",
       "      <td>8614</td>\n",
       "      <td>8614</td>\n",
       "    </tr>\n",
       "    <tr>\n",
       "      <th>8</th>\n",
       "      <td>8784</td>\n",
       "      <td>8781</td>\n",
       "      <td>4954</td>\n",
       "      <td>8781</td>\n",
       "      <td>8783</td>\n",
       "      <td>8699</td>\n",
       "      <td>8534</td>\n",
       "      <td>8784</td>\n",
       "    </tr>\n",
       "    <tr>\n",
       "      <th>9</th>\n",
       "      <td>8780</td>\n",
       "      <td>8775</td>\n",
       "      <td>5322</td>\n",
       "      <td>8773</td>\n",
       "      <td>8773</td>\n",
       "      <td>8541</td>\n",
       "      <td>6222</td>\n",
       "      <td>8683</td>\n",
       "    </tr>\n",
       "    <tr>\n",
       "      <th>10</th>\n",
       "      <td>8782</td>\n",
       "      <td>8758</td>\n",
       "      <td>6332</td>\n",
       "      <td>8755</td>\n",
       "      <td>8755</td>\n",
       "      <td>8641</td>\n",
       "      <td>8248</td>\n",
       "      <td>8678</td>\n",
       "    </tr>\n",
       "    <tr>\n",
       "      <th>11</th>\n",
       "      <td>8614</td>\n",
       "      <td>8614</td>\n",
       "      <td>0</td>\n",
       "      <td>8591</td>\n",
       "      <td>731</td>\n",
       "      <td>8606</td>\n",
       "      <td>8614</td>\n",
       "      <td>8614</td>\n",
       "    </tr>\n",
       "    <tr>\n",
       "      <th>12</th>\n",
       "      <td>8755</td>\n",
       "      <td>8755</td>\n",
       "      <td>8696</td>\n",
       "      <td>8755</td>\n",
       "      <td>0</td>\n",
       "      <td>8699</td>\n",
       "      <td>8754</td>\n",
       "      <td>8755</td>\n",
       "    </tr>\n",
       "    <tr>\n",
       "      <th>13</th>\n",
       "      <td>8783</td>\n",
       "      <td>8782</td>\n",
       "      <td>4485</td>\n",
       "      <td>8782</td>\n",
       "      <td>8771</td>\n",
       "      <td>8663</td>\n",
       "      <td>8566</td>\n",
       "      <td>8782</td>\n",
       "    </tr>\n",
       "    <tr>\n",
       "      <th>14</th>\n",
       "      <td>8777</td>\n",
       "      <td>8776</td>\n",
       "      <td>5466</td>\n",
       "      <td>8776</td>\n",
       "      <td>8746</td>\n",
       "      <td>8667</td>\n",
       "      <td>8487</td>\n",
       "      <td>8754</td>\n",
       "    </tr>\n",
       "    <tr>\n",
       "      <th>15</th>\n",
       "      <td>8454</td>\n",
       "      <td>8454</td>\n",
       "      <td>4055</td>\n",
       "      <td>8451</td>\n",
       "      <td>1703</td>\n",
       "      <td>7945</td>\n",
       "      <td>8212</td>\n",
       "      <td>8426</td>\n",
       "    </tr>\n",
       "  </tbody>\n",
       "</table>\n",
       "</div>"
      ],
      "text/plain": [
       "         timestamp  air_temperature  cloud_coverage  dew_temperature  \\\n",
       "site_id                                                                \n",
       "0             8784             8781            4954             8781   \n",
       "1             8763             8762            1701             8762   \n",
       "2             8783             8782            6429             8782   \n",
       "3             8780             8776            5138             8774   \n",
       "4             8783             8783            4553             8781   \n",
       "5             8755             8753            2725             8753   \n",
       "6             8782             8772            5790             8772   \n",
       "7             8614             8614               0             8591   \n",
       "8             8784             8781            4954             8781   \n",
       "9             8780             8775            5322             8773   \n",
       "10            8782             8758            6332             8755   \n",
       "11            8614             8614               0             8591   \n",
       "12            8755             8755            8696             8755   \n",
       "13            8783             8782            4485             8782   \n",
       "14            8777             8776            5466             8776   \n",
       "15            8454             8454            4055             8451   \n",
       "\n",
       "         precip_depth_1_hr  sea_level_pressure  wind_direction  wind_speed  \n",
       "site_id                                                                     \n",
       "0                     8783                8699            8534        8784  \n",
       "1                        0                8711            8760        8763  \n",
       "2                     8717                8739            8192        8778  \n",
       "3                     8743                8622            8627        8776  \n",
       "4                     7466                8710            8678        8783  \n",
       "5                        0                   0            8460        8752  \n",
       "6                     8782                8607            8003        8743  \n",
       "7                      731                8606            8614        8614  \n",
       "8                     8783                8699            8534        8784  \n",
       "9                     8773                8541            6222        8683  \n",
       "10                    8755                8641            8248        8678  \n",
       "11                     731                8606            8614        8614  \n",
       "12                       0                8699            8754        8755  \n",
       "13                    8771                8663            8566        8782  \n",
       "14                    8746                8667            8487        8754  \n",
       "15                    1703                7945            8212        8426  "
      ]
     },
     "execution_count": 5,
     "metadata": {},
     "output_type": "execute_result"
    }
   ],
   "source": [
    "weather_by_site.count()"
   ]
  },
  {
   "cell_type": "code",
   "execution_count": 21,
   "metadata": {
    "scrolled": true
   },
   "outputs": [
    {
     "data": {
      "text/html": [
       "<div>\n",
       "<style scoped>\n",
       "    .dataframe tbody tr th:only-of-type {\n",
       "        vertical-align: middle;\n",
       "    }\n",
       "\n",
       "    .dataframe tbody tr th {\n",
       "        vertical-align: top;\n",
       "    }\n",
       "\n",
       "    .dataframe thead th {\n",
       "        text-align: right;\n",
       "    }\n",
       "</style>\n",
       "<table border=\"1\" class=\"dataframe\">\n",
       "  <thead>\n",
       "    <tr style=\"text-align: right;\">\n",
       "      <th></th>\n",
       "      <th>site_id</th>\n",
       "      <th>timestamp</th>\n",
       "      <th>air_temperature</th>\n",
       "      <th>cloud_coverage</th>\n",
       "      <th>dew_temperature</th>\n",
       "      <th>precip_depth_1_hr</th>\n",
       "      <th>sea_level_pressure</th>\n",
       "      <th>wind_direction</th>\n",
       "      <th>wind_speed</th>\n",
       "    </tr>\n",
       "  </thead>\n",
       "  <tbody>\n",
       "    <tr>\n",
       "      <th>0</th>\n",
       "      <td>0</td>\n",
       "      <td>2016-01-01 00:00:00</td>\n",
       "      <td>25.000000</td>\n",
       "      <td>6.0</td>\n",
       "      <td>20.000000</td>\n",
       "      <td>NaN</td>\n",
       "      <td>1019.5</td>\n",
       "      <td>0.0</td>\n",
       "      <td>0.000000</td>\n",
       "    </tr>\n",
       "    <tr>\n",
       "      <th>1</th>\n",
       "      <td>0</td>\n",
       "      <td>2016-01-01 01:00:00</td>\n",
       "      <td>24.406250</td>\n",
       "      <td>NaN</td>\n",
       "      <td>21.093750</td>\n",
       "      <td>-1.0</td>\n",
       "      <td>1020.0</td>\n",
       "      <td>70.0</td>\n",
       "      <td>1.500000</td>\n",
       "    </tr>\n",
       "    <tr>\n",
       "      <th>2</th>\n",
       "      <td>0</td>\n",
       "      <td>2016-01-01 02:00:00</td>\n",
       "      <td>22.796875</td>\n",
       "      <td>2.0</td>\n",
       "      <td>21.093750</td>\n",
       "      <td>0.0</td>\n",
       "      <td>1020.0</td>\n",
       "      <td>0.0</td>\n",
       "      <td>0.000000</td>\n",
       "    </tr>\n",
       "    <tr>\n",
       "      <th>3</th>\n",
       "      <td>0</td>\n",
       "      <td>2016-01-01 03:00:00</td>\n",
       "      <td>21.093750</td>\n",
       "      <td>2.0</td>\n",
       "      <td>20.593750</td>\n",
       "      <td>0.0</td>\n",
       "      <td>1020.0</td>\n",
       "      <td>0.0</td>\n",
       "      <td>0.000000</td>\n",
       "    </tr>\n",
       "    <tr>\n",
       "      <th>4</th>\n",
       "      <td>0</td>\n",
       "      <td>2016-01-01 04:00:00</td>\n",
       "      <td>20.000000</td>\n",
       "      <td>2.0</td>\n",
       "      <td>20.000000</td>\n",
       "      <td>-1.0</td>\n",
       "      <td>1020.0</td>\n",
       "      <td>250.0</td>\n",
       "      <td>2.599609</td>\n",
       "    </tr>\n",
       "    <tr>\n",
       "      <th>8784</th>\n",
       "      <td>1</td>\n",
       "      <td>2016-01-01 00:00:00</td>\n",
       "      <td>3.800781</td>\n",
       "      <td>NaN</td>\n",
       "      <td>2.400391</td>\n",
       "      <td>NaN</td>\n",
       "      <td>1021.0</td>\n",
       "      <td>240.0</td>\n",
       "      <td>3.099609</td>\n",
       "    </tr>\n",
       "    <tr>\n",
       "      <th>8785</th>\n",
       "      <td>1</td>\n",
       "      <td>2016-01-01 01:00:00</td>\n",
       "      <td>3.699219</td>\n",
       "      <td>0.0</td>\n",
       "      <td>2.400391</td>\n",
       "      <td>NaN</td>\n",
       "      <td>1021.5</td>\n",
       "      <td>230.0</td>\n",
       "      <td>2.599609</td>\n",
       "    </tr>\n",
       "    <tr>\n",
       "      <th>8786</th>\n",
       "      <td>1</td>\n",
       "      <td>2016-01-01 02:00:00</td>\n",
       "      <td>2.599609</td>\n",
       "      <td>0.0</td>\n",
       "      <td>1.900391</td>\n",
       "      <td>NaN</td>\n",
       "      <td>1022.0</td>\n",
       "      <td>0.0</td>\n",
       "      <td>0.000000</td>\n",
       "    </tr>\n",
       "    <tr>\n",
       "      <th>8787</th>\n",
       "      <td>1</td>\n",
       "      <td>2016-01-01 03:00:00</td>\n",
       "      <td>2.000000</td>\n",
       "      <td>0.0</td>\n",
       "      <td>1.200195</td>\n",
       "      <td>NaN</td>\n",
       "      <td>1022.5</td>\n",
       "      <td>170.0</td>\n",
       "      <td>1.500000</td>\n",
       "    </tr>\n",
       "    <tr>\n",
       "      <th>8788</th>\n",
       "      <td>1</td>\n",
       "      <td>2016-01-01 04:00:00</td>\n",
       "      <td>2.300781</td>\n",
       "      <td>0.0</td>\n",
       "      <td>1.799805</td>\n",
       "      <td>NaN</td>\n",
       "      <td>1022.5</td>\n",
       "      <td>110.0</td>\n",
       "      <td>1.500000</td>\n",
       "    </tr>\n",
       "    <tr>\n",
       "      <th>17547</th>\n",
       "      <td>2</td>\n",
       "      <td>2016-01-01 00:00:00</td>\n",
       "      <td>15.601562</td>\n",
       "      <td>6.0</td>\n",
       "      <td>-5.601562</td>\n",
       "      <td>NaN</td>\n",
       "      <td>1015.5</td>\n",
       "      <td>270.0</td>\n",
       "      <td>3.599609</td>\n",
       "    </tr>\n",
       "    <tr>\n",
       "      <th>17548</th>\n",
       "      <td>2</td>\n",
       "      <td>2016-01-01 01:00:00</td>\n",
       "      <td>13.898438</td>\n",
       "      <td>NaN</td>\n",
       "      <td>-5.601562</td>\n",
       "      <td>0.0</td>\n",
       "      <td>1015.5</td>\n",
       "      <td>270.0</td>\n",
       "      <td>4.101562</td>\n",
       "    </tr>\n",
       "    <tr>\n",
       "      <th>17549</th>\n",
       "      <td>2</td>\n",
       "      <td>2016-01-01 02:00:00</td>\n",
       "      <td>13.296875</td>\n",
       "      <td>2.0</td>\n",
       "      <td>-5.601562</td>\n",
       "      <td>0.0</td>\n",
       "      <td>1016.0</td>\n",
       "      <td>270.0</td>\n",
       "      <td>3.099609</td>\n",
       "    </tr>\n",
       "    <tr>\n",
       "      <th>17550</th>\n",
       "      <td>2</td>\n",
       "      <td>2016-01-01 03:00:00</td>\n",
       "      <td>12.203125</td>\n",
       "      <td>0.0</td>\n",
       "      <td>-6.101562</td>\n",
       "      <td>0.0</td>\n",
       "      <td>1016.5</td>\n",
       "      <td>280.0</td>\n",
       "      <td>3.099609</td>\n",
       "    </tr>\n",
       "    <tr>\n",
       "      <th>17551</th>\n",
       "      <td>2</td>\n",
       "      <td>2016-01-01 04:00:00</td>\n",
       "      <td>11.703125</td>\n",
       "      <td>2.0</td>\n",
       "      <td>-6.699219</td>\n",
       "      <td>0.0</td>\n",
       "      <td>1017.0</td>\n",
       "      <td>270.0</td>\n",
       "      <td>3.099609</td>\n",
       "    </tr>\n",
       "    <tr>\n",
       "      <th>26330</th>\n",
       "      <td>3</td>\n",
       "      <td>2016-01-01 00:00:00</td>\n",
       "      <td>10.000000</td>\n",
       "      <td>8.0</td>\n",
       "      <td>2.199219</td>\n",
       "      <td>NaN</td>\n",
       "      <td>1021.0</td>\n",
       "      <td>350.0</td>\n",
       "      <td>4.101562</td>\n",
       "    </tr>\n",
       "    <tr>\n",
       "      <th>26331</th>\n",
       "      <td>3</td>\n",
       "      <td>2016-01-01 01:00:00</td>\n",
       "      <td>9.398438</td>\n",
       "      <td>NaN</td>\n",
       "      <td>2.800781</td>\n",
       "      <td>0.0</td>\n",
       "      <td>1021.5</td>\n",
       "      <td>350.0</td>\n",
       "      <td>6.199219</td>\n",
       "    </tr>\n",
       "    <tr>\n",
       "      <th>26332</th>\n",
       "      <td>3</td>\n",
       "      <td>2016-01-01 02:00:00</td>\n",
       "      <td>8.898438</td>\n",
       "      <td>NaN</td>\n",
       "      <td>2.199219</td>\n",
       "      <td>0.0</td>\n",
       "      <td>1021.5</td>\n",
       "      <td>10.0</td>\n",
       "      <td>4.601562</td>\n",
       "    </tr>\n",
       "    <tr>\n",
       "      <th>26333</th>\n",
       "      <td>3</td>\n",
       "      <td>2016-01-01 03:00:00</td>\n",
       "      <td>7.800781</td>\n",
       "      <td>8.0</td>\n",
       "      <td>1.099609</td>\n",
       "      <td>0.0</td>\n",
       "      <td>1021.5</td>\n",
       "      <td>350.0</td>\n",
       "      <td>7.699219</td>\n",
       "    </tr>\n",
       "    <tr>\n",
       "      <th>26334</th>\n",
       "      <td>3</td>\n",
       "      <td>2016-01-01 04:00:00</td>\n",
       "      <td>7.800781</td>\n",
       "      <td>NaN</td>\n",
       "      <td>0.600098</td>\n",
       "      <td>0.0</td>\n",
       "      <td>1022.0</td>\n",
       "      <td>340.0</td>\n",
       "      <td>4.101562</td>\n",
       "    </tr>\n",
       "    <tr>\n",
       "      <th>35110</th>\n",
       "      <td>4</td>\n",
       "      <td>2016-01-01 01:00:00</td>\n",
       "      <td>9.398438</td>\n",
       "      <td>0.0</td>\n",
       "      <td>-2.199219</td>\n",
       "      <td>0.0</td>\n",
       "      <td>1021.5</td>\n",
       "      <td>360.0</td>\n",
       "      <td>3.099609</td>\n",
       "    </tr>\n",
       "    <tr>\n",
       "      <th>35111</th>\n",
       "      <td>4</td>\n",
       "      <td>2016-01-01 02:00:00</td>\n",
       "      <td>8.296875</td>\n",
       "      <td>0.0</td>\n",
       "      <td>-2.800781</td>\n",
       "      <td>0.0</td>\n",
       "      <td>1021.5</td>\n",
       "      <td>0.0</td>\n",
       "      <td>0.000000</td>\n",
       "    </tr>\n",
       "    <tr>\n",
       "      <th>35112</th>\n",
       "      <td>4</td>\n",
       "      <td>2016-01-01 03:00:00</td>\n",
       "      <td>7.800781</td>\n",
       "      <td>0.0</td>\n",
       "      <td>-2.800781</td>\n",
       "      <td>0.0</td>\n",
       "      <td>1021.5</td>\n",
       "      <td>90.0</td>\n",
       "      <td>1.500000</td>\n",
       "    </tr>\n",
       "    <tr>\n",
       "      <th>35113</th>\n",
       "      <td>4</td>\n",
       "      <td>2016-01-01 04:00:00</td>\n",
       "      <td>5.000000</td>\n",
       "      <td>0.0</td>\n",
       "      <td>-0.600098</td>\n",
       "      <td>0.0</td>\n",
       "      <td>1022.0</td>\n",
       "      <td>0.0</td>\n",
       "      <td>0.000000</td>\n",
       "    </tr>\n",
       "    <tr>\n",
       "      <th>35114</th>\n",
       "      <td>4</td>\n",
       "      <td>2016-01-01 05:00:00</td>\n",
       "      <td>5.601562</td>\n",
       "      <td>0.0</td>\n",
       "      <td>-1.099609</td>\n",
       "      <td>0.0</td>\n",
       "      <td>1021.5</td>\n",
       "      <td>130.0</td>\n",
       "      <td>3.099609</td>\n",
       "    </tr>\n",
       "    <tr>\n",
       "      <th>43893</th>\n",
       "      <td>5</td>\n",
       "      <td>2016-01-01 01:00:00</td>\n",
       "      <td>5.000000</td>\n",
       "      <td>0.0</td>\n",
       "      <td>2.000000</td>\n",
       "      <td>NaN</td>\n",
       "      <td>NaN</td>\n",
       "      <td>260.0</td>\n",
       "      <td>2.599609</td>\n",
       "    </tr>\n",
       "    <tr>\n",
       "      <th>43894</th>\n",
       "      <td>5</td>\n",
       "      <td>2016-01-01 02:00:00</td>\n",
       "      <td>3.000000</td>\n",
       "      <td>0.0</td>\n",
       "      <td>1.000000</td>\n",
       "      <td>NaN</td>\n",
       "      <td>NaN</td>\n",
       "      <td>NaN</td>\n",
       "      <td>1.500000</td>\n",
       "    </tr>\n",
       "    <tr>\n",
       "      <th>43895</th>\n",
       "      <td>5</td>\n",
       "      <td>2016-01-01 03:00:00</td>\n",
       "      <td>4.000000</td>\n",
       "      <td>0.0</td>\n",
       "      <td>3.000000</td>\n",
       "      <td>NaN</td>\n",
       "      <td>NaN</td>\n",
       "      <td>160.0</td>\n",
       "      <td>2.599609</td>\n",
       "    </tr>\n",
       "    <tr>\n",
       "      <th>43896</th>\n",
       "      <td>5</td>\n",
       "      <td>2016-01-01 04:00:00</td>\n",
       "      <td>4.000000</td>\n",
       "      <td>NaN</td>\n",
       "      <td>3.000000</td>\n",
       "      <td>NaN</td>\n",
       "      <td>NaN</td>\n",
       "      <td>110.0</td>\n",
       "      <td>4.101562</td>\n",
       "    </tr>\n",
       "    <tr>\n",
       "      <th>43897</th>\n",
       "      <td>5</td>\n",
       "      <td>2016-01-01 05:00:00</td>\n",
       "      <td>5.000000</td>\n",
       "      <td>0.0</td>\n",
       "      <td>4.000000</td>\n",
       "      <td>NaN</td>\n",
       "      <td>NaN</td>\n",
       "      <td>120.0</td>\n",
       "      <td>4.101562</td>\n",
       "    </tr>\n",
       "    <tr>\n",
       "      <th>...</th>\n",
       "      <td>...</td>\n",
       "      <td>...</td>\n",
       "      <td>...</td>\n",
       "      <td>...</td>\n",
       "      <td>...</td>\n",
       "      <td>...</td>\n",
       "      <td>...</td>\n",
       "      <td>...</td>\n",
       "      <td>...</td>\n",
       "    </tr>\n",
       "    <tr>\n",
       "      <th>87608</th>\n",
       "      <td>10</td>\n",
       "      <td>2016-01-01 01:00:00</td>\n",
       "      <td>-10.601562</td>\n",
       "      <td>0.0</td>\n",
       "      <td>-13.898438</td>\n",
       "      <td>0.0</td>\n",
       "      <td>1037.0</td>\n",
       "      <td>0.0</td>\n",
       "      <td>0.000000</td>\n",
       "    </tr>\n",
       "    <tr>\n",
       "      <th>87609</th>\n",
       "      <td>10</td>\n",
       "      <td>2016-01-01 02:00:00</td>\n",
       "      <td>-11.101562</td>\n",
       "      <td>0.0</td>\n",
       "      <td>-13.898438</td>\n",
       "      <td>0.0</td>\n",
       "      <td>1037.0</td>\n",
       "      <td>0.0</td>\n",
       "      <td>0.000000</td>\n",
       "    </tr>\n",
       "    <tr>\n",
       "      <th>87610</th>\n",
       "      <td>10</td>\n",
       "      <td>2016-01-01 03:00:00</td>\n",
       "      <td>-10.000000</td>\n",
       "      <td>0.0</td>\n",
       "      <td>-15.000000</td>\n",
       "      <td>0.0</td>\n",
       "      <td>1037.0</td>\n",
       "      <td>280.0</td>\n",
       "      <td>2.599609</td>\n",
       "    </tr>\n",
       "    <tr>\n",
       "      <th>87611</th>\n",
       "      <td>10</td>\n",
       "      <td>2016-01-01 04:00:00</td>\n",
       "      <td>-13.296875</td>\n",
       "      <td>0.0</td>\n",
       "      <td>-15.601562</td>\n",
       "      <td>0.0</td>\n",
       "      <td>1038.0</td>\n",
       "      <td>230.0</td>\n",
       "      <td>1.500000</td>\n",
       "    </tr>\n",
       "    <tr>\n",
       "      <th>87612</th>\n",
       "      <td>10</td>\n",
       "      <td>2016-01-01 05:00:00</td>\n",
       "      <td>-14.398438</td>\n",
       "      <td>0.0</td>\n",
       "      <td>-17.203125</td>\n",
       "      <td>0.0</td>\n",
       "      <td>1037.0</td>\n",
       "      <td>310.0</td>\n",
       "      <td>4.101562</td>\n",
       "    </tr>\n",
       "    <tr>\n",
       "      <th>96390</th>\n",
       "      <td>11</td>\n",
       "      <td>2016-01-01 00:00:00</td>\n",
       "      <td>-1.799805</td>\n",
       "      <td>NaN</td>\n",
       "      <td>-3.199219</td>\n",
       "      <td>NaN</td>\n",
       "      <td>1016.0</td>\n",
       "      <td>280.0</td>\n",
       "      <td>1.500000</td>\n",
       "    </tr>\n",
       "    <tr>\n",
       "      <th>96391</th>\n",
       "      <td>11</td>\n",
       "      <td>2016-01-01 01:00:00</td>\n",
       "      <td>-1.700195</td>\n",
       "      <td>NaN</td>\n",
       "      <td>-2.800781</td>\n",
       "      <td>NaN</td>\n",
       "      <td>1016.0</td>\n",
       "      <td>260.0</td>\n",
       "      <td>1.000000</td>\n",
       "    </tr>\n",
       "    <tr>\n",
       "      <th>96392</th>\n",
       "      <td>11</td>\n",
       "      <td>2016-01-01 02:00:00</td>\n",
       "      <td>-2.699219</td>\n",
       "      <td>NaN</td>\n",
       "      <td>-3.300781</td>\n",
       "      <td>NaN</td>\n",
       "      <td>1016.0</td>\n",
       "      <td>350.0</td>\n",
       "      <td>0.500000</td>\n",
       "    </tr>\n",
       "    <tr>\n",
       "      <th>96393</th>\n",
       "      <td>11</td>\n",
       "      <td>2016-01-01 03:00:00</td>\n",
       "      <td>-2.300781</td>\n",
       "      <td>NaN</td>\n",
       "      <td>-3.199219</td>\n",
       "      <td>NaN</td>\n",
       "      <td>1015.5</td>\n",
       "      <td>280.0</td>\n",
       "      <td>1.500000</td>\n",
       "    </tr>\n",
       "    <tr>\n",
       "      <th>96394</th>\n",
       "      <td>11</td>\n",
       "      <td>2016-01-01 04:00:00</td>\n",
       "      <td>-2.599609</td>\n",
       "      <td>NaN</td>\n",
       "      <td>-3.300781</td>\n",
       "      <td>NaN</td>\n",
       "      <td>1015.0</td>\n",
       "      <td>310.0</td>\n",
       "      <td>2.099609</td>\n",
       "    </tr>\n",
       "    <tr>\n",
       "      <th>105004</th>\n",
       "      <td>12</td>\n",
       "      <td>2016-01-01 00:00:00</td>\n",
       "      <td>1.900391</td>\n",
       "      <td>4.0</td>\n",
       "      <td>-1.200195</td>\n",
       "      <td>NaN</td>\n",
       "      <td>1016.0</td>\n",
       "      <td>200.0</td>\n",
       "      <td>5.000000</td>\n",
       "    </tr>\n",
       "    <tr>\n",
       "      <th>105005</th>\n",
       "      <td>12</td>\n",
       "      <td>2016-01-01 01:00:00</td>\n",
       "      <td>1.599609</td>\n",
       "      <td>4.0</td>\n",
       "      <td>-1.500000</td>\n",
       "      <td>NaN</td>\n",
       "      <td>1016.5</td>\n",
       "      <td>190.0</td>\n",
       "      <td>3.000000</td>\n",
       "    </tr>\n",
       "    <tr>\n",
       "      <th>105006</th>\n",
       "      <td>12</td>\n",
       "      <td>2016-01-01 02:00:00</td>\n",
       "      <td>0.700195</td>\n",
       "      <td>4.0</td>\n",
       "      <td>-1.799805</td>\n",
       "      <td>NaN</td>\n",
       "      <td>1016.5</td>\n",
       "      <td>170.0</td>\n",
       "      <td>3.000000</td>\n",
       "    </tr>\n",
       "    <tr>\n",
       "      <th>105007</th>\n",
       "      <td>12</td>\n",
       "      <td>2016-01-01 03:00:00</td>\n",
       "      <td>0.799805</td>\n",
       "      <td>4.0</td>\n",
       "      <td>-2.099609</td>\n",
       "      <td>NaN</td>\n",
       "      <td>1016.5</td>\n",
       "      <td>170.0</td>\n",
       "      <td>4.000000</td>\n",
       "    </tr>\n",
       "    <tr>\n",
       "      <th>105008</th>\n",
       "      <td>12</td>\n",
       "      <td>2016-01-01 04:00:00</td>\n",
       "      <td>2.900391</td>\n",
       "      <td>4.0</td>\n",
       "      <td>-1.599609</td>\n",
       "      <td>NaN</td>\n",
       "      <td>1016.0</td>\n",
       "      <td>130.0</td>\n",
       "      <td>3.000000</td>\n",
       "    </tr>\n",
       "    <tr>\n",
       "      <th>113759</th>\n",
       "      <td>13</td>\n",
       "      <td>2016-01-01 00:00:00</td>\n",
       "      <td>-8.296875</td>\n",
       "      <td>8.0</td>\n",
       "      <td>-12.203125</td>\n",
       "      <td>NaN</td>\n",
       "      <td>1023.5</td>\n",
       "      <td>250.0</td>\n",
       "      <td>4.101562</td>\n",
       "    </tr>\n",
       "    <tr>\n",
       "      <th>113760</th>\n",
       "      <td>13</td>\n",
       "      <td>2016-01-01 01:00:00</td>\n",
       "      <td>-8.296875</td>\n",
       "      <td>NaN</td>\n",
       "      <td>-11.703125</td>\n",
       "      <td>-1.0</td>\n",
       "      <td>1023.5</td>\n",
       "      <td>240.0</td>\n",
       "      <td>4.101562</td>\n",
       "    </tr>\n",
       "    <tr>\n",
       "      <th>113761</th>\n",
       "      <td>13</td>\n",
       "      <td>2016-01-01 02:00:00</td>\n",
       "      <td>-7.800781</td>\n",
       "      <td>NaN</td>\n",
       "      <td>-11.101562</td>\n",
       "      <td>-1.0</td>\n",
       "      <td>1023.0</td>\n",
       "      <td>240.0</td>\n",
       "      <td>3.099609</td>\n",
       "    </tr>\n",
       "    <tr>\n",
       "      <th>113762</th>\n",
       "      <td>13</td>\n",
       "      <td>2016-01-01 03:00:00</td>\n",
       "      <td>-7.800781</td>\n",
       "      <td>NaN</td>\n",
       "      <td>-11.101562</td>\n",
       "      <td>-1.0</td>\n",
       "      <td>1022.5</td>\n",
       "      <td>250.0</td>\n",
       "      <td>4.101562</td>\n",
       "    </tr>\n",
       "    <tr>\n",
       "      <th>113763</th>\n",
       "      <td>13</td>\n",
       "      <td>2016-01-01 04:00:00</td>\n",
       "      <td>-7.199219</td>\n",
       "      <td>NaN</td>\n",
       "      <td>-10.601562</td>\n",
       "      <td>0.0</td>\n",
       "      <td>1023.0</td>\n",
       "      <td>270.0</td>\n",
       "      <td>4.101562</td>\n",
       "    </tr>\n",
       "    <tr>\n",
       "      <th>122542</th>\n",
       "      <td>14</td>\n",
       "      <td>2016-01-01 01:00:00</td>\n",
       "      <td>5.601562</td>\n",
       "      <td>0.0</td>\n",
       "      <td>-0.600098</td>\n",
       "      <td>0.0</td>\n",
       "      <td>1019.5</td>\n",
       "      <td>300.0</td>\n",
       "      <td>2.599609</td>\n",
       "    </tr>\n",
       "    <tr>\n",
       "      <th>122543</th>\n",
       "      <td>14</td>\n",
       "      <td>2016-01-01 02:00:00</td>\n",
       "      <td>5.601562</td>\n",
       "      <td>4.0</td>\n",
       "      <td>-0.600098</td>\n",
       "      <td>0.0</td>\n",
       "      <td>1019.5</td>\n",
       "      <td>300.0</td>\n",
       "      <td>2.599609</td>\n",
       "    </tr>\n",
       "    <tr>\n",
       "      <th>122544</th>\n",
       "      <td>14</td>\n",
       "      <td>2016-01-01 03:00:00</td>\n",
       "      <td>5.601562</td>\n",
       "      <td>NaN</td>\n",
       "      <td>-1.099609</td>\n",
       "      <td>0.0</td>\n",
       "      <td>1019.5</td>\n",
       "      <td>NaN</td>\n",
       "      <td>1.500000</td>\n",
       "    </tr>\n",
       "    <tr>\n",
       "      <th>122545</th>\n",
       "      <td>14</td>\n",
       "      <td>2016-01-01 04:00:00</td>\n",
       "      <td>5.000000</td>\n",
       "      <td>NaN</td>\n",
       "      <td>-2.199219</td>\n",
       "      <td>0.0</td>\n",
       "      <td>1019.0</td>\n",
       "      <td>290.0</td>\n",
       "      <td>3.099609</td>\n",
       "    </tr>\n",
       "    <tr>\n",
       "      <th>122546</th>\n",
       "      <td>14</td>\n",
       "      <td>2016-01-01 05:00:00</td>\n",
       "      <td>4.398438</td>\n",
       "      <td>NaN</td>\n",
       "      <td>-2.199219</td>\n",
       "      <td>0.0</td>\n",
       "      <td>1019.0</td>\n",
       "      <td>300.0</td>\n",
       "      <td>4.101562</td>\n",
       "    </tr>\n",
       "    <tr>\n",
       "      <th>131319</th>\n",
       "      <td>15</td>\n",
       "      <td>2016-01-01 01:00:00</td>\n",
       "      <td>-1.000000</td>\n",
       "      <td>NaN</td>\n",
       "      <td>-1.000000</td>\n",
       "      <td>NaN</td>\n",
       "      <td>NaN</td>\n",
       "      <td>330.0</td>\n",
       "      <td>4.101562</td>\n",
       "    </tr>\n",
       "    <tr>\n",
       "      <th>131320</th>\n",
       "      <td>15</td>\n",
       "      <td>2016-01-01 02:00:00</td>\n",
       "      <td>-1.000000</td>\n",
       "      <td>NaN</td>\n",
       "      <td>-1.000000</td>\n",
       "      <td>NaN</td>\n",
       "      <td>NaN</td>\n",
       "      <td>330.0</td>\n",
       "      <td>2.599609</td>\n",
       "    </tr>\n",
       "    <tr>\n",
       "      <th>131321</th>\n",
       "      <td>15</td>\n",
       "      <td>2016-01-01 03:00:00</td>\n",
       "      <td>-1.000000</td>\n",
       "      <td>NaN</td>\n",
       "      <td>-2.000000</td>\n",
       "      <td>NaN</td>\n",
       "      <td>NaN</td>\n",
       "      <td>340.0</td>\n",
       "      <td>2.099609</td>\n",
       "    </tr>\n",
       "    <tr>\n",
       "      <th>131322</th>\n",
       "      <td>15</td>\n",
       "      <td>2016-01-01 12:00:00</td>\n",
       "      <td>-1.000000</td>\n",
       "      <td>NaN</td>\n",
       "      <td>-3.000000</td>\n",
       "      <td>NaN</td>\n",
       "      <td>NaN</td>\n",
       "      <td>250.0</td>\n",
       "      <td>2.599609</td>\n",
       "    </tr>\n",
       "    <tr>\n",
       "      <th>131323</th>\n",
       "      <td>15</td>\n",
       "      <td>2016-01-01 13:00:00</td>\n",
       "      <td>-1.000000</td>\n",
       "      <td>NaN</td>\n",
       "      <td>-3.000000</td>\n",
       "      <td>NaN</td>\n",
       "      <td>NaN</td>\n",
       "      <td>240.0</td>\n",
       "      <td>3.099609</td>\n",
       "    </tr>\n",
       "  </tbody>\n",
       "</table>\n",
       "<p>80 rows × 9 columns</p>\n",
       "</div>"
      ],
      "text/plain": [
       "        site_id            timestamp  air_temperature  cloud_coverage  \\\n",
       "0             0  2016-01-01 00:00:00        25.000000             6.0   \n",
       "1             0  2016-01-01 01:00:00        24.406250             NaN   \n",
       "2             0  2016-01-01 02:00:00        22.796875             2.0   \n",
       "3             0  2016-01-01 03:00:00        21.093750             2.0   \n",
       "4             0  2016-01-01 04:00:00        20.000000             2.0   \n",
       "8784          1  2016-01-01 00:00:00         3.800781             NaN   \n",
       "8785          1  2016-01-01 01:00:00         3.699219             0.0   \n",
       "8786          1  2016-01-01 02:00:00         2.599609             0.0   \n",
       "8787          1  2016-01-01 03:00:00         2.000000             0.0   \n",
       "8788          1  2016-01-01 04:00:00         2.300781             0.0   \n",
       "17547         2  2016-01-01 00:00:00        15.601562             6.0   \n",
       "17548         2  2016-01-01 01:00:00        13.898438             NaN   \n",
       "17549         2  2016-01-01 02:00:00        13.296875             2.0   \n",
       "17550         2  2016-01-01 03:00:00        12.203125             0.0   \n",
       "17551         2  2016-01-01 04:00:00        11.703125             2.0   \n",
       "26330         3  2016-01-01 00:00:00        10.000000             8.0   \n",
       "26331         3  2016-01-01 01:00:00         9.398438             NaN   \n",
       "26332         3  2016-01-01 02:00:00         8.898438             NaN   \n",
       "26333         3  2016-01-01 03:00:00         7.800781             8.0   \n",
       "26334         3  2016-01-01 04:00:00         7.800781             NaN   \n",
       "35110         4  2016-01-01 01:00:00         9.398438             0.0   \n",
       "35111         4  2016-01-01 02:00:00         8.296875             0.0   \n",
       "35112         4  2016-01-01 03:00:00         7.800781             0.0   \n",
       "35113         4  2016-01-01 04:00:00         5.000000             0.0   \n",
       "35114         4  2016-01-01 05:00:00         5.601562             0.0   \n",
       "43893         5  2016-01-01 01:00:00         5.000000             0.0   \n",
       "43894         5  2016-01-01 02:00:00         3.000000             0.0   \n",
       "43895         5  2016-01-01 03:00:00         4.000000             0.0   \n",
       "43896         5  2016-01-01 04:00:00         4.000000             NaN   \n",
       "43897         5  2016-01-01 05:00:00         5.000000             0.0   \n",
       "...         ...                  ...              ...             ...   \n",
       "87608        10  2016-01-01 01:00:00       -10.601562             0.0   \n",
       "87609        10  2016-01-01 02:00:00       -11.101562             0.0   \n",
       "87610        10  2016-01-01 03:00:00       -10.000000             0.0   \n",
       "87611        10  2016-01-01 04:00:00       -13.296875             0.0   \n",
       "87612        10  2016-01-01 05:00:00       -14.398438             0.0   \n",
       "96390        11  2016-01-01 00:00:00        -1.799805             NaN   \n",
       "96391        11  2016-01-01 01:00:00        -1.700195             NaN   \n",
       "96392        11  2016-01-01 02:00:00        -2.699219             NaN   \n",
       "96393        11  2016-01-01 03:00:00        -2.300781             NaN   \n",
       "96394        11  2016-01-01 04:00:00        -2.599609             NaN   \n",
       "105004       12  2016-01-01 00:00:00         1.900391             4.0   \n",
       "105005       12  2016-01-01 01:00:00         1.599609             4.0   \n",
       "105006       12  2016-01-01 02:00:00         0.700195             4.0   \n",
       "105007       12  2016-01-01 03:00:00         0.799805             4.0   \n",
       "105008       12  2016-01-01 04:00:00         2.900391             4.0   \n",
       "113759       13  2016-01-01 00:00:00        -8.296875             8.0   \n",
       "113760       13  2016-01-01 01:00:00        -8.296875             NaN   \n",
       "113761       13  2016-01-01 02:00:00        -7.800781             NaN   \n",
       "113762       13  2016-01-01 03:00:00        -7.800781             NaN   \n",
       "113763       13  2016-01-01 04:00:00        -7.199219             NaN   \n",
       "122542       14  2016-01-01 01:00:00         5.601562             0.0   \n",
       "122543       14  2016-01-01 02:00:00         5.601562             4.0   \n",
       "122544       14  2016-01-01 03:00:00         5.601562             NaN   \n",
       "122545       14  2016-01-01 04:00:00         5.000000             NaN   \n",
       "122546       14  2016-01-01 05:00:00         4.398438             NaN   \n",
       "131319       15  2016-01-01 01:00:00        -1.000000             NaN   \n",
       "131320       15  2016-01-01 02:00:00        -1.000000             NaN   \n",
       "131321       15  2016-01-01 03:00:00        -1.000000             NaN   \n",
       "131322       15  2016-01-01 12:00:00        -1.000000             NaN   \n",
       "131323       15  2016-01-01 13:00:00        -1.000000             NaN   \n",
       "\n",
       "        dew_temperature  precip_depth_1_hr  sea_level_pressure  \\\n",
       "0             20.000000                NaN              1019.5   \n",
       "1             21.093750               -1.0              1020.0   \n",
       "2             21.093750                0.0              1020.0   \n",
       "3             20.593750                0.0              1020.0   \n",
       "4             20.000000               -1.0              1020.0   \n",
       "8784           2.400391                NaN              1021.0   \n",
       "8785           2.400391                NaN              1021.5   \n",
       "8786           1.900391                NaN              1022.0   \n",
       "8787           1.200195                NaN              1022.5   \n",
       "8788           1.799805                NaN              1022.5   \n",
       "17547         -5.601562                NaN              1015.5   \n",
       "17548         -5.601562                0.0              1015.5   \n",
       "17549         -5.601562                0.0              1016.0   \n",
       "17550         -6.101562                0.0              1016.5   \n",
       "17551         -6.699219                0.0              1017.0   \n",
       "26330          2.199219                NaN              1021.0   \n",
       "26331          2.800781                0.0              1021.5   \n",
       "26332          2.199219                0.0              1021.5   \n",
       "26333          1.099609                0.0              1021.5   \n",
       "26334          0.600098                0.0              1022.0   \n",
       "35110         -2.199219                0.0              1021.5   \n",
       "35111         -2.800781                0.0              1021.5   \n",
       "35112         -2.800781                0.0              1021.5   \n",
       "35113         -0.600098                0.0              1022.0   \n",
       "35114         -1.099609                0.0              1021.5   \n",
       "43893          2.000000                NaN                 NaN   \n",
       "43894          1.000000                NaN                 NaN   \n",
       "43895          3.000000                NaN                 NaN   \n",
       "43896          3.000000                NaN                 NaN   \n",
       "43897          4.000000                NaN                 NaN   \n",
       "...                 ...                ...                 ...   \n",
       "87608        -13.898438                0.0              1037.0   \n",
       "87609        -13.898438                0.0              1037.0   \n",
       "87610        -15.000000                0.0              1037.0   \n",
       "87611        -15.601562                0.0              1038.0   \n",
       "87612        -17.203125                0.0              1037.0   \n",
       "96390         -3.199219                NaN              1016.0   \n",
       "96391         -2.800781                NaN              1016.0   \n",
       "96392         -3.300781                NaN              1016.0   \n",
       "96393         -3.199219                NaN              1015.5   \n",
       "96394         -3.300781                NaN              1015.0   \n",
       "105004        -1.200195                NaN              1016.0   \n",
       "105005        -1.500000                NaN              1016.5   \n",
       "105006        -1.799805                NaN              1016.5   \n",
       "105007        -2.099609                NaN              1016.5   \n",
       "105008        -1.599609                NaN              1016.0   \n",
       "113759       -12.203125                NaN              1023.5   \n",
       "113760       -11.703125               -1.0              1023.5   \n",
       "113761       -11.101562               -1.0              1023.0   \n",
       "113762       -11.101562               -1.0              1022.5   \n",
       "113763       -10.601562                0.0              1023.0   \n",
       "122542        -0.600098                0.0              1019.5   \n",
       "122543        -0.600098                0.0              1019.5   \n",
       "122544        -1.099609                0.0              1019.5   \n",
       "122545        -2.199219                0.0              1019.0   \n",
       "122546        -2.199219                0.0              1019.0   \n",
       "131319        -1.000000                NaN                 NaN   \n",
       "131320        -1.000000                NaN                 NaN   \n",
       "131321        -2.000000                NaN                 NaN   \n",
       "131322        -3.000000                NaN                 NaN   \n",
       "131323        -3.000000                NaN                 NaN   \n",
       "\n",
       "        wind_direction  wind_speed  \n",
       "0                  0.0    0.000000  \n",
       "1                 70.0    1.500000  \n",
       "2                  0.0    0.000000  \n",
       "3                  0.0    0.000000  \n",
       "4                250.0    2.599609  \n",
       "8784             240.0    3.099609  \n",
       "8785             230.0    2.599609  \n",
       "8786               0.0    0.000000  \n",
       "8787             170.0    1.500000  \n",
       "8788             110.0    1.500000  \n",
       "17547            270.0    3.599609  \n",
       "17548            270.0    4.101562  \n",
       "17549            270.0    3.099609  \n",
       "17550            280.0    3.099609  \n",
       "17551            270.0    3.099609  \n",
       "26330            350.0    4.101562  \n",
       "26331            350.0    6.199219  \n",
       "26332             10.0    4.601562  \n",
       "26333            350.0    7.699219  \n",
       "26334            340.0    4.101562  \n",
       "35110            360.0    3.099609  \n",
       "35111              0.0    0.000000  \n",
       "35112             90.0    1.500000  \n",
       "35113              0.0    0.000000  \n",
       "35114            130.0    3.099609  \n",
       "43893            260.0    2.599609  \n",
       "43894              NaN    1.500000  \n",
       "43895            160.0    2.599609  \n",
       "43896            110.0    4.101562  \n",
       "43897            120.0    4.101562  \n",
       "...                ...         ...  \n",
       "87608              0.0    0.000000  \n",
       "87609              0.0    0.000000  \n",
       "87610            280.0    2.599609  \n",
       "87611            230.0    1.500000  \n",
       "87612            310.0    4.101562  \n",
       "96390            280.0    1.500000  \n",
       "96391            260.0    1.000000  \n",
       "96392            350.0    0.500000  \n",
       "96393            280.0    1.500000  \n",
       "96394            310.0    2.099609  \n",
       "105004           200.0    5.000000  \n",
       "105005           190.0    3.000000  \n",
       "105006           170.0    3.000000  \n",
       "105007           170.0    4.000000  \n",
       "105008           130.0    3.000000  \n",
       "113759           250.0    4.101562  \n",
       "113760           240.0    4.101562  \n",
       "113761           240.0    3.099609  \n",
       "113762           250.0    4.101562  \n",
       "113763           270.0    4.101562  \n",
       "122542           300.0    2.599609  \n",
       "122543           300.0    2.599609  \n",
       "122544             NaN    1.500000  \n",
       "122545           290.0    3.099609  \n",
       "122546           300.0    4.101562  \n",
       "131319           330.0    4.101562  \n",
       "131320           330.0    2.599609  \n",
       "131321           340.0    2.099609  \n",
       "131322           250.0    2.599609  \n",
       "131323           240.0    3.099609  \n",
       "\n",
       "[80 rows x 9 columns]"
      ]
     },
     "execution_count": 21,
     "metadata": {},
     "output_type": "execute_result"
    }
   ],
   "source": [
    "weather_by_site.head()"
   ]
  },
  {
   "cell_type": "code",
   "execution_count": 22,
   "metadata": {
    "scrolled": false
   },
   "outputs": [
    {
     "name": "stdout",
     "output_type": "stream",
     "text": [
      "SITE 0 ============\n",
      "site_id                0.000000\n",
      "timestamp              0.000000\n",
      "air_temperature        0.034153\n",
      "cloud_coverage        43.602004\n",
      "dew_temperature        0.034153\n",
      "precip_depth_1_hr      0.011384\n",
      "sea_level_pressure     0.967668\n",
      "wind_direction         2.846084\n",
      "wind_speed             0.000000\n",
      "dtype: float64\n",
      "\n",
      "\n",
      "SITE 1 ============\n",
      "site_id                 0.000000\n",
      "timestamp               0.000000\n",
      "air_temperature         0.011412\n",
      "cloud_coverage         80.588839\n",
      "dew_temperature         0.011412\n",
      "precip_depth_1_hr     100.000000\n",
      "sea_level_pressure      0.593404\n",
      "wind_direction          0.034235\n",
      "wind_speed              0.000000\n",
      "dtype: float64\n",
      "\n",
      "\n",
      "SITE 2 ============\n",
      "site_id                0.000000\n",
      "timestamp              0.000000\n",
      "air_temperature        0.011386\n",
      "cloud_coverage        26.801776\n",
      "dew_temperature        0.011386\n",
      "precip_depth_1_hr      0.751452\n",
      "sea_level_pressure     0.500968\n",
      "wind_direction         6.728908\n",
      "wind_speed             0.056928\n",
      "dtype: float64\n",
      "\n",
      "\n",
      "SITE 3 ============\n",
      "site_id                0.000000\n",
      "timestamp              0.000000\n",
      "air_temperature        0.045558\n",
      "cloud_coverage        41.480638\n",
      "dew_temperature        0.068337\n",
      "precip_depth_1_hr      0.421412\n",
      "sea_level_pressure     1.799544\n",
      "wind_direction         1.742597\n",
      "wind_speed             0.045558\n",
      "dtype: float64\n",
      "\n",
      "\n",
      "SITE 4 ============\n",
      "site_id                0.000000\n",
      "timestamp              0.000000\n",
      "air_temperature        0.000000\n",
      "cloud_coverage        48.161221\n",
      "dew_temperature        0.022771\n",
      "precip_depth_1_hr     14.994876\n",
      "sea_level_pressure     0.831151\n",
      "wind_direction         1.195491\n",
      "wind_speed             0.000000\n",
      "dtype: float64\n",
      "\n",
      "\n",
      "SITE 5 ============\n",
      "site_id                 0.000000\n",
      "timestamp               0.000000\n",
      "air_temperature         0.022844\n",
      "cloud_coverage         68.874929\n",
      "dew_temperature         0.022844\n",
      "precip_depth_1_hr     100.000000\n",
      "sea_level_pressure    100.000000\n",
      "wind_direction          3.369503\n",
      "wind_speed              0.034266\n",
      "dtype: float64\n",
      "\n",
      "\n",
      "SITE 6 ============\n",
      "site_id                0.000000\n",
      "timestamp              0.000000\n",
      "air_temperature        0.113869\n",
      "cloud_coverage        34.069688\n",
      "dew_temperature        0.113869\n",
      "precip_depth_1_hr      0.000000\n",
      "sea_level_pressure     1.992712\n",
      "wind_direction         8.870417\n",
      "wind_speed             0.444090\n",
      "dtype: float64\n",
      "\n",
      "\n",
      "SITE 7 ============\n",
      "site_id                 0.000000\n",
      "timestamp               0.000000\n",
      "air_temperature         0.000000\n",
      "cloud_coverage        100.000000\n",
      "dew_temperature         0.267007\n",
      "precip_depth_1_hr      91.513815\n",
      "sea_level_pressure      0.092872\n",
      "wind_direction          0.000000\n",
      "wind_speed              0.000000\n",
      "dtype: float64\n",
      "\n",
      "\n",
      "SITE 8 ============\n",
      "site_id                0.000000\n",
      "timestamp              0.000000\n",
      "air_temperature        0.034153\n",
      "cloud_coverage        43.602004\n",
      "dew_temperature        0.034153\n",
      "precip_depth_1_hr      0.011384\n",
      "sea_level_pressure     0.967668\n",
      "wind_direction         2.846084\n",
      "wind_speed             0.000000\n",
      "dtype: float64\n",
      "\n",
      "\n",
      "SITE 9 ============\n",
      "site_id                0.000000\n",
      "timestamp              0.000000\n",
      "air_temperature        0.056948\n",
      "cloud_coverage        39.384966\n",
      "dew_temperature        0.079727\n",
      "precip_depth_1_hr      0.079727\n",
      "sea_level_pressure     2.722096\n",
      "wind_direction        29.134396\n",
      "wind_speed             1.104784\n",
      "dtype: float64\n",
      "\n",
      "\n",
      "SITE 10 ============\n",
      "site_id                0.000000\n",
      "timestamp              0.000000\n",
      "air_temperature        0.273286\n",
      "cloud_coverage        27.897973\n",
      "dew_temperature        0.307447\n",
      "precip_depth_1_hr      0.307447\n",
      "sea_level_pressure     1.605557\n",
      "wind_direction         6.080619\n",
      "wind_speed             1.184240\n",
      "dtype: float64\n",
      "\n",
      "\n",
      "SITE 11 ============\n",
      "site_id                 0.000000\n",
      "timestamp               0.000000\n",
      "air_temperature         0.000000\n",
      "cloud_coverage        100.000000\n",
      "dew_temperature         0.267007\n",
      "precip_depth_1_hr      91.513815\n",
      "sea_level_pressure      0.092872\n",
      "wind_direction          0.000000\n",
      "wind_speed              0.000000\n",
      "dtype: float64\n",
      "\n",
      "\n",
      "SITE 12 ============\n",
      "site_id                 0.000000\n",
      "timestamp               0.000000\n",
      "air_temperature         0.000000\n",
      "cloud_coverage          0.673901\n",
      "dew_temperature         0.000000\n",
      "precip_depth_1_hr     100.000000\n",
      "sea_level_pressure      0.639634\n",
      "wind_direction          0.011422\n",
      "wind_speed              0.000000\n",
      "dtype: float64\n",
      "\n",
      "\n",
      "SITE 13 ============\n",
      "site_id                0.000000\n",
      "timestamp              0.000000\n",
      "air_temperature        0.011386\n",
      "cloud_coverage        48.935443\n",
      "dew_temperature        0.011386\n",
      "precip_depth_1_hr      0.136628\n",
      "sea_level_pressure     1.366276\n",
      "wind_direction         2.470682\n",
      "wind_speed             0.011386\n",
      "dtype: float64\n",
      "\n",
      "\n",
      "SITE 14 ============\n",
      "site_id                0.000000\n",
      "timestamp              0.000000\n",
      "air_temperature        0.011393\n",
      "cloud_coverage        37.723596\n",
      "dew_temperature        0.011393\n",
      "precip_depth_1_hr      0.353196\n",
      "sea_level_pressure     1.253276\n",
      "wind_direction         3.304090\n",
      "wind_speed             0.262049\n",
      "dtype: float64\n",
      "\n",
      "\n",
      "SITE 15 ============\n",
      "site_id                0.000000\n",
      "timestamp              0.000000\n",
      "air_temperature        0.000000\n",
      "cloud_coverage        52.034540\n",
      "dew_temperature        0.035486\n",
      "precip_depth_1_hr     79.855690\n",
      "sea_level_pressure     6.020819\n",
      "wind_direction         2.862550\n",
      "wind_speed             0.331204\n",
      "dtype: float64\n",
      "\n",
      "\n"
     ]
    }
   ],
   "source": [
    "site_list = weather_train['site_id'].unique()\n",
    "\n",
    "for site in site_list:\n",
    "    print('SITE {} ============'.format(site))\n",
    "    print(weather_train.loc[weather_train['site_id'] == site, :].isna().sum()\n",
    "          /weather_train.loc[weather_train['site_id'] == site, :].shape[0]*100)\n",
    "    print('\\n')"
   ]
  },
  {
   "cell_type": "code",
   "execution_count": 23,
   "metadata": {},
   "outputs": [
    {
     "data": {
      "text/plain": [
       "8780"
      ]
     },
     "execution_count": 23,
     "metadata": {},
     "output_type": "execute_result"
    }
   ],
   "source": [
    "weather_train.loc[weather_train['site_id'] == 3, :].shape[0]"
   ]
  },
  {
   "cell_type": "code",
   "execution_count": 24,
   "metadata": {
    "scrolled": false
   },
   "outputs": [
    {
     "data": {
      "image/png": "[encoded data removed]",
      "text/plain": [
       "<Figure size 648x360 with 2 Axes>"
      ]
     },
     "metadata": {
      "needs_background": "light"
     },
     "output_type": "display_data"
    },
    {
     "data": {
      "image/png": "[encoded data removed]",
      "text/plain": [
       "<Figure size 648x360 with 2 Axes>"
      ]
     },
     "metadata": {
      "needs_background": "light"
     },
     "output_type": "display_data"
    },
    {
     "data": {
      "image/png": "[encoded data removed]",
      "text/plain": [
       "<Figure size 648x360 with 2 Axes>"
      ]
     },
     "metadata": {
      "needs_background": "light"
     },
     "output_type": "display_data"
    },
    {
     "data": {
      "image/png": "[encoded data removed]",
      "text/plain": [
       "<Figure size 648x360 with 2 Axes>"
      ]
     },
     "metadata": {
      "needs_background": "light"
     },
     "output_type": "display_data"
    },
    {
     "data": {
      "image/png": "[encoded data removed]",
      "text/plain": [
       "<Figure size 648x360 with 2 Axes>"
      ]
     },
     "metadata": {
      "needs_background": "light"
     },
     "output_type": "display_data"
    },
    {
     "data": {
      "image/png": "[encoded data removed]",
      "text/plain": [
       "<Figure size 648x360 with 2 Axes>"
      ]
     },
     "metadata": {
      "needs_background": "light"
     },
     "output_type": "display_data"
    },
    {
     "data": {
      "image/png": "[encoded data removed]",
      "text/plain": [
       "<Figure size 648x360 with 2 Axes>"
      ]
     },
     "metadata": {
      "needs_background": "light"
     },
     "output_type": "display_data"
    },
    {
     "data": {
      "image/png": "[encoded data removed]",
      "text/plain": [
       "<Figure size 648x360 with 2 Axes>"
      ]
     },
     "metadata": {
      "needs_background": "light"
     },
     "output_type": "display_data"
    },
    {
     "data": {
      "image/png": "[encoded data removed]",
      "text/plain": [
       "<Figure size 648x360 with 2 Axes>"
      ]
     },
     "metadata": {
      "needs_background": "light"
     },
     "output_type": "display_data"
    },
    {
     "data": {
      "image/png": "[encoded data removed]",
      "text/plain": [
       "<Figure size 648x360 with 2 Axes>"
      ]
     },
     "metadata": {
      "needs_background": "light"
     },
     "output_type": "display_data"
    },
    {
     "data": {
      "image/png": "[encoded data removed]",
      "text/plain": [
       "<Figure size 648x360 with 2 Axes>"
      ]
     },
     "metadata": {
      "needs_background": "light"
     },
     "output_type": "display_data"
    },
    {
     "data": {
      "image/png": "[encoded data removed]",
      "text/plain": [
       "<Figure size 648x360 with 2 Axes>"
      ]
     },
     "metadata": {
      "needs_background": "light"
     },
     "output_type": "display_data"
    },
    {
     "data": {
      "image/png": "[encoded data removed]",
      "text/plain": [
       "<Figure size 648x360 with 2 Axes>"
      ]
     },
     "metadata": {
      "needs_background": "light"
     },
     "output_type": "display_data"
    },
    {
     "data": {
      "image/png": "[encoded data removed]",
      "text/plain": [
       "<Figure size 648x360 with 2 Axes>"
      ]
     },
     "metadata": {
      "needs_background": "light"
     },
     "output_type": "display_data"
    },
    {
     "data": {
      "image/png": "[encoded data removed]",
      "text/plain": [
       "<Figure size 648x360 with 2 Axes>"
      ]
     },
     "metadata": {
      "needs_background": "light"
     },
     "output_type": "display_data"
    },
    {
     "data": {
      "image/png": "[encoded data removed]",
      "text/plain": [
       "<Figure size 648x360 with 2 Axes>"
      ]
     },
     "metadata": {
      "needs_background": "light"
     },
     "output_type": "display_data"
    }
   ],
   "source": [
    "for site in site_list:\n",
    "    msno.matrix(weather_train.loc[weather_train['site_id'] == site, :], figsize=(9,5), fontsize=10)"
   ]
  },
  {
   "cell_type": "code",
   "execution_count": null,
   "metadata": {
    "scrolled": true
   },
   "outputs": [],
   "source": [
    "for site in site_list:\n",
    "    msno.heatmap(weather_train.loc[weather_train['site_id'] == site, :], figsize=(9,5), fontsize=10)"
   ]
  },
  {
   "cell_type": "code",
   "execution_count": null,
   "metadata": {
    "scrolled": true
   },
   "outputs": [],
   "source": [
    "corr = weather_by_site.corr()\n",
    "corr.style.background_gradient(cmap='coolwarm')"
   ]
  },
  {
   "cell_type": "code",
   "execution_count": 26,
   "metadata": {},
   "outputs": [
    {
     "ename": "NameError",
     "evalue": "name 'df' is not defined",
     "output_type": "error",
     "traceback": [
      "\u001b[1;31m---------------------------------------------------------------------------\u001b[0m",
      "\u001b[1;31mNameError\u001b[0m                                 Traceback (most recent call last)",
      "\u001b[1;32m<ipython-input-26-fb40f6a0342b>\u001b[0m in \u001b[0;36m<module>\u001b[1;34m()\u001b[0m\n\u001b[1;32m----> 1\u001b[1;33m \u001b[1;33m(\u001b[0m\u001b[0mdf\u001b[0m\u001b[1;33m.\u001b[0m\u001b[0misna\u001b[0m\u001b[1;33m(\u001b[0m\u001b[1;33m)\u001b[0m\u001b[1;33m.\u001b[0m\u001b[0msum\u001b[0m\u001b[1;33m(\u001b[0m\u001b[1;33m)\u001b[0m\u001b[1;33m/\u001b[0m\u001b[0mdf\u001b[0m\u001b[1;33m.\u001b[0m\u001b[0mshape\u001b[0m\u001b[1;33m[\u001b[0m\u001b[1;36m0\u001b[0m\u001b[1;33m]\u001b[0m\u001b[1;33m)\u001b[0m\u001b[1;33m*\u001b[0m\u001b[1;36m100\u001b[0m\u001b[1;33m\u001b[0m\u001b[0m\n\u001b[0m",
      "\u001b[1;31mNameError\u001b[0m: name 'df' is not defined"
     ]
    }
   ],
   "source": [
    "(df.isna().sum()/df.shape[0])*100"
   ]
  },
  {
   "cell_type": "code",
   "execution_count": 25,
   "metadata": {
    "scrolled": false
   },
   "outputs": [
    {
     "data": {
      "text/plain": [
       "59820"
      ]
     },
     "execution_count": 25,
     "metadata": {},
     "output_type": "execute_result"
    }
   ],
   "source": [
    "gc.collect()"
   ]
  },
  {
   "cell_type": "code",
   "execution_count": null,
   "metadata": {},
   "outputs": [],
   "source": [
    "df.groupby('building_id').count()"
   ]
  },
  {
   "cell_type": "code",
   "execution_count": null,
   "metadata": {},
   "outputs": [],
   "source": [
    "df_by_building = df.groupby('building_id')\n",
    "del(df_by_building)"
   ]
  },
  {
   "cell_type": "code",
   "execution_count": null,
   "metadata": {},
   "outputs": [],
   "source": [
    "df.loc[df['building_id']==1000,:].head()"
   ]
  },
  {
   "cell_type": "code",
   "execution_count": null,
   "metadata": {},
   "outputs": [],
   "source": [
    "weather_train['air_temperature'].describe()"
   ]
  },
  {
   "cell_type": "code",
   "execution_count": null,
   "metadata": {},
   "outputs": [],
   "source": [
    "weather_train.loc[weather_train['air_temperature'] > 47, 'site_id']"
   ]
  },
  {
   "cell_type": "code",
   "execution_count": 27,
   "metadata": {},
   "outputs": [
    {
     "data": {
      "text/html": [
       "<div>\n",
       "<style scoped>\n",
       "    .dataframe tbody tr th:only-of-type {\n",
       "        vertical-align: middle;\n",
       "    }\n",
       "\n",
       "    .dataframe tbody tr th {\n",
       "        vertical-align: top;\n",
       "    }\n",
       "\n",
       "    .dataframe thead th {\n",
       "        text-align: right;\n",
       "    }\n",
       "</style>\n",
       "<table border=\"1\" class=\"dataframe\">\n",
       "  <thead>\n",
       "    <tr style=\"text-align: right;\">\n",
       "      <th></th>\n",
       "      <th>site_id</th>\n",
       "      <th>timestamp</th>\n",
       "      <th>air_temperature</th>\n",
       "      <th>cloud_coverage</th>\n",
       "      <th>dew_temperature</th>\n",
       "      <th>precip_depth_1_hr</th>\n",
       "      <th>sea_level_pressure</th>\n",
       "      <th>wind_direction</th>\n",
       "      <th>wind_speed</th>\n",
       "    </tr>\n",
       "  </thead>\n",
       "  <tbody>\n",
       "    <tr>\n",
       "      <th>21649</th>\n",
       "      <td>2</td>\n",
       "      <td>2016-06-19 22:00:00</td>\n",
       "      <td>47.1875</td>\n",
       "      <td>2.0</td>\n",
       "      <td>-0.600098</td>\n",
       "      <td>0.0</td>\n",
       "      <td>1005.0</td>\n",
       "      <td>NaN</td>\n",
       "      <td>2.599609</td>\n",
       "    </tr>\n",
       "    <tr>\n",
       "      <th>21650</th>\n",
       "      <td>2</td>\n",
       "      <td>2016-06-19 23:00:00</td>\n",
       "      <td>47.1875</td>\n",
       "      <td>2.0</td>\n",
       "      <td>-2.199219</td>\n",
       "      <td>0.0</td>\n",
       "      <td>1004.0</td>\n",
       "      <td>NaN</td>\n",
       "      <td>2.599609</td>\n",
       "    </tr>\n",
       "    <tr>\n",
       "      <th>21651</th>\n",
       "      <td>2</td>\n",
       "      <td>2016-06-20 00:00:00</td>\n",
       "      <td>47.1875</td>\n",
       "      <td>2.0</td>\n",
       "      <td>-1.099609</td>\n",
       "      <td>0.0</td>\n",
       "      <td>1003.5</td>\n",
       "      <td>NaN</td>\n",
       "      <td>2.099609</td>\n",
       "    </tr>\n",
       "    <tr>\n",
       "      <th>21652</th>\n",
       "      <td>2</td>\n",
       "      <td>2016-06-20 01:00:00</td>\n",
       "      <td>47.1875</td>\n",
       "      <td>2.0</td>\n",
       "      <td>-1.099609</td>\n",
       "      <td>0.0</td>\n",
       "      <td>1003.0</td>\n",
       "      <td>300.0</td>\n",
       "      <td>5.699219</td>\n",
       "    </tr>\n",
       "  </tbody>\n",
       "</table>\n",
       "</div>"
      ],
      "text/plain": [
       "       site_id            timestamp  air_temperature  cloud_coverage  \\\n",
       "21649        2  2016-06-19 22:00:00          47.1875             2.0   \n",
       "21650        2  2016-06-19 23:00:00          47.1875             2.0   \n",
       "21651        2  2016-06-20 00:00:00          47.1875             2.0   \n",
       "21652        2  2016-06-20 01:00:00          47.1875             2.0   \n",
       "\n",
       "       dew_temperature  precip_depth_1_hr  sea_level_pressure  wind_direction  \\\n",
       "21649        -0.600098                0.0              1005.0             NaN   \n",
       "21650        -2.199219                0.0              1004.0             NaN   \n",
       "21651        -1.099609                0.0              1003.5             NaN   \n",
       "21652        -1.099609                0.0              1003.0           300.0   \n",
       "\n",
       "       wind_speed  \n",
       "21649    2.599609  \n",
       "21650    2.599609  \n",
       "21651    2.099609  \n",
       "21652    5.699219  "
      ]
     },
     "execution_count": 27,
     "metadata": {},
     "output_type": "execute_result"
    }
   ],
   "source": [
    "weather_train.loc[(weather_train['site_id']==2) & (weather_train['air_temperature'] > 47), :].head()"
   ]
  },
  {
   "cell_type": "markdown",
   "metadata": {},
   "source": [
    "## Testing methods for filling gaps in `weather_train` data set\n",
    "### Method 1: Interpolation with `interpolate()`"
   ]
  },
  {
   "cell_type": "code",
   "execution_count": 6,
   "metadata": {},
   "outputs": [],
   "source": [
    "weather_site12 = weather_train.loc[weather_train['site_id'] == 12, :]"
   ]
  },
  {
   "cell_type": "code",
   "execution_count": 7,
   "metadata": {},
   "outputs": [
    {
     "data": {
      "text/plain": [
       "site_id                  0\n",
       "timestamp                0\n",
       "air_temperature          0\n",
       "cloud_coverage          59\n",
       "dew_temperature          0\n",
       "precip_depth_1_hr     8755\n",
       "sea_level_pressure      56\n",
       "wind_direction           1\n",
       "wind_speed               0\n",
       "dtype: int64"
      ]
     },
     "execution_count": 7,
     "metadata": {},
     "output_type": "execute_result"
    }
   ],
   "source": [
    "weather_site12.isna().sum()"
   ]
  },
  {
   "cell_type": "markdown",
   "metadata": {},
   "source": [
    "Imputation of 10 NaNs randomly"
   ]
  },
  {
   "cell_type": "code",
   "execution_count": 33,
   "metadata": {},
   "outputs": [],
   "source": [
    "# Set 'timestamp' as index\n",
    "weather12 = weather_site12.copy()\n",
    "weather12['timestamp'] = pd.to_datetime(weather12['timestamp'])\n",
    "weather12.index = weather12['timestamp']"
   ]
  },
  {
   "cell_type": "code",
   "execution_count": 9,
   "metadata": {},
   "outputs": [
    {
     "data": {
      "text/plain": [
       "DatetimeIndex(['2016-09-09 05:00:00', '2016-05-08 01:00:00',\n",
       "               '2016-05-07 10:00:00', '2016-07-11 15:00:00',\n",
       "               '2016-03-04 17:00:00', '2016-02-27 22:00:00',\n",
       "               '2016-05-11 23:00:00', '2016-06-26 03:00:00',\n",
       "               '2016-07-17 16:00:00', '2016-12-23 11:00:00'],\n",
       "              dtype='datetime64[ns]', name='timestamp', freq=None)"
      ]
     },
     "execution_count": 9,
     "metadata": {},
     "output_type": "execute_result"
    }
   ],
   "source": [
    "weather12.sample(n=10, replace=False, random_state=1).index"
   ]
  },
  {
   "cell_type": "code",
   "execution_count": 10,
   "metadata": {},
   "outputs": [],
   "source": [
    "weather12_with_nans = weather12.copy()\n",
    "nan_indexes = weather12.sample(n=10, replace=False, random_state=1).index"
   ]
  },
  {
   "cell_type": "code",
   "execution_count": null,
   "metadata": {},
   "outputs": [],
   "source": [
    "nan_indexes"
   ]
  },
  {
   "cell_type": "code",
   "execution_count": 11,
   "metadata": {},
   "outputs": [],
   "source": [
    "weather12_with_nans.loc[nan_indexes, 'air_temperature'] = np.nan"
   ]
  },
  {
   "cell_type": "code",
   "execution_count": 12,
   "metadata": {},
   "outputs": [
    {
     "data": {
      "text/plain": [
       "site_id                  0\n",
       "timestamp                0\n",
       "air_temperature         10\n",
       "cloud_coverage          59\n",
       "dew_temperature          0\n",
       "precip_depth_1_hr     8755\n",
       "sea_level_pressure      56\n",
       "wind_direction           1\n",
       "wind_speed               0\n",
       "dtype: int64"
      ]
     },
     "execution_count": 12,
     "metadata": {},
     "output_type": "execute_result"
    }
   ],
   "source": [
    "weather12_with_nans.isna().sum()"
   ]
  },
  {
   "cell_type": "markdown",
   "metadata": {},
   "source": [
    "#### Method `time`"
   ]
  },
  {
   "cell_type": "code",
   "execution_count": 13,
   "metadata": {},
   "outputs": [],
   "source": [
    "weather12_with_nans['air_temperature'].interpolate(method='time', inplace=True)"
   ]
  },
  {
   "cell_type": "code",
   "execution_count": 14,
   "metadata": {},
   "outputs": [
    {
     "data": {
      "text/plain": [
       "site_id                  0\n",
       "timestamp                0\n",
       "air_temperature          0\n",
       "cloud_coverage          59\n",
       "dew_temperature          0\n",
       "precip_depth_1_hr     8755\n",
       "sea_level_pressure      56\n",
       "wind_direction           1\n",
       "wind_speed               0\n",
       "dtype: int64"
      ]
     },
     "execution_count": 14,
     "metadata": {},
     "output_type": "execute_result"
    }
   ],
   "source": [
    "weather12_with_nans.isna().sum()"
   ]
  },
  {
   "cell_type": "code",
   "execution_count": 15,
   "metadata": {},
   "outputs": [],
   "source": [
    "aprox = weather12_with_nans.loc[list(nan_indexes), 'air_temperature']"
   ]
  },
  {
   "cell_type": "code",
   "execution_count": 16,
   "metadata": {},
   "outputs": [],
   "source": [
    "real = weather12.loc[list(nan_indexes), 'air_temperature']"
   ]
  },
  {
   "cell_type": "code",
   "execution_count": 23,
   "metadata": {},
   "outputs": [],
   "source": [
    "error = (abs(aprox - real)/real) * 100"
   ]
  },
  {
   "cell_type": "code",
   "execution_count": 30,
   "metadata": {},
   "outputs": [
    {
     "data": {
      "text/plain": [
       "6.75"
      ]
     },
     "execution_count": 30,
     "metadata": {},
     "output_type": "execute_result"
    }
   ],
   "source": [
    "np.median(error)\n",
    "np.mean(error)"
   ]
  },
  {
   "cell_type": "markdown",
   "metadata": {},
   "source": [
    "#### Method `linear`"
   ]
  },
  {
   "cell_type": "code",
   "execution_count": null,
   "metadata": {},
   "outputs": [],
   "source": [
    "weather12_with_nans['air_temperature'].interpolate(method='linear', inplace=True)"
   ]
  },
  {
   "cell_type": "code",
   "execution_count": null,
   "metadata": {},
   "outputs": [],
   "source": [
    "abs(weather12_with_nans.loc[list(nan_indexes), 'air_temperature'] -weather12.loc[list(nan_indexes), 'air_temperature'])"
   ]
  },
  {
   "cell_type": "markdown",
   "metadata": {},
   "source": [
    "#### Method `quadratic`"
   ]
  },
  {
   "cell_type": "code",
   "execution_count": null,
   "metadata": {},
   "outputs": [],
   "source": [
    "weather12_with_nans['air_temperature'].interpolate(method='quadratic', inplace=True)"
   ]
  },
  {
   "cell_type": "code",
   "execution_count": null,
   "metadata": {},
   "outputs": [],
   "source": [
    "abs(weather12_with_nans.loc[list(nan_indexes), 'air_temperature'] -weather12.loc[list(nan_indexes), 'air_temperature'])"
   ]
  },
  {
   "cell_type": "markdown",
   "metadata": {},
   "source": [
    "#### Method `cubic`"
   ]
  },
  {
   "cell_type": "code",
   "execution_count": null,
   "metadata": {},
   "outputs": [],
   "source": [
    "weather12_with_nans.loc[nan_indexes, 'air_temperature'] = np.nan"
   ]
  },
  {
   "cell_type": "code",
   "execution_count": null,
   "metadata": {},
   "outputs": [],
   "source": [
    "weather12_with_nans['air_temperature'].interpolate(method='cubic', inplace=True)"
   ]
  },
  {
   "cell_type": "code",
   "execution_count": null,
   "metadata": {},
   "outputs": [],
   "source": [
    "abs(weather12_with_nans.loc[list(nan_indexes), 'air_temperature'] -weather12.loc[list(nan_indexes), 'air_temperature'])"
   ]
  },
  {
   "cell_type": "markdown",
   "metadata": {},
   "source": [
    "#### Method `spline`"
   ]
  },
  {
   "cell_type": "code",
   "execution_count": null,
   "metadata": {},
   "outputs": [],
   "source": [
    "weather12_with_nans.loc[nan_indexes, 'air_temperature'] = np.nan"
   ]
  },
  {
   "cell_type": "code",
   "execution_count": null,
   "metadata": {},
   "outputs": [],
   "source": [
    "weather12_with_nans['air_temperature'].interpolate(method='spline', order=3, inplace=True)"
   ]
  },
  {
   "cell_type": "code",
   "execution_count": null,
   "metadata": {},
   "outputs": [],
   "source": [
    "abs(weather12_with_nans.loc[list(nan_indexes), 'air_temperature'] -weather12.loc[list(nan_indexes), 'air_temperature'])"
   ]
  },
  {
   "cell_type": "markdown",
   "metadata": {},
   "source": [
    "#### Method `polynomial`"
   ]
  },
  {
   "cell_type": "code",
   "execution_count": null,
   "metadata": {},
   "outputs": [],
   "source": [
    "weather12_with_nans.loc[nan_indexes, 'air_temperature'] = np.nan"
   ]
  },
  {
   "cell_type": "code",
   "execution_count": null,
   "metadata": {},
   "outputs": [],
   "source": [
    "weather12_with_nans['air_temperature'].interpolate(method='polynomial', order=5, inplace=True)"
   ]
  },
  {
   "cell_type": "code",
   "execution_count": null,
   "metadata": {},
   "outputs": [],
   "source": [
    "abs(weather12_with_nans.loc[list(nan_indexes), 'air_temperature'] -weather12.loc[list(nan_indexes), 'air_temperature'])"
   ]
  },
  {
   "cell_type": "markdown",
   "metadata": {},
   "source": [
    "The most accurate is the `time` method (or the linear, which returns exactly the same results)."
   ]
  },
  {
   "cell_type": "markdown",
   "metadata": {},
   "source": [
    "### Function to automate the tests of `interpolate()`"
   ]
  },
  {
   "cell_type": "code",
   "execution_count": 63,
   "metadata": {},
   "outputs": [],
   "source": [
    "def make_ts_index(df, timeCol):\n",
    "\n",
    "    df_cpy = df.copy()\n",
    "    df_cpy[timeCol] = pd.to_datetime(df_cpy[timeCol])\n",
    "    df_cpy.index = df_cpy[timeCol]\n",
    "    \n",
    "    return df_cpy"
   ]
  },
  {
   "cell_type": "code",
   "execution_count": 59,
   "metadata": {},
   "outputs": [],
   "source": [
    "def test_interpolate_methods(df, col, methods, n, order):\n",
    "    '''\n",
    "      Function to test several methods of the interpolate() pandas method\n",
    "      for imputing NaN/NULL values. Inputs:\n",
    "          - df: data frame with no missing values in the column we want to test.\n",
    "          - col: string with the name of the variable.\n",
    "          - methods: list of interpolate methods to test.\n",
    "          - n: number of NaNs to be randomly imputed in the original data ts.\n",
    "          - order: order for spline/polynomial methods.\n",
    "    '''\n",
    "    df_cpy = df.copy()\n",
    "    \n",
    "    # Random selection of the time indexes \n",
    "    indexes = df_cpy.sample(n, replace=False, random_state=1).index\n",
    "    \n",
    "    # Imput nan's in a copy of the original ts\n",
    "    df_cpy.loc[nan_indexes, col] = np.nan\n",
    "    \n",
    "    for m in methods:\n",
    "        if m in ['spline','polynomial']:\n",
    "            df_cpy[col].interpolate(method=m, order=order, inplace=True)         \n",
    "        else:\n",
    "            # Interpolation\n",
    "            df_cpy[col].interpolate(method=m, inplace=True)\n",
    "\n",
    "            # Error calculation\n",
    "            aprox = df_cpy.loc[list(nan_indexes), col]\n",
    "            real = df.loc[list(nan_indexes), col]\n",
    "            error_vec = (abs(aprox - real)/real) * 100\n",
    "            err_mean = np.mean(error_vec)\n",
    "            err_median = np.median(error_vec)\n",
    "\n",
    "            # Set back the NaN's for the next method\n",
    "            df_cpy.loc[nan_indexes, col] = np.nan\n",
    "            \n",
    "        print('Method {}:'.format(m))\n",
    "        print('Error vector:', error_vec)\n",
    "        print('Mean error: {0:.2f}'.format(err_mean))\n",
    "        print('Median error: {0:.2f}'.format(err_median))\n",
    "        print('===================================')"
   ]
  },
  {
   "cell_type": "code",
   "execution_count": 60,
   "metadata": {},
   "outputs": [
    {
     "name": "stdout",
     "output_type": "stream",
     "text": [
      "Method linear:\n",
      "Error vector: timestamp\n",
      "2016-09-09 05:00:00     3.906250\n",
      "2016-05-08 01:00:00     3.589844\n",
      "2016-05-07 10:00:00     3.347656\n",
      "2016-07-11 15:00:00     5.570312\n",
      "2016-03-04 17:00:00     0.000000\n",
      "2016-02-27 22:00:00    37.500000\n",
      "2016-05-11 23:00:00     6.757812\n",
      "2016-06-26 03:00:00     1.302734\n",
      "2016-07-17 16:00:00     4.105469\n",
      "2016-12-23 11:00:00     1.447266\n",
      "Name: air_temperature, dtype: float16\n",
      "Mean error: 6.75\n",
      "Median error: 3.75\n",
      "===================================\n",
      "Method time:\n",
      "Error vector: timestamp\n",
      "2016-09-09 05:00:00     3.906250\n",
      "2016-05-08 01:00:00     3.589844\n",
      "2016-05-07 10:00:00     3.347656\n",
      "2016-07-11 15:00:00     5.570312\n",
      "2016-03-04 17:00:00     0.000000\n",
      "2016-02-27 22:00:00    37.500000\n",
      "2016-05-11 23:00:00     6.757812\n",
      "2016-06-26 03:00:00     1.302734\n",
      "2016-07-17 16:00:00     4.105469\n",
      "2016-12-23 11:00:00     1.447266\n",
      "Name: air_temperature, dtype: float16\n",
      "Mean error: 6.75\n",
      "Median error: 3.75\n",
      "===================================\n",
      "Method quadratic:\n",
      "Error vector: timestamp\n",
      "2016-09-09 05:00:00     0.732422\n",
      "2016-05-08 01:00:00     4.714844\n",
      "2016-05-07 10:00:00     3.177734\n",
      "2016-07-11 15:00:00     0.997070\n",
      "2016-03-04 17:00:00     4.835938\n",
      "2016-02-27 22:00:00    57.656250\n",
      "2016-05-11 23:00:00     8.609375\n",
      "2016-06-26 03:00:00     1.713867\n",
      "2016-07-17 16:00:00     5.113281\n",
      "2016-12-23 11:00:00     9.257812\n",
      "Name: air_temperature, dtype: float16\n",
      "Mean error: 9.68\n",
      "Median error: 4.77\n",
      "===================================\n",
      "Method cubic:\n",
      "Error vector: timestamp\n",
      "2016-09-09 05:00:00     0.366211\n",
      "2016-05-08 01:00:00     4.644531\n",
      "2016-05-07 10:00:00     3.177734\n",
      "2016-07-11 15:00:00     0.332520\n",
      "2016-03-04 17:00:00     5.031250\n",
      "2016-02-27 22:00:00    60.937500\n",
      "2016-05-11 23:00:00     9.007812\n",
      "2016-06-26 03:00:00     1.919922\n",
      "2016-07-17 16:00:00     5.183594\n",
      "2016-12-23 11:00:00    10.421875\n",
      "Name: air_temperature, dtype: float16\n",
      "Mean error: 10.10\n",
      "Median error: 4.84\n",
      "===================================\n",
      "Method spline:\n",
      "Error vector: timestamp\n",
      "2016-09-09 05:00:00     0.366211\n",
      "2016-05-08 01:00:00     4.644531\n",
      "2016-05-07 10:00:00     3.177734\n",
      "2016-07-11 15:00:00     0.332520\n",
      "2016-03-04 17:00:00     5.031250\n",
      "2016-02-27 22:00:00    60.937500\n",
      "2016-05-11 23:00:00     9.007812\n",
      "2016-06-26 03:00:00     1.919922\n",
      "2016-07-17 16:00:00     5.183594\n",
      "2016-12-23 11:00:00    10.421875\n",
      "Name: air_temperature, dtype: float16\n",
      "Mean error: 10.10\n",
      "Median error: 4.84\n",
      "===================================\n"
     ]
    }
   ],
   "source": [
    "methods = ['linear', 'time', 'quadratic', 'cubic', 'spline']\n",
    "test_interpolate_methods(weather12, 'air_temperature', methods, 10, 3)"
   ]
  },
  {
   "cell_type": "code",
   "execution_count": null,
   "metadata": {},
   "outputs": [],
   "source": []
  }
 ],
 "metadata": {
  "kernelspec": {
   "display_name": "Python 3",
   "language": "python",
   "name": "python3"
  },
  "language_info": {
   "codemirror_mode": {
    "name": "ipython",
    "version": 3
   },
   "file_extension": ".py",
   "mimetype": "text/x-python",
   "name": "python",
   "nbconvert_exporter": "python",
   "pygments_lexer": "ipython3",
   "version": "3.6.4"
  }
 },
 "nbformat": 4,
 "nbformat_minor": 2
}
