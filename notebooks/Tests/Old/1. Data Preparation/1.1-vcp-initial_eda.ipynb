{
 "cells": [
  {
   "cell_type": "markdown",
   "metadata": {},
   "source": [
    "# Initial Exploratory Data Analysis"
   ]
  },
  {
   "cell_type": "code",
   "execution_count": 1,
   "metadata": {},
   "outputs": [
    {
     "data": {
      "text/html": [
       "        <script type=\"text/javascript\">\n",
       "        window.PlotlyConfig = {MathJaxConfig: 'local'};\n",
       "        if (window.MathJax) {MathJax.Hub.Config({SVG: {font: \"STIX-Web\"}});}\n",
       "        if (typeof require !== 'undefined') {\n",
       "        require.undef(\"plotly\");\n",
       "        requirejs.config({\n",
       "            paths: {\n",
       "                'plotly': ['https://cdn.plot.ly/plotly-latest.min']\n",
       "            }\n",
       "        });\n",
       "        require(['plotly'], function(Plotly) {\n",
       "            window._Plotly = Plotly;\n",
       "        });\n",
       "        }\n",
       "        </script>\n",
       "        "
      ]
     },
     "metadata": {},
     "output_type": "display_data"
    },
    {
     "data": {
      "text/html": [
       "        <script type=\"text/javascript\">\n",
       "        window.PlotlyConfig = {MathJaxConfig: 'local'};\n",
       "        if (window.MathJax) {MathJax.Hub.Config({SVG: {font: \"STIX-Web\"}});}\n",
       "        if (typeof require !== 'undefined') {\n",
       "        require.undef(\"plotly\");\n",
       "        requirejs.config({\n",
       "            paths: {\n",
       "                'plotly': ['https://cdn.plot.ly/plotly-latest.min']\n",
       "            }\n",
       "        });\n",
       "        require(['plotly'], function(Plotly) {\n",
       "            window._Plotly = Plotly;\n",
       "        });\n",
       "        }\n",
       "        </script>\n",
       "        "
      ]
     },
     "metadata": {},
     "output_type": "display_data"
    }
   ],
   "source": [
    "# Load libraries\n",
    "\n",
    "%load_ext autoreload\n",
    "%autoreload 2\n",
    "\n",
    "import os\n",
    "import pandas as pd\n",
    "import numpy as np\n",
    "import datetime as dt\n",
    "import gc\n",
    "from src.functions import data_import as dimp\n",
    "from src.functions import data_exploration as dexp\n",
    "import matplotlib.pyplot as plt\n",
    "import seaborn as sns\n",
    "import missingno as msno\n",
    "import pandas_profiling\n",
    "\n",
    "import plotly as pty\n",
    "from plotly.offline import download_plotlyjs, init_notebook_mode, plot, iplot\n",
    "import cufflinks as cf\n",
    "cf.set_config_file(offline=True)"
   ]
  },
  {
   "cell_type": "markdown",
   "metadata": {},
   "source": [
    "##  Data Import"
   ]
  },
  {
   "cell_type": "code",
   "execution_count": 2,
   "metadata": {
    "scrolled": false
   },
   "outputs": [
    {
     "name": "stdout",
     "output_type": "stream",
     "text": [
      "**building_metadata.csv:\n",
      "Memory usage of dataframe is 0.00 MB\n",
      "Memory usage after optimization is: 0.00 MB\n",
      "Decreased by 63.5%\n",
      "\n",
      "\n",
      "**test.csv:\n",
      "Memory usage of dataframe is 33.68 MB\n",
      "Memory usage after optimization is: 10.23 MB\n",
      "Decreased by 69.6%\n",
      "\n",
      "\n",
      "**train.csv:\n",
      "Memory usage of dataframe is 16.89 MB\n",
      "Memory usage after optimization is: 4.07 MB\n",
      "Decreased by 75.9%\n",
      "\n",
      "\n",
      "**weather_test.csv:\n",
      "Memory usage of dataframe is 1.19 MB\n",
      "Memory usage after optimization is: 1.14 MB\n",
      "Decreased by 4.3%\n",
      "\n",
      "\n",
      "**weather_train.csv:\n"
     ]
    },
    {
     "name": "stderr",
     "output_type": "stream",
     "text": [
      "d:\\master\\asignaturas\\tfm\\git\\tfm\\src\\functions\\data_import.py:30: RuntimeWarning:\n",
      "\n",
      "invalid value encountered in less\n",
      "\n",
      "d:\\master\\asignaturas\\tfm\\git\\tfm\\src\\functions\\data_import.py:32: RuntimeWarning:\n",
      "\n",
      "invalid value encountered in less\n",
      "\n"
     ]
    },
    {
     "name": "stdout",
     "output_type": "stream",
     "text": [
      "Memory usage of dataframe is 0.60 MB\n",
      "Memory usage after optimization is: 0.57 MB\n",
      "Decreased by 5.0%\n",
      "\n",
      "\n"
     ]
    }
   ],
   "source": [
    "df_list = dimp.load_data('../../data/interim/site_1/', level=0)        "
   ]
  },
  {
   "cell_type": "code",
   "execution_count": 3,
   "metadata": {},
   "outputs": [],
   "source": [
    "building_meta_df = df_list[0]\n",
    "train_df = df_list[2]\n",
    "weather_train_df = df_list[4]"
   ]
  },
  {
   "cell_type": "code",
   "execution_count": 4,
   "metadata": {},
   "outputs": [],
   "source": [
    "# Timestamp to date time\n",
    "weather_train_df['timestamp'] = pd.to_datetime(weather_train_df['timestamp'])\n",
    "train_df['timestamp'] = pd.to_datetime(train_df['timestamp'])"
   ]
  },
  {
   "cell_type": "code",
   "execution_count": 5,
   "metadata": {},
   "outputs": [],
   "source": [
    "# year_built and floor_count to integers\n",
    "building_meta_df['year_built'] = pd.array(building_meta_df['year_built'], dtype=pd.Int16Dtype())\n",
    "building_meta_df['floor_count'] = pd.array(building_meta_df['floor_count'], dtype=pd.Int16Dtype())"
   ]
  },
  {
   "cell_type": "code",
   "execution_count": 6,
   "metadata": {},
   "outputs": [
    {
     "name": "stdout",
     "output_type": "stream",
     "text": [
      "Stored 'building_meta_df' (DataFrame)\n",
      "Stored 'train_df' (DataFrame)\n",
      "Stored 'weather_train_df' (DataFrame)\n"
     ]
    }
   ],
   "source": [
    "%store building_meta_df\n",
    "%store train_df\n",
    "%store weather_train_df"
   ]
  },
  {
   "cell_type": "markdown",
   "metadata": {},
   "source": [
    "### Data Set `weather_train` initial EDA"
   ]
  },
  {
   "cell_type": "code",
   "execution_count": null,
   "metadata": {},
   "outputs": [],
   "source": [
    "weather_train_df.head()"
   ]
  },
  {
   "cell_type": "code",
   "execution_count": null,
   "metadata": {
    "scrolled": true
   },
   "outputs": [],
   "source": [
    "weather_train_df.profile_report(\n",
    "                title='Report weather_train', \n",
    "                style={'full_width':True}\n",
    "            )          "
   ]
  },
  {
   "cell_type": "markdown",
   "metadata": {},
   "source": [
    "Initial concerns:\n",
    "* `site_id`--> Ignored for analysis.\n",
    "* `precip_depth_1hr` is completely missing --> Ignored for analysis.\n",
    "* `cloud_coverage` has about 80% of missing values --> Ignored for analysis. \n",
    "* There're 52 missing values in `sea_level_pressure` (0.6%) --> Impute missing values.\n",
    "* There's 1 missing value in `air_temperature` and `dew_temperature` --> Impute missing values.\n",
    "* There're 3 missing values in `wind_direction` --> Impute missing values.\n",
    "* There's no missing values in `wind_speed`"
   ]
  },
  {
   "cell_type": "markdown",
   "metadata": {},
   "source": [
    "### Data Set `weather_test` initial EDA"
   ]
  },
  {
   "cell_type": "code",
   "execution_count": null,
   "metadata": {},
   "outputs": [],
   "source": [
    "weather_test_df.profile_report(\n",
    "                title='Report weather_train', \n",
    "                style={'full_width':True}\n",
    "            )   "
   ]
  },
  {
   "cell_type": "markdown",
   "metadata": {},
   "source": [
    "Initial concerns:\n",
    "* `site_id`--> Ignored for analysis.\n",
    "* `precip_depth_1hr` is completely missing --> Ignored for analysis.\n",
    "* `cloud_coverage` has about 80% of missing values --> Ignored for analysis. \n",
    "* There're 65 missing values in `sea_level_pressure` (0.6%) --> Impute missing values.\n",
    "* There's 22 missing value in `air_temperature` and `dew_temperature` --> Impute missing values.\n",
    "* There're 3 missing values in `wind_direction` --> Impute missing values.\n",
    "* There's no missing values in `wind_speed`"
   ]
  },
  {
   "cell_type": "markdown",
   "metadata": {},
   "source": [
    "### Data Set `building_metadata` initial EDA"
   ]
  },
  {
   "cell_type": "code",
   "execution_count": null,
   "metadata": {},
   "outputs": [],
   "source": [
    "building_meta_df.head()"
   ]
  },
  {
   "cell_type": "code",
   "execution_count": null,
   "metadata": {},
   "outputs": [],
   "source": [
    "building_meta_df.profile_report(\n",
    "    title='Report weather_train', \n",
    "    style={'full_width':True}\n",
    ") "
   ]
  },
  {
   "cell_type": "markdown",
   "metadata": {},
   "source": [
    "Initial concerns:\n",
    "* `site_id`--> Ignored for analysis\n",
    "* `building_id`--> It's a label to identify each building. Ignored for analysis\n",
    "* `year_built`--> Has 'nan' values as category, convert to `NaN` to treat them as missing values\n"
   ]
  },
  {
   "cell_type": "markdown",
   "metadata": {},
   "source": [
    "### Data Set `train` initial EDA"
   ]
  },
  {
   "cell_type": "code",
   "execution_count": 13,
   "metadata": {},
   "outputs": [
    {
     "data": {
      "text/html": [
       "<div>\n",
       "<style scoped>\n",
       "    .dataframe tbody tr th:only-of-type {\n",
       "        vertical-align: middle;\n",
       "    }\n",
       "\n",
       "    .dataframe tbody tr th {\n",
       "        vertical-align: top;\n",
       "    }\n",
       "\n",
       "    .dataframe thead th {\n",
       "        text-align: right;\n",
       "    }\n",
       "</style>\n",
       "<table border=\"1\" class=\"dataframe\">\n",
       "  <thead>\n",
       "    <tr style=\"text-align: right;\">\n",
       "      <th></th>\n",
       "      <th>building_id</th>\n",
       "      <th>meter</th>\n",
       "      <th>timestamp</th>\n",
       "      <th>meter_reading</th>\n",
       "    </tr>\n",
       "  </thead>\n",
       "  <tbody>\n",
       "    <tr>\n",
       "      <th>0</th>\n",
       "      <td>105</td>\n",
       "      <td>0</td>\n",
       "      <td>2016-01-01 00:00:00</td>\n",
       "      <td>23.296875</td>\n",
       "    </tr>\n",
       "    <tr>\n",
       "      <th>1</th>\n",
       "      <td>105</td>\n",
       "      <td>0</td>\n",
       "      <td>2016-01-01 01:00:00</td>\n",
       "      <td>45.593750</td>\n",
       "    </tr>\n",
       "    <tr>\n",
       "      <th>2</th>\n",
       "      <td>105</td>\n",
       "      <td>0</td>\n",
       "      <td>2016-01-01 02:00:00</td>\n",
       "      <td>45.593750</td>\n",
       "    </tr>\n",
       "    <tr>\n",
       "      <th>3</th>\n",
       "      <td>105</td>\n",
       "      <td>0</td>\n",
       "      <td>2016-01-01 03:00:00</td>\n",
       "      <td>45.093750</td>\n",
       "    </tr>\n",
       "    <tr>\n",
       "      <th>4</th>\n",
       "      <td>105</td>\n",
       "      <td>0</td>\n",
       "      <td>2016-01-01 04:00:00</td>\n",
       "      <td>45.593750</td>\n",
       "    </tr>\n",
       "  </tbody>\n",
       "</table>\n",
       "</div>"
      ],
      "text/plain": [
       "   building_id  meter           timestamp  meter_reading\n",
       "0          105      0 2016-01-01 00:00:00      23.296875\n",
       "1          105      0 2016-01-01 01:00:00      45.593750\n",
       "2          105      0 2016-01-01 02:00:00      45.593750\n",
       "3          105      0 2016-01-01 03:00:00      45.093750\n",
       "4          105      0 2016-01-01 04:00:00      45.593750"
      ]
     },
     "execution_count": 13,
     "metadata": {},
     "output_type": "execute_result"
    }
   ],
   "source": [
    "train_df.head()"
   ]
  },
  {
   "cell_type": "code",
   "execution_count": 14,
   "metadata": {},
   "outputs": [
    {
     "data": {
      "text/plain": [
       "building_id      0\n",
       "meter            0\n",
       "timestamp        0\n",
       "meter_reading    0\n",
       "dtype: int64"
      ]
     },
     "execution_count": 14,
     "metadata": {},
     "output_type": "execute_result"
    }
   ],
   "source": [
    "train_df.isna().sum()"
   ]
  },
  {
   "cell_type": "code",
   "execution_count": null,
   "metadata": {},
   "outputs": [],
   "source": []
  }
 ],
 "metadata": {
  "kernelspec": {
   "display_name": "Python 3",
   "language": "python",
   "name": "python3"
  },
  "language_info": {
   "codemirror_mode": {
    "name": "ipython",
    "version": 3
   },
   "file_extension": ".py",
   "mimetype": "text/x-python",
   "name": "python",
   "nbconvert_exporter": "python",
   "pygments_lexer": "ipython3",
   "version": "3.7.5"
  }
 },
 "nbformat": 4,
 "nbformat_minor": 2
}
