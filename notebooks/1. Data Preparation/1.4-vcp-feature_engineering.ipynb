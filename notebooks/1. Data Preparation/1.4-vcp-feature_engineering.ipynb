{
 "cells": [
  {
   "cell_type": "code",
   "execution_count": 2,
   "metadata": {},
   "outputs": [
    {
     "data": {
      "text/html": [
       "        <script type=\"text/javascript\">\n",
       "        window.PlotlyConfig = {MathJaxConfig: 'local'};\n",
       "        if (window.MathJax) {MathJax.Hub.Config({SVG: {font: \"STIX-Web\"}});}\n",
       "        if (typeof require !== 'undefined') {\n",
       "        require.undef(\"plotly\");\n",
       "        requirejs.config({\n",
       "            paths: {\n",
       "                'plotly': ['https://cdn.plot.ly/plotly-latest.min']\n",
       "            }\n",
       "        });\n",
       "        require(['plotly'], function(Plotly) {\n",
       "            window._Plotly = Plotly;\n",
       "        });\n",
       "        }\n",
       "        </script>\n",
       "        "
      ]
     },
     "metadata": {},
     "output_type": "display_data"
    },
    {
     "data": {
      "text/html": [
       "        <script type=\"text/javascript\">\n",
       "        window.PlotlyConfig = {MathJaxConfig: 'local'};\n",
       "        if (window.MathJax) {MathJax.Hub.Config({SVG: {font: \"STIX-Web\"}});}\n",
       "        if (typeof require !== 'undefined') {\n",
       "        require.undef(\"plotly\");\n",
       "        requirejs.config({\n",
       "            paths: {\n",
       "                'plotly': ['https://cdn.plot.ly/plotly-latest.min']\n",
       "            }\n",
       "        });\n",
       "        require(['plotly'], function(Plotly) {\n",
       "            window._Plotly = Plotly;\n",
       "        });\n",
       "        }\n",
       "        </script>\n",
       "        "
      ]
     },
     "metadata": {},
     "output_type": "display_data"
    }
   ],
   "source": [
    "# Load libraries\n",
    "\n",
    "%load_ext autoreload\n",
    "%autoreload 2\n",
    "%matplotlib inline\n",
    "\n",
    "import pandas as pd\n",
    "import numpy as np\n",
    "import datetime as dt\n",
    "from datetime import date\n",
    "import gc\n",
    "from src.functions import data_exploration as dexp\n",
    "from src.functions import data_import as dimp\n",
    "import matplotlib.pyplot as plt\n",
    "import seaborn as sns\n",
    "import missingno as msno\n",
    "import pandas_profiling\n",
    "\n",
    "import chart_studio as cs\n",
    "from chart_studio import plotly as py\n",
    "import plotly.graph_objs as go\n",
    "from plotly.offline import download_plotlyjs, init_notebook_mode, plot, iplot\n",
    "import cufflinks as cf\n",
    "cf.set_config_file(offline=True)"
   ]
  },
  {
   "cell_type": "markdown",
   "metadata": {},
   "source": [
    "## Loading data"
   ]
  },
  {
   "cell_type": "code",
   "execution_count": 4,
   "metadata": {},
   "outputs": [
    {
     "name": "stdout",
     "output_type": "stream",
     "text": [
      "Memory usage of dataframe is 54.88 MB\n",
      "Memory usage after optimization is: 13.05 MB\n",
      "Decreased by 76.2%\n"
     ]
    }
   ],
   "source": [
    "# Loading data without missing values and outliers\n",
    "df = dimp.import_data('../../data/interim/site_1/data_cleaned.csv')"
   ]
  },
  {
   "cell_type": "code",
   "execution_count": 8,
   "metadata": {},
   "outputs": [
    {
     "data": {
      "text/html": [
       "<div>\n",
       "<style scoped>\n",
       "    .dataframe tbody tr th:only-of-type {\n",
       "        vertical-align: middle;\n",
       "    }\n",
       "\n",
       "    .dataframe tbody tr th {\n",
       "        vertical-align: top;\n",
       "    }\n",
       "\n",
       "    .dataframe thead th {\n",
       "        text-align: right;\n",
       "    }\n",
       "</style>\n",
       "<table border=\"1\" class=\"dataframe\">\n",
       "  <thead>\n",
       "    <tr style=\"text-align: right;\">\n",
       "      <th></th>\n",
       "      <th>timestamp</th>\n",
       "      <th>building_id</th>\n",
       "      <th>building_age</th>\n",
       "      <th>primary_use</th>\n",
       "      <th>floor_count</th>\n",
       "      <th>square_feet</th>\n",
       "      <th>meter</th>\n",
       "      <th>air_temperature</th>\n",
       "      <th>dew_temperature</th>\n",
       "      <th>sea_level_pressure</th>\n",
       "      <th>wind_direction</th>\n",
       "      <th>wind_speed</th>\n",
       "      <th>meter_reading</th>\n",
       "    </tr>\n",
       "  </thead>\n",
       "  <tbody>\n",
       "    <tr>\n",
       "      <th>0</th>\n",
       "      <td>2016-01-01 00:00:00</td>\n",
       "      <td>105</td>\n",
       "      <td>54</td>\n",
       "      <td>Education</td>\n",
       "      <td>5</td>\n",
       "      <td>50623</td>\n",
       "      <td>0</td>\n",
       "      <td>3.800781</td>\n",
       "      <td>2.400391</td>\n",
       "      <td>1021.0</td>\n",
       "      <td>240.0</td>\n",
       "      <td>3.099609</td>\n",
       "      <td>23.296875</td>\n",
       "    </tr>\n",
       "    <tr>\n",
       "      <th>1</th>\n",
       "      <td>2016-01-01 01:00:00</td>\n",
       "      <td>105</td>\n",
       "      <td>54</td>\n",
       "      <td>Education</td>\n",
       "      <td>5</td>\n",
       "      <td>50623</td>\n",
       "      <td>0</td>\n",
       "      <td>3.699219</td>\n",
       "      <td>2.400391</td>\n",
       "      <td>1021.5</td>\n",
       "      <td>230.0</td>\n",
       "      <td>2.599609</td>\n",
       "      <td>45.593750</td>\n",
       "    </tr>\n",
       "    <tr>\n",
       "      <th>2</th>\n",
       "      <td>2016-01-01 02:00:00</td>\n",
       "      <td>105</td>\n",
       "      <td>54</td>\n",
       "      <td>Education</td>\n",
       "      <td>5</td>\n",
       "      <td>50623</td>\n",
       "      <td>0</td>\n",
       "      <td>2.599609</td>\n",
       "      <td>1.900391</td>\n",
       "      <td>1022.0</td>\n",
       "      <td>0.0</td>\n",
       "      <td>0.000000</td>\n",
       "      <td>45.593750</td>\n",
       "    </tr>\n",
       "    <tr>\n",
       "      <th>3</th>\n",
       "      <td>2016-01-01 03:00:00</td>\n",
       "      <td>105</td>\n",
       "      <td>54</td>\n",
       "      <td>Education</td>\n",
       "      <td>5</td>\n",
       "      <td>50623</td>\n",
       "      <td>0</td>\n",
       "      <td>2.000000</td>\n",
       "      <td>1.200195</td>\n",
       "      <td>1022.5</td>\n",
       "      <td>170.0</td>\n",
       "      <td>1.500000</td>\n",
       "      <td>45.093750</td>\n",
       "    </tr>\n",
       "    <tr>\n",
       "      <th>4</th>\n",
       "      <td>2016-01-01 04:00:00</td>\n",
       "      <td>105</td>\n",
       "      <td>54</td>\n",
       "      <td>Education</td>\n",
       "      <td>5</td>\n",
       "      <td>50623</td>\n",
       "      <td>0</td>\n",
       "      <td>2.300781</td>\n",
       "      <td>1.799805</td>\n",
       "      <td>1022.5</td>\n",
       "      <td>110.0</td>\n",
       "      <td>1.500000</td>\n",
       "      <td>45.593750</td>\n",
       "    </tr>\n",
       "  </tbody>\n",
       "</table>\n",
       "</div>"
      ],
      "text/plain": [
       "             timestamp  building_id  building_age primary_use  floor_count  \\\n",
       "0  2016-01-01 00:00:00          105            54   Education            5   \n",
       "1  2016-01-01 01:00:00          105            54   Education            5   \n",
       "2  2016-01-01 02:00:00          105            54   Education            5   \n",
       "3  2016-01-01 03:00:00          105            54   Education            5   \n",
       "4  2016-01-01 04:00:00          105            54   Education            5   \n",
       "\n",
       "   square_feet  meter  air_temperature  dew_temperature  sea_level_pressure  \\\n",
       "0        50623      0         3.800781         2.400391              1021.0   \n",
       "1        50623      0         3.699219         2.400391              1021.5   \n",
       "2        50623      0         2.599609         1.900391              1022.0   \n",
       "3        50623      0         2.000000         1.200195              1022.5   \n",
       "4        50623      0         2.300781         1.799805              1022.5   \n",
       "\n",
       "   wind_direction  wind_speed  meter_reading  \n",
       "0           240.0    3.099609      23.296875  \n",
       "1           230.0    2.599609      45.593750  \n",
       "2             0.0    0.000000      45.593750  \n",
       "3           170.0    1.500000      45.093750  \n",
       "4           110.0    1.500000      45.593750  "
      ]
     },
     "execution_count": 8,
     "metadata": {},
     "output_type": "execute_result"
    }
   ],
   "source": [
    "df.head()"
   ]
  },
  {
   "cell_type": "code",
   "execution_count": null,
   "metadata": {},
   "outputs": [],
   "source": []
  }
 ],
 "metadata": {
  "kernelspec": {
   "display_name": "Python 3",
   "language": "python",
   "name": "python3"
  },
  "language_info": {
   "codemirror_mode": {
    "name": "ipython",
    "version": 3
   },
   "file_extension": ".py",
   "mimetype": "text/x-python",
   "name": "python",
   "nbconvert_exporter": "python",
   "pygments_lexer": "ipython3",
   "version": "3.7.5"
  }
 },
 "nbformat": 4,
 "nbformat_minor": 2
}
