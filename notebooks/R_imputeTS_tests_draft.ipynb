{
 "cells": [
  {
   "cell_type": "markdown",
   "metadata": {},
   "source": [
    "## Valores perdidos en series temporales\n",
    "\n",
    "Existen varias variables meteorológicas en el set de datos `weather_train/test` que contienen valores perdidos. En este notebook probaremos la librería `imputeTS` de `R` para lidiar con estos casos."
   ]
  },
  {
   "cell_type": "markdown",
   "metadata": {},
   "source": [
    "### Pre-procesado de datos"
   ]
  },
  {
   "cell_type": "code",
   "execution_count": 93,
   "metadata": {},
   "outputs": [],
   "source": [
    "rm(list = ls())"
   ]
  },
  {
   "cell_type": "code",
   "execution_count": 82,
   "metadata": {},
   "outputs": [],
   "source": [
    "# Librerias\n",
    "packages <- c(\"data.table\",\"ggplot2\",\"tidyverse\",\"tidyr\",\"dplyr\"\n",
    "             ,\"tibble\",\"forecast\",\"tsfknn\",\"anytime\",\"varhandle\",\"lubridate\",\"nortest\"\n",
    "             ,\"normtest\",\"scales\",\"xts\",\"tsfknn\",\"TSrepr\",\"imputeTS\")"
   ]
  },
  {
   "cell_type": "code",
   "execution_count": 83,
   "metadata": {},
   "outputs": [],
   "source": [
    "# Función que carga las librerias que se indiquen, y las instala en caso de no estarlo\n",
    "\n",
    "loadLibraries <- function(pakages) {\n",
    "  usePackage <- function(p){\n",
    "    if ( !is.element(p, installed.packages()[, 1]) ) {\n",
    "      install.packages(p, dep = TRUE)}\n",
    "    require(p, character.only = TRUE)}\n",
    "  \n",
    "  for (p in packages){ usePackage(p) }\n",
    "  \n",
    "}"
   ]
  },
  {
   "cell_type": "code",
   "execution_count": 84,
   "metadata": {},
   "outputs": [],
   "source": [
    "# Carga de librerías\n",
    "loadLibraries(packages)"
   ]
  },
  {
   "cell_type": "code",
   "execution_count": 85,
   "metadata": {},
   "outputs": [],
   "source": [
    "# Importamos los datos\n",
    "weather <- as.data.frame(read.csv(\"../data/interim/weather.csv\", header = TRUE, sep = \",\"))\n",
    "weather_by_site <- weather %>% group_by(weather$site_id)"
   ]
  },
  {
   "cell_type": "code",
   "execution_count": 6,
   "metadata": {},
   "outputs": [
    {
     "data": {
      "text/html": [
       "<table>\n",
       "<caption>A data.frame: 6 × 10</caption>\n",
       "<thead>\n",
       "\t<tr><th scope=col>X</th><th scope=col>site_id</th><th scope=col>timestamp</th><th scope=col>air_temperature</th><th scope=col>cloud_coverage</th><th scope=col>dew_temperature</th><th scope=col>precip_depth_1_hr</th><th scope=col>sea_level_pressure</th><th scope=col>wind_direction</th><th scope=col>wind_speed</th></tr>\n",
       "\t<tr><th scope=col>&lt;int&gt;</th><th scope=col>&lt;int&gt;</th><th scope=col>&lt;fct&gt;</th><th scope=col>&lt;dbl&gt;</th><th scope=col>&lt;dbl&gt;</th><th scope=col>&lt;dbl&gt;</th><th scope=col>&lt;dbl&gt;</th><th scope=col>&lt;dbl&gt;</th><th scope=col>&lt;dbl&gt;</th><th scope=col>&lt;dbl&gt;</th></tr>\n",
       "</thead>\n",
       "<tbody>\n",
       "\t<tr><td>0</td><td>0</td><td>2016-01-01 00:00:00</td><td>25.0</td><td> 6</td><td>20.0</td><td>NA</td><td>1019.5</td><td>  0</td><td>0.0</td></tr>\n",
       "\t<tr><td>1</td><td>0</td><td>2016-01-01 01:00:00</td><td>24.4</td><td>NA</td><td>21.1</td><td>-1</td><td>1020.0</td><td> 70</td><td>1.5</td></tr>\n",
       "\t<tr><td>2</td><td>0</td><td>2016-01-01 02:00:00</td><td>22.8</td><td> 2</td><td>21.1</td><td> 0</td><td>1020.0</td><td>  0</td><td>0.0</td></tr>\n",
       "\t<tr><td>3</td><td>0</td><td>2016-01-01 03:00:00</td><td>21.1</td><td> 2</td><td>20.6</td><td> 0</td><td>1020.0</td><td>  0</td><td>0.0</td></tr>\n",
       "\t<tr><td>4</td><td>0</td><td>2016-01-01 04:00:00</td><td>20.0</td><td> 2</td><td>20.0</td><td>-1</td><td>1020.0</td><td>250</td><td>2.6</td></tr>\n",
       "\t<tr><td>5</td><td>0</td><td>2016-01-01 05:00:00</td><td>19.4</td><td>NA</td><td>19.4</td><td> 0</td><td>    NA</td><td>  0</td><td>0.0</td></tr>\n",
       "</tbody>\n",
       "</table>\n"
      ],
      "text/latex": [
       "A data.frame: 6 × 10\n",
       "\\begin{tabular}{r|llllllllll}\n",
       " X & site\\_id & timestamp & air\\_temperature & cloud\\_coverage & dew\\_temperature & precip\\_depth\\_1\\_hr & sea\\_level\\_pressure & wind\\_direction & wind\\_speed\\\\\n",
       " <int> & <int> & <fct> & <dbl> & <dbl> & <dbl> & <dbl> & <dbl> & <dbl> & <dbl>\\\\\n",
       "\\hline\n",
       "\t 0 & 0 & 2016-01-01 00:00:00 & 25.0 &  6 & 20.0 & NA & 1019.5 &   0 & 0.0\\\\\n",
       "\t 1 & 0 & 2016-01-01 01:00:00 & 24.4 & NA & 21.1 & -1 & 1020.0 &  70 & 1.5\\\\\n",
       "\t 2 & 0 & 2016-01-01 02:00:00 & 22.8 &  2 & 21.1 &  0 & 1020.0 &   0 & 0.0\\\\\n",
       "\t 3 & 0 & 2016-01-01 03:00:00 & 21.1 &  2 & 20.6 &  0 & 1020.0 &   0 & 0.0\\\\\n",
       "\t 4 & 0 & 2016-01-01 04:00:00 & 20.0 &  2 & 20.0 & -1 & 1020.0 & 250 & 2.6\\\\\n",
       "\t 5 & 0 & 2016-01-01 05:00:00 & 19.4 & NA & 19.4 &  0 &     NA &   0 & 0.0\\\\\n",
       "\\end{tabular}\n"
      ],
      "text/markdown": [
       "\n",
       "A data.frame: 6 × 10\n",
       "\n",
       "| X &lt;int&gt; | site_id &lt;int&gt; | timestamp &lt;fct&gt; | air_temperature &lt;dbl&gt; | cloud_coverage &lt;dbl&gt; | dew_temperature &lt;dbl&gt; | precip_depth_1_hr &lt;dbl&gt; | sea_level_pressure &lt;dbl&gt; | wind_direction &lt;dbl&gt; | wind_speed &lt;dbl&gt; |\n",
       "|---|---|---|---|---|---|---|---|---|---|\n",
       "| 0 | 0 | 2016-01-01 00:00:00 | 25.0 |  6 | 20.0 | NA | 1019.5 |   0 | 0.0 |\n",
       "| 1 | 0 | 2016-01-01 01:00:00 | 24.4 | NA | 21.1 | -1 | 1020.0 |  70 | 1.5 |\n",
       "| 2 | 0 | 2016-01-01 02:00:00 | 22.8 |  2 | 21.1 |  0 | 1020.0 |   0 | 0.0 |\n",
       "| 3 | 0 | 2016-01-01 03:00:00 | 21.1 |  2 | 20.6 |  0 | 1020.0 |   0 | 0.0 |\n",
       "| 4 | 0 | 2016-01-01 04:00:00 | 20.0 |  2 | 20.0 | -1 | 1020.0 | 250 | 2.6 |\n",
       "| 5 | 0 | 2016-01-01 05:00:00 | 19.4 | NA | 19.4 |  0 |     NA |   0 | 0.0 |\n",
       "\n"
      ],
      "text/plain": [
       "  X site_id timestamp           air_temperature cloud_coverage dew_temperature\n",
       "1 0 0       2016-01-01 00:00:00 25.0             6             20.0           \n",
       "2 1 0       2016-01-01 01:00:00 24.4            NA             21.1           \n",
       "3 2 0       2016-01-01 02:00:00 22.8             2             21.1           \n",
       "4 3 0       2016-01-01 03:00:00 21.1             2             20.6           \n",
       "5 4 0       2016-01-01 04:00:00 20.0             2             20.0           \n",
       "6 5 0       2016-01-01 05:00:00 19.4            NA             19.4           \n",
       "  precip_depth_1_hr sea_level_pressure wind_direction wind_speed\n",
       "1 NA                1019.5               0            0.0       \n",
       "2 -1                1020.0              70            1.5       \n",
       "3  0                1020.0               0            0.0       \n",
       "4  0                1020.0               0            0.0       \n",
       "5 -1                1020.0             250            2.6       \n",
       "6  0                    NA               0            0.0       "
      ]
     },
     "metadata": {},
     "output_type": "display_data"
    },
    {
     "data": {
      "text/html": [
       "<table>\n",
       "<caption>A data.frame: 6 × 10</caption>\n",
       "<thead>\n",
       "\t<tr><th></th><th scope=col>X</th><th scope=col>site_id</th><th scope=col>timestamp</th><th scope=col>air_temperature</th><th scope=col>cloud_coverage</th><th scope=col>dew_temperature</th><th scope=col>precip_depth_1_hr</th><th scope=col>sea_level_pressure</th><th scope=col>wind_direction</th><th scope=col>wind_speed</th></tr>\n",
       "\t<tr><th></th><th scope=col>&lt;int&gt;</th><th scope=col>&lt;int&gt;</th><th scope=col>&lt;fct&gt;</th><th scope=col>&lt;dbl&gt;</th><th scope=col>&lt;dbl&gt;</th><th scope=col>&lt;dbl&gt;</th><th scope=col>&lt;dbl&gt;</th><th scope=col>&lt;dbl&gt;</th><th scope=col>&lt;dbl&gt;</th><th scope=col>&lt;dbl&gt;</th></tr>\n",
       "</thead>\n",
       "<tbody>\n",
       "\t<tr><th scope=row>139768</th><td>139767</td><td>15</td><td>2016-12-31 18:00:00</td><td>2.8</td><td>NA</td><td>-7.8</td><td>NA</td><td>1007.5</td><td>180</td><td>8.2</td></tr>\n",
       "\t<tr><th scope=row>139769</th><td>139768</td><td>15</td><td>2016-12-31 19:00:00</td><td>3.0</td><td>NA</td><td>-8.0</td><td>NA</td><td>    NA</td><td>180</td><td>5.7</td></tr>\n",
       "\t<tr><th scope=row>139770</th><td>139769</td><td>15</td><td>2016-12-31 20:00:00</td><td>2.8</td><td> 2</td><td>-8.9</td><td>NA</td><td>1007.5</td><td>180</td><td>7.7</td></tr>\n",
       "\t<tr><th scope=row>139771</th><td>139770</td><td>15</td><td>2016-12-31 21:00:00</td><td>2.8</td><td>NA</td><td>-7.2</td><td>NA</td><td>1007.5</td><td>180</td><td>5.1</td></tr>\n",
       "\t<tr><th scope=row>139772</th><td>139771</td><td>15</td><td>2016-12-31 22:00:00</td><td>2.2</td><td>NA</td><td>-6.7</td><td>NA</td><td>1008.0</td><td>170</td><td>4.6</td></tr>\n",
       "\t<tr><th scope=row>139773</th><td>139772</td><td>15</td><td>2016-12-31 23:00:00</td><td>1.7</td><td>NA</td><td>-5.6</td><td>-1</td><td>1008.5</td><td>180</td><td>8.8</td></tr>\n",
       "</tbody>\n",
       "</table>\n"
      ],
      "text/latex": [
       "A data.frame: 6 × 10\n",
       "\\begin{tabular}{r|llllllllll}\n",
       "  & X & site\\_id & timestamp & air\\_temperature & cloud\\_coverage & dew\\_temperature & precip\\_depth\\_1\\_hr & sea\\_level\\_pressure & wind\\_direction & wind\\_speed\\\\\n",
       "  & <int> & <int> & <fct> & <dbl> & <dbl> & <dbl> & <dbl> & <dbl> & <dbl> & <dbl>\\\\\n",
       "\\hline\n",
       "\t139768 & 139767 & 15 & 2016-12-31 18:00:00 & 2.8 & NA & -7.8 & NA & 1007.5 & 180 & 8.2\\\\\n",
       "\t139769 & 139768 & 15 & 2016-12-31 19:00:00 & 3.0 & NA & -8.0 & NA &     NA & 180 & 5.7\\\\\n",
       "\t139770 & 139769 & 15 & 2016-12-31 20:00:00 & 2.8 &  2 & -8.9 & NA & 1007.5 & 180 & 7.7\\\\\n",
       "\t139771 & 139770 & 15 & 2016-12-31 21:00:00 & 2.8 & NA & -7.2 & NA & 1007.5 & 180 & 5.1\\\\\n",
       "\t139772 & 139771 & 15 & 2016-12-31 22:00:00 & 2.2 & NA & -6.7 & NA & 1008.0 & 170 & 4.6\\\\\n",
       "\t139773 & 139772 & 15 & 2016-12-31 23:00:00 & 1.7 & NA & -5.6 & -1 & 1008.5 & 180 & 8.8\\\\\n",
       "\\end{tabular}\n"
      ],
      "text/markdown": [
       "\n",
       "A data.frame: 6 × 10\n",
       "\n",
       "| <!--/--> | X &lt;int&gt; | site_id &lt;int&gt; | timestamp &lt;fct&gt; | air_temperature &lt;dbl&gt; | cloud_coverage &lt;dbl&gt; | dew_temperature &lt;dbl&gt; | precip_depth_1_hr &lt;dbl&gt; | sea_level_pressure &lt;dbl&gt; | wind_direction &lt;dbl&gt; | wind_speed &lt;dbl&gt; |\n",
       "|---|---|---|---|---|---|---|---|---|---|---|\n",
       "| 139768 | 139767 | 15 | 2016-12-31 18:00:00 | 2.8 | NA | -7.8 | NA | 1007.5 | 180 | 8.2 |\n",
       "| 139769 | 139768 | 15 | 2016-12-31 19:00:00 | 3.0 | NA | -8.0 | NA |     NA | 180 | 5.7 |\n",
       "| 139770 | 139769 | 15 | 2016-12-31 20:00:00 | 2.8 |  2 | -8.9 | NA | 1007.5 | 180 | 7.7 |\n",
       "| 139771 | 139770 | 15 | 2016-12-31 21:00:00 | 2.8 | NA | -7.2 | NA | 1007.5 | 180 | 5.1 |\n",
       "| 139772 | 139771 | 15 | 2016-12-31 22:00:00 | 2.2 | NA | -6.7 | NA | 1008.0 | 170 | 4.6 |\n",
       "| 139773 | 139772 | 15 | 2016-12-31 23:00:00 | 1.7 | NA | -5.6 | -1 | 1008.5 | 180 | 8.8 |\n",
       "\n"
      ],
      "text/plain": [
       "       X      site_id timestamp           air_temperature cloud_coverage\n",
       "139768 139767 15      2016-12-31 18:00:00 2.8             NA            \n",
       "139769 139768 15      2016-12-31 19:00:00 3.0             NA            \n",
       "139770 139769 15      2016-12-31 20:00:00 2.8              2            \n",
       "139771 139770 15      2016-12-31 21:00:00 2.8             NA            \n",
       "139772 139771 15      2016-12-31 22:00:00 2.2             NA            \n",
       "139773 139772 15      2016-12-31 23:00:00 1.7             NA            \n",
       "       dew_temperature precip_depth_1_hr sea_level_pressure wind_direction\n",
       "139768 -7.8            NA                1007.5             180           \n",
       "139769 -8.0            NA                    NA             180           \n",
       "139770 -8.9            NA                1007.5             180           \n",
       "139771 -7.2            NA                1007.5             180           \n",
       "139772 -6.7            NA                1008.0             170           \n",
       "139773 -5.6            -1                1008.5             180           \n",
       "       wind_speed\n",
       "139768 8.2       \n",
       "139769 5.7       \n",
       "139770 7.7       \n",
       "139771 5.1       \n",
       "139772 4.6       \n",
       "139773 8.8       "
      ]
     },
     "metadata": {},
     "output_type": "display_data"
    }
   ],
   "source": [
    "head(weather)\n",
    "tail(weather)"
   ]
  },
  {
   "cell_type": "code",
   "execution_count": 87,
   "metadata": {},
   "outputs": [
    {
     "name": "stdout",
     "output_type": "stream",
     "text": [
      " [1]  0  1  2  3  4  5  6  7  8  9 10 11 12 13 14 15\n"
     ]
    }
   ],
   "source": [
    "sites <- unique(weather$site_id)\n",
    "print(sites)"
   ]
  },
  {
   "cell_type": "code",
   "execution_count": 88,
   "metadata": {},
   "outputs": [],
   "source": [
    "# Convertimos a tipo fecha la columna timestamp\n",
    "weather$timestamp <- unfactor(weather$timestamp)\n",
    "weather$timestamp <- as.POSIXct(weather$timestamp, format = \"%Y-%m-%d %H:%M\", tz=\"GMT\")"
   ]
  },
  {
   "cell_type": "code",
   "execution_count": 89,
   "metadata": {},
   "outputs": [],
   "source": [
    "# Generamos un lista de series temporales de la variable `air_temperature`, una por cada `site_id`\n",
    "airTempList = list()\n",
    "for (site in sites){\n",
    "    airTempList[[site+1]] <- xts((filter(weather,site_id==site))$air_temperature, order.by = filter(weather,site_id==site)$timestamp)\n",
    "}\n"
   ]
  },
  {
   "cell_type": "code",
   "execution_count": 10,
   "metadata": {},
   "outputs": [
    {
     "ename": "ERROR",
     "evalue": "Error in eval(expr, envir, enclos): '...' usado en un contexto incorrecto\n",
     "output_type": "error",
     "traceback": [
      "Error in eval(expr, envir, enclos): '...' usado en un contexto incorrecto\nTraceback:\n"
     ]
    }
   ],
   "source": [
    "# Gráficas\n",
    "# ..."
   ]
  },
  {
   "cell_type": "code",
   "execution_count": 11,
   "metadata": {
    "scrolled": true
   },
   "outputs": [
    {
     "name": "stdout",
     "output_type": "stream",
     "text": [
      "[1] \"**** SITE_ID:  0\"\n",
      "[1] \"Length of time series:\"\n",
      "[1] 8784\n",
      "[1] \"-------------------------\"\n",
      "[1] \"Number of Missing Values:\"\n",
      "[1] 3\n",
      "[1] \"-------------------------\"\n",
      "[1] \"Percentage of Missing Values:\"\n",
      "[1] \"0.0342%\"\n",
      "[1] \"-------------------------\"\n",
      "[1] \"Stats for Bins\"\n",
      "[1] \"  Bin 1 (2196 values from 1 to 2196) :      3 NAs (0.137%)\"\n",
      "[1] \"  Bin 2 (2196 values from 2197 to 4392) :      0 NAs (0%)\"\n",
      "[1] \"  Bin 3 (2196 values from 4393 to 6588) :      0 NAs (0%)\"\n",
      "[1] \"  Bin 4 (2196 values from 6589 to 8784) :      0 NAs (0%)\"\n",
      "[1] \"-------------------------\"\n",
      "[1] \"Longest NA gap (series of consecutive NAs)\"\n",
      "[1] \"3 in a row\"\n",
      "[1] \"-------------------------\"\n",
      "[1] \"Most frequent gap size (series of consecutive NA series)\"\n",
      "[1] \"3 NA in a row (occuring 1 times)\"\n",
      "[1] \"-------------------------\"\n",
      "[1] \"Gap size accounting for most NAs\"\n",
      "[1] \"3 NA in a row (occuring 1 times, making up for overall 3 NAs)\"\n",
      "[1] \"-------------------------\"\n",
      "[1] \"Overview NA series\"\n",
      "[1] \"  3 NA in a row: 1 times\"\n",
      "\n",
      "[1] \"**** SITE_ID:  1\"\n",
      "[1] \"Length of time series:\"\n",
      "[1] 8763\n",
      "[1] \"-------------------------\"\n",
      "[1] \"Number of Missing Values:\"\n",
      "[1] 1\n",
      "[1] \"-------------------------\"\n",
      "[1] \"Percentage of Missing Values:\"\n",
      "[1] \"0.0114%\"\n",
      "[1] \"-------------------------\"\n",
      "[1] \"Stats for Bins\"\n",
      "[1] \"  Bin 1 (2191 values from 1 to 2191) :      0 NAs (0%)\"\n",
      "[1] \"  Bin 2 (2191 values from 2192 to 4382) :      0 NAs (0%)\"\n",
      "[1] \"  Bin 3 (2191 values from 4383 to 6573) :      0 NAs (0%)\"\n",
      "[1] \"  Bin 4 (2190 values from 6574 to 8763) :      1 NAs (0.0457%)\"\n",
      "[1] \"-------------------------\"\n",
      "[1] \"Longest NA gap (series of consecutive NAs)\"\n",
      "[1] \"1 in a row\"\n",
      "[1] \"-------------------------\"\n",
      "[1] \"Most frequent gap size (series of consecutive NA series)\"\n",
      "[1] \"1 NA in a row (occuring 1 times)\"\n",
      "[1] \"-------------------------\"\n",
      "[1] \"Gap size accounting for most NAs\"\n",
      "[1] \"1 NA in a row (occuring 1 times, making up for overall 1 NAs)\"\n",
      "[1] \"-------------------------\"\n",
      "[1] \"Overview NA series\"\n",
      "[1] \"  1 NA in a row: 1 times\"\n",
      "\n",
      "[1] \"**** SITE_ID:  2\"\n",
      "[1] \"Length of time series:\"\n",
      "[1] 8783\n",
      "[1] \"-------------------------\"\n",
      "[1] \"Number of Missing Values:\"\n",
      "[1] 1\n",
      "[1] \"-------------------------\"\n",
      "[1] \"Percentage of Missing Values:\"\n",
      "[1] \"0.0114%\"\n",
      "[1] \"-------------------------\"\n",
      "[1] \"Stats for Bins\"\n",
      "[1] \"  Bin 1 (2196 values from 1 to 2196) :      0 NAs (0%)\"\n",
      "[1] \"  Bin 2 (2196 values from 2197 to 4392) :      0 NAs (0%)\"\n",
      "[1] \"  Bin 3 (2196 values from 4393 to 6588) :      1 NAs (0.0455%)\"\n",
      "[1] \"  Bin 4 (2195 values from 6589 to 8783) :      0 NAs (0%)\"\n",
      "[1] \"-------------------------\"\n",
      "[1] \"Longest NA gap (series of consecutive NAs)\"\n",
      "[1] \"1 in a row\"\n",
      "[1] \"-------------------------\"\n",
      "[1] \"Most frequent gap size (series of consecutive NA series)\"\n",
      "[1] \"1 NA in a row (occuring 1 times)\"\n",
      "[1] \"-------------------------\"\n",
      "[1] \"Gap size accounting for most NAs\"\n",
      "[1] \"1 NA in a row (occuring 1 times, making up for overall 1 NAs)\"\n",
      "[1] \"-------------------------\"\n",
      "[1] \"Overview NA series\"\n",
      "[1] \"  1 NA in a row: 1 times\"\n",
      "\n",
      "[1] \"**** SITE_ID:  3\"\n",
      "[1] \"Length of time series:\"\n",
      "[1] 8780\n",
      "[1] \"-------------------------\"\n",
      "[1] \"Number of Missing Values:\"\n",
      "[1] 4\n",
      "[1] \"-------------------------\"\n",
      "[1] \"Percentage of Missing Values:\"\n",
      "[1] \"0.0456%\"\n",
      "[1] \"-------------------------\"\n",
      "[1] \"Stats for Bins\"\n",
      "[1] \"  Bin 1 (2195 values from 1 to 2195) :      1 NAs (0.0456%)\"\n",
      "[1] \"  Bin 2 (2195 values from 2196 to 4390) :      0 NAs (0%)\"\n",
      "[1] \"  Bin 3 (2195 values from 4391 to 6585) :      3 NAs (0.137%)\"\n",
      "[1] \"  Bin 4 (2195 values from 6586 to 8780) :      0 NAs (0%)\"\n",
      "[1] \"-------------------------\"\n",
      "[1] \"Longest NA gap (series of consecutive NAs)\"\n",
      "[1] \"2 in a row\"\n",
      "[1] \"-------------------------\"\n",
      "[1] \"Most frequent gap size (series of consecutive NA series)\"\n",
      "[1] \"1 NA in a row (occuring 2 times)\"\n",
      "[1] \"-------------------------\"\n",
      "[1] \"Gap size accounting for most NAs\"\n",
      "[1] \"2 NA in a row (occuring 1 times, making up for overall 2 NAs)\"\n",
      "[1] \"-------------------------\"\n",
      "[1] \"Overview NA series\"\n",
      "[1] \"  1 NA in a row: 2 times\"\n",
      "[1] \"  2 NA in a row: 1 times\"\n",
      "\n",
      "[1] \"**** SITE_ID:  4\"\n",
      "[1] \"Length of time series:\"\n",
      "[1] 8783\n",
      "[1] \"-------------------------\"\n",
      "[1] \"Number of Missing Values:\"\n",
      "[1] 0\n",
      "[1] \"-------------------------\"\n",
      "[1] \"Percentage of Missing Values:\"\n",
      "[1] \"0%\"\n",
      "[1] \"-------------------------\"\n",
      "[1] \"No NAs in the time Series.\"\n",
      "\n",
      "[1] \"**** SITE_ID:  5\"\n",
      "[1] \"Length of time series:\"\n",
      "[1] 8755\n",
      "[1] \"-------------------------\"\n",
      "[1] \"Number of Missing Values:\"\n",
      "[1] 2\n",
      "[1] \"-------------------------\"\n",
      "[1] \"Percentage of Missing Values:\"\n",
      "[1] \"0.0228%\"\n",
      "[1] \"-------------------------\"\n",
      "[1] \"Stats for Bins\"\n",
      "[1] \"  Bin 1 (2189 values from 1 to 2189) :      0 NAs (0%)\"\n",
      "[1] \"  Bin 2 (2189 values from 2190 to 4378) :      0 NAs (0%)\"\n",
      "[1] \"  Bin 3 (2189 values from 4379 to 6567) :      1 NAs (0.0457%)\"\n",
      "[1] \"  Bin 4 (2188 values from 6568 to 8755) :      1 NAs (0.0457%)\"\n",
      "[1] \"-------------------------\"\n",
      "[1] \"Longest NA gap (series of consecutive NAs)\"\n",
      "[1] \"1 in a row\"\n",
      "[1] \"-------------------------\"\n",
      "[1] \"Most frequent gap size (series of consecutive NA series)\"\n",
      "[1] \"1 NA in a row (occuring 2 times)\"\n",
      "[1] \"-------------------------\"\n",
      "[1] \"Gap size accounting for most NAs\"\n",
      "[1] \"1 NA in a row (occuring 2 times, making up for overall 2 NAs)\"\n",
      "[1] \"-------------------------\"\n",
      "[1] \"Overview NA series\"\n",
      "[1] \"  1 NA in a row: 2 times\"\n",
      "\n",
      "[1] \"**** SITE_ID:  6\"\n",
      "[1] \"Length of time series:\"\n",
      "[1] 8782\n",
      "[1] \"-------------------------\"\n",
      "[1] \"Number of Missing Values:\"\n",
      "[1] 10\n",
      "[1] \"-------------------------\"\n",
      "[1] \"Percentage of Missing Values:\"\n",
      "[1] \"0.114%\"\n",
      "[1] \"-------------------------\"\n",
      "[1] \"Stats for Bins\"\n",
      "[1] \"  Bin 1 (2196 values from 1 to 2196) :      0 NAs (0%)\"\n",
      "[1] \"  Bin 2 (2196 values from 2197 to 4392) :      0 NAs (0%)\"\n",
      "[1] \"  Bin 3 (2196 values from 4393 to 6588) :      1 NAs (0.0455%)\"\n",
      "[1] \"  Bin 4 (2194 values from 6589 to 8782) :      9 NAs (0.41%)\"\n",
      "[1] \"-------------------------\"\n",
      "[1] \"Longest NA gap (series of consecutive NAs)\"\n",
      "[1] \"4 in a row\"\n",
      "[1] \"-------------------------\"\n",
      "[1] \"Most frequent gap size (series of consecutive NA series)\"\n",
      "[1] \"2 NA in a row (occuring 2 times)\"\n",
      "[1] \"-------------------------\"\n",
      "[1] \"Gap size accounting for most NAs\"\n",
      "[1] \"4 NA in a row (occuring 1 times, making up for overall 4 NAs)\"\n",
      "[1] \"-------------------------\"\n",
      "[1] \"Overview NA series\"\n",
      "[1] \"  1 NA in a row: 2 times\"\n",
      "[1] \"  2 NA in a row: 2 times\"\n",
      "[1] \"  4 NA in a row: 1 times\"\n",
      "\n",
      "[1] \"**** SITE_ID:  7\"\n",
      "[1] \"Length of time series:\"\n",
      "[1] 8614\n",
      "[1] \"-------------------------\"\n",
      "[1] \"Number of Missing Values:\"\n",
      "[1] 0\n",
      "[1] \"-------------------------\"\n",
      "[1] \"Percentage of Missing Values:\"\n",
      "[1] \"0%\"\n",
      "[1] \"-------------------------\"\n",
      "[1] \"No NAs in the time Series.\"\n",
      "\n",
      "[1] \"**** SITE_ID:  8\"\n",
      "[1] \"Length of time series:\"\n",
      "[1] 8784\n",
      "[1] \"-------------------------\"\n",
      "[1] \"Number of Missing Values:\"\n",
      "[1] 3\n",
      "[1] \"-------------------------\"\n",
      "[1] \"Percentage of Missing Values:\"\n",
      "[1] \"0.0342%\"\n",
      "[1] \"-------------------------\"\n",
      "[1] \"Stats for Bins\"\n",
      "[1] \"  Bin 1 (2196 values from 1 to 2196) :      3 NAs (0.137%)\"\n",
      "[1] \"  Bin 2 (2196 values from 2197 to 4392) :      0 NAs (0%)\"\n",
      "[1] \"  Bin 3 (2196 values from 4393 to 6588) :      0 NAs (0%)\"\n",
      "[1] \"  Bin 4 (2196 values from 6589 to 8784) :      0 NAs (0%)\"\n",
      "[1] \"-------------------------\"\n",
      "[1] \"Longest NA gap (series of consecutive NAs)\"\n",
      "[1] \"3 in a row\"\n",
      "[1] \"-------------------------\"\n",
      "[1] \"Most frequent gap size (series of consecutive NA series)\"\n",
      "[1] \"3 NA in a row (occuring 1 times)\"\n",
      "[1] \"-------------------------\"\n",
      "[1] \"Gap size accounting for most NAs\"\n",
      "[1] \"3 NA in a row (occuring 1 times, making up for overall 3 NAs)\"\n",
      "[1] \"-------------------------\"\n",
      "[1] \"Overview NA series\"\n",
      "[1] \"  3 NA in a row: 1 times\"\n",
      "\n",
      "[1] \"**** SITE_ID:  9\"\n",
      "[1] \"Length of time series:\"\n",
      "[1] 8780\n",
      "[1] \"-------------------------\"\n",
      "[1] \"Number of Missing Values:\"\n",
      "[1] 5\n",
      "[1] \"-------------------------\"\n",
      "[1] \"Percentage of Missing Values:\"\n",
      "[1] \"0.0569%\"\n",
      "[1] \"-------------------------\"\n",
      "[1] \"Stats for Bins\"\n",
      "[1] \"  Bin 1 (2195 values from 1 to 2195) :      4 NAs (0.182%)\"\n",
      "[1] \"  Bin 2 (2195 values from 2196 to 4390) :      1 NAs (0.0456%)\"\n",
      "[1] \"  Bin 3 (2195 values from 4391 to 6585) :      0 NAs (0%)\"\n",
      "[1] \"  Bin 4 (2195 values from 6586 to 8780) :      0 NAs (0%)\"\n",
      "[1] \"-------------------------\"\n",
      "[1] \"Longest NA gap (series of consecutive NAs)\"\n",
      "[1] \"1 in a row\"\n",
      "[1] \"-------------------------\"\n",
      "[1] \"Most frequent gap size (series of consecutive NA series)\"\n",
      "[1] \"1 NA in a row (occuring 5 times)\"\n",
      "[1] \"-------------------------\"\n",
      "[1] \"Gap size accounting for most NAs\"\n",
      "[1] \"1 NA in a row (occuring 5 times, making up for overall 5 NAs)\"\n",
      "[1] \"-------------------------\"\n",
      "[1] \"Overview NA series\"\n",
      "[1] \"  1 NA in a row: 5 times\"\n",
      "\n",
      "[1] \"**** SITE_ID:  10\"\n",
      "[1] \"Length of time series:\"\n",
      "[1] 8782\n",
      "[1] \"-------------------------\"\n",
      "[1] \"Number of Missing Values:\"\n",
      "[1] 24\n",
      "[1] \"-------------------------\"\n",
      "[1] \"Percentage of Missing Values:\"\n",
      "[1] \"0.273%\"\n",
      "[1] \"-------------------------\"\n",
      "[1] \"Stats for Bins\"\n",
      "[1] \"  Bin 1 (2196 values from 1 to 2196) :      0 NAs (0%)\"\n",
      "[1] \"  Bin 2 (2196 values from 2197 to 4392) :      0 NAs (0%)\"\n",
      "[1] \"  Bin 3 (2196 values from 4393 to 6588) :      1 NAs (0.0455%)\"\n",
      "[1] \"  Bin 4 (2194 values from 6589 to 8782) :      23 NAs (1.05%)\"\n",
      "[1] \"-------------------------\"\n",
      "[1] \"Longest NA gap (series of consecutive NAs)\"\n",
      "[1] \"11 in a row\"\n",
      "[1] \"-------------------------\"\n",
      "[1] \"Most frequent gap size (series of consecutive NA series)\"\n",
      "[1] \"1 NA in a row (occuring 3 times)\"\n",
      "[1] \"-------------------------\"\n",
      "[1] \"Gap size accounting for most NAs\"\n",
      "[1] \"11 NA in a row (occuring 1 times, making up for overall 11 NAs)\"\n",
      "[1] \"-------------------------\"\n",
      "[1] \"Overview NA series\"\n",
      "[1] \"  1 NA in a row: 3 times\"\n",
      "[1] \"  10 NA in a row: 1 times\"\n",
      "[1] \"  11 NA in a row: 1 times\"\n",
      "\n",
      "[1] \"**** SITE_ID:  11\"\n",
      "[1] \"Length of time series:\"\n",
      "[1] 8614\n",
      "[1] \"-------------------------\"\n",
      "[1] \"Number of Missing Values:\"\n",
      "[1] 0\n",
      "[1] \"-------------------------\"\n",
      "[1] \"Percentage of Missing Values:\"\n",
      "[1] \"0%\"\n",
      "[1] \"-------------------------\"\n",
      "[1] \"No NAs in the time Series.\"\n",
      "\n",
      "[1] \"**** SITE_ID:  12\"\n",
      "[1] \"Length of time series:\"\n",
      "[1] 8755\n",
      "[1] \"-------------------------\"\n",
      "[1] \"Number of Missing Values:\"\n",
      "[1] 0\n",
      "[1] \"-------------------------\"\n",
      "[1] \"Percentage of Missing Values:\"\n",
      "[1] \"0%\"\n",
      "[1] \"-------------------------\"\n",
      "[1] \"No NAs in the time Series.\"\n",
      "\n",
      "[1] \"**** SITE_ID:  13\"\n",
      "[1] \"Length of time series:\"\n",
      "[1] 8783\n",
      "[1] \"-------------------------\"\n",
      "[1] \"Number of Missing Values:\"\n",
      "[1] 1\n",
      "[1] \"-------------------------\"\n",
      "[1] \"Percentage of Missing Values:\"\n",
      "[1] \"0.0114%\"\n",
      "[1] \"-------------------------\"\n",
      "[1] \"Stats for Bins\"\n",
      "[1] \"  Bin 1 (2196 values from 1 to 2196) :      1 NAs (0.0455%)\"\n",
      "[1] \"  Bin 2 (2196 values from 2197 to 4392) :      0 NAs (0%)\"\n",
      "[1] \"  Bin 3 (2196 values from 4393 to 6588) :      0 NAs (0%)\"\n",
      "[1] \"  Bin 4 (2195 values from 6589 to 8783) :      0 NAs (0%)\"\n",
      "[1] \"-------------------------\"\n",
      "[1] \"Longest NA gap (series of consecutive NAs)\"\n",
      "[1] \"1 in a row\"\n",
      "[1] \"-------------------------\"\n",
      "[1] \"Most frequent gap size (series of consecutive NA series)\"\n",
      "[1] \"1 NA in a row (occuring 1 times)\"\n",
      "[1] \"-------------------------\"\n",
      "[1] \"Gap size accounting for most NAs\"\n",
      "[1] \"1 NA in a row (occuring 1 times, making up for overall 1 NAs)\"\n",
      "[1] \"-------------------------\"\n",
      "[1] \"Overview NA series\"\n",
      "[1] \"  1 NA in a row: 1 times\"\n",
      "\n",
      "[1] \"**** SITE_ID:  14\"\n",
      "[1] \"Length of time series:\"\n",
      "[1] 8777\n",
      "[1] \"-------------------------\"\n",
      "[1] \"Number of Missing Values:\"\n",
      "[1] 1\n",
      "[1] \"-------------------------\"\n",
      "[1] \"Percentage of Missing Values:\"\n",
      "[1] \"0.0114%\"\n",
      "[1] \"-------------------------\"\n",
      "[1] \"Stats for Bins\"\n",
      "[1] \"  Bin 1 (2195 values from 1 to 2195) :      0 NAs (0%)\"\n",
      "[1] \"  Bin 2 (2195 values from 2196 to 4390) :      1 NAs (0.0456%)\"\n",
      "[1] \"  Bin 3 (2195 values from 4391 to 6585) :      0 NAs (0%)\"\n",
      "[1] \"  Bin 4 (2192 values from 6586 to 8777) :      0 NAs (0%)\"\n",
      "[1] \"-------------------------\"\n",
      "[1] \"Longest NA gap (series of consecutive NAs)\"\n",
      "[1] \"1 in a row\"\n",
      "[1] \"-------------------------\"\n",
      "[1] \"Most frequent gap size (series of consecutive NA series)\"\n",
      "[1] \"1 NA in a row (occuring 1 times)\"\n",
      "[1] \"-------------------------\"\n",
      "[1] \"Gap size accounting for most NAs\"\n",
      "[1] \"1 NA in a row (occuring 1 times, making up for overall 1 NAs)\"\n",
      "[1] \"-------------------------\"\n",
      "[1] \"Overview NA series\"\n",
      "[1] \"  1 NA in a row: 1 times\"\n",
      "\n",
      "[1] \"**** SITE_ID:  15\"\n",
      "[1] \"Length of time series:\"\n",
      "[1] 8454\n",
      "[1] \"-------------------------\"\n",
      "[1] \"Number of Missing Values:\"\n",
      "[1] 0\n",
      "[1] \"-------------------------\"\n",
      "[1] \"Percentage of Missing Values:\"\n",
      "[1] \"0%\"\n",
      "[1] \"-------------------------\"\n",
      "[1] \"No NAs in the time Series.\"\n",
      "\n"
     ]
    }
   ],
   "source": [
    "# Estadísticas sobre los valores perdidos de cada serie\n",
    "n = 0\n",
    "for (serie in airTempList){\n",
    "    print(paste(\"**** SITE_ID: \", n))\n",
    "    statsNA(serie)\n",
    "    cat(sep=\"\\n\")\n",
    "    n = n+1\n",
    "          \n",
    "}\n"
   ]
  },
  {
   "cell_type": "markdown",
   "metadata": {},
   "source": [
    "### Imputación de valores perdidos"
   ]
  },
  {
   "cell_type": "markdown",
   "metadata": {},
   "source": [
    "Vamos a probar distintos métodos del paquete `imputeTS`. Para comprobar su precisión, elegimos algún `site_id` cuya serie de valores de `air_temperature` no contenga ningún valor perdido. Asignaremos valores perdidos de manera aleatoria que rellenaremos con dichos métodos, para posteriormente calcular el error con respecto al valor original."
   ]
  },
  {
   "cell_type": "code",
   "execution_count": 90,
   "metadata": {},
   "outputs": [],
   "source": [
    "# El site_id 4 no tiene valores perdidos. Usaremos esta serie temporal para nuestras pruebas.\n",
    "\n",
    "airTemp_site12 <- airTempList[[13]]\n",
    "airTemp_site12_month1 <- airTemp_site12[\"2016-01-01/2016-01-31\"]\n",
    "airTemp_site12_month1_day8 <- airTemp_site12_month1[\"2016-01-08 00:00:00/2016-01-08 23:59:59\"]"
   ]
  },
  {
   "cell_type": "code",
   "execution_count": 13,
   "metadata": {
    "scrolled": true
   },
   "outputs": [
    {
     "data": {
      "image/png": "[encoded data removed]",
      "text/plain": [
       "plot without title"
      ]
     },
     "metadata": {},
     "output_type": "display_data"
    }
   ],
   "source": [
    "autoplot(airTemp_site12) +\n",
    "  ggtitle(\"temperatura del aire: anual\") +\n",
    "  xlab(\"tiempo\") +\n",
    "  ylab(\"temperatura (ºC)\")"
   ]
  },
  {
   "cell_type": "code",
   "execution_count": 14,
   "metadata": {
    "scrolled": true
   },
   "outputs": [
    {
     "data": {
      "image/png": "[encoded data removed]",
      "text/plain": [
       "plot without title"
      ]
     },
     "metadata": {},
     "output_type": "display_data"
    }
   ],
   "source": [
    "autoplot(airTemp_site12_month1) +\n",
    "  ggtitle(\"temperatura del aire: enero\") +\n",
    "  xlab(\"tiempo\") +\n",
    "  ylab(\"temperatura (ºC)\")"
   ]
  },
  {
   "cell_type": "code",
   "execution_count": 15,
   "metadata": {
    "scrolled": true
   },
   "outputs": [
    {
     "data": {
      "image/png": "[encoded data removed]",
      "text/plain": [
       "plot without title"
      ]
     },
     "metadata": {},
     "output_type": "display_data"
    }
   ],
   "source": [
    "autoplot(airTemp_site12_month1_day8) +\n",
    "  ggtitle(\"temperatura del aire: 8 de enero\") +\n",
    "  xlab(\"tiempo\") +\n",
    "  ylab(\"temperatura (ºC)\")"
   ]
  },
  {
   "cell_type": "code",
   "execution_count": 16,
   "metadata": {},
   "outputs": [
    {
     "name": "stdout",
     "output_type": "stream",
     "text": [
      "[1] \"Length of time series:\"\n",
      "[1] 8755\n",
      "[1] \"-------------------------\"\n",
      "[1] \"Number of Missing Values:\"\n",
      "[1] 0\n",
      "[1] \"-------------------------\"\n",
      "[1] \"Percentage of Missing Values:\"\n",
      "[1] \"0%\"\n",
      "[1] \"-------------------------\"\n",
      "[1] \"No NAs in the time Series.\"\n"
     ]
    },
    {
     "data": {
      "text/html": [
       "'No NAs'"
      ],
      "text/latex": [
       "'No NAs'"
      ],
      "text/markdown": [
       "'No NAs'"
      ],
      "text/plain": [
       "[1] \"No NAs\""
      ]
     },
     "metadata": {},
     "output_type": "display_data"
    }
   ],
   "source": [
    "statsNA(airTemp_site12)"
   ]
  },
  {
   "cell_type": "markdown",
   "metadata": {},
   "source": [
    "#### Asignación aleatoria de valores perdidos"
   ]
  },
  {
   "cell_type": "code",
   "execution_count": 91,
   "metadata": {},
   "outputs": [],
   "source": [
    "# Copia de la serie donde asignaremos NAs\n",
    "airTemp_site12_NA <- airTemp_site12\n",
    "\n",
    "# Número de NAs\n",
    "N <- 10\n",
    "\n",
    "# Indices de la serie\n",
    "inds <- as.vector(expand.grid(1:nrow(airTemp_site12_NA)))\n",
    "\n",
    "# Muestra aleatoria\n",
    "set.seed(666)\n",
    "selected <- inds[sample(nrow(inds), N), ]\n",
    "\n",
    "# Asignación de NA a los indices de la muestra aleatoria\n",
    "airTemp_site12_NA[selected] <- NA"
   ]
  },
  {
   "cell_type": "code",
   "execution_count": 18,
   "metadata": {},
   "outputs": [
    {
     "name": "stdout",
     "output_type": "stream",
     "text": [
      "[1] \"Length of time series:\"\n",
      "[1] 8755\n",
      "[1] \"-------------------------\"\n",
      "[1] \"Number of Missing Values:\"\n",
      "[1] 10\n",
      "[1] \"-------------------------\"\n",
      "[1] \"Percentage of Missing Values:\"\n",
      "[1] \"0.114%\"\n",
      "[1] \"-------------------------\"\n",
      "[1] \"Stats for Bins\"\n",
      "[1] \"  Bin 1 (2189 values from 1 to 2189) :      5 NAs (0.228%)\"\n",
      "[1] \"  Bin 2 (2189 values from 2190 to 4378) :      2 NAs (0.0914%)\"\n",
      "[1] \"  Bin 3 (2189 values from 4379 to 6567) :      1 NAs (0.0457%)\"\n",
      "[1] \"  Bin 4 (2188 values from 6568 to 8755) :      2 NAs (0.0914%)\"\n",
      "[1] \"-------------------------\"\n",
      "[1] \"Longest NA gap (series of consecutive NAs)\"\n",
      "[1] \"1 in a row\"\n",
      "[1] \"-------------------------\"\n",
      "[1] \"Most frequent gap size (series of consecutive NA series)\"\n",
      "[1] \"1 NA in a row (occuring 10 times)\"\n",
      "[1] \"-------------------------\"\n",
      "[1] \"Gap size accounting for most NAs\"\n",
      "[1] \"1 NA in a row (occuring 10 times, making up for overall 10 NAs)\"\n",
      "[1] \"-------------------------\"\n",
      "[1] \"Overview NA series\"\n",
      "[1] \"  1 NA in a row: 10 times\"\n"
     ]
    }
   ],
   "source": [
    "statsNA(airTemp_site12_NA)"
   ]
  },
  {
   "cell_type": "markdown",
   "metadata": {},
   "source": [
    "#### Método 1: interpolación lineal"
   ]
  },
  {
   "cell_type": "code",
   "execution_count": 19,
   "metadata": {},
   "outputs": [
    {
     "name": "stderr",
     "output_type": "stream",
     "text": [
      "Warning message:\n",
      "\"timezone of object (GMT) is different than current timezone ().\""
     ]
    },
    {
     "data": {
      "text/plain": [
       "                    [,1]\n",
       "2016-01-28 03:00:00  3.3\n",
       "2016-02-06 08:00:00  5.6\n",
       "2016-02-14 17:00:00  3.1\n",
       "2016-03-07 23:00:00  3.2\n",
       "2016-03-12 02:00:00  9.6\n",
       "2016-04-10 18:00:00  8.5\n",
       "2016-06-17 06:00:00 10.1\n",
       "2016-09-19 10:00:00 12.5\n",
       "2016-10-04 18:00:00 14.1\n",
       "2016-10-31 19:00:00 11.0"
      ]
     },
     "metadata": {},
     "output_type": "display_data"
    }
   ],
   "source": [
    "airTemp_site12[selected]"
   ]
  },
  {
   "cell_type": "code",
   "execution_count": 20,
   "metadata": {},
   "outputs": [],
   "source": [
    "airTemp_site12_NA_interpolated <- na_interpolation(airTemp_site12_NA, option = \"linear\")"
   ]
  },
  {
   "cell_type": "code",
   "execution_count": 21,
   "metadata": {},
   "outputs": [
    {
     "name": "stdout",
     "output_type": "stream",
     "text": [
      "[1] \"Length of time series:\"\n",
      "[1] 8755\n",
      "[1] \"-------------------------\"\n",
      "[1] \"Number of Missing Values:\"\n",
      "[1] 0\n",
      "[1] \"-------------------------\"\n",
      "[1] \"Percentage of Missing Values:\"\n",
      "[1] \"0%\"\n",
      "[1] \"-------------------------\"\n",
      "[1] \"No NAs in the time Series.\"\n"
     ]
    },
    {
     "data": {
      "text/html": [
       "'No NAs'"
      ],
      "text/latex": [
       "'No NAs'"
      ],
      "text/markdown": [
       "'No NAs'"
      ],
      "text/plain": [
       "[1] \"No NAs\""
      ]
     },
     "metadata": {},
     "output_type": "display_data"
    }
   ],
   "source": [
    "statsNA(airTemp_site12_NA_interpolated)"
   ]
  },
  {
   "cell_type": "code",
   "execution_count": 22,
   "metadata": {},
   "outputs": [
    {
     "name": "stderr",
     "output_type": "stream",
     "text": [
      "Warning message:\n",
      "\"timezone of object (GMT) is different than current timezone ().\""
     ]
    },
    {
     "data": {
      "text/plain": [
       "                     [,1]\n",
       "2016-01-28 03:00:00  2.95\n",
       "2016-02-06 08:00:00  5.70\n",
       "2016-02-14 17:00:00  2.75\n",
       "2016-03-07 23:00:00  3.50\n",
       "2016-03-12 02:00:00 10.10\n",
       "2016-04-10 18:00:00  8.65\n",
       "2016-06-17 06:00:00 10.05\n",
       "2016-09-19 10:00:00 12.30\n",
       "2016-10-04 18:00:00 14.00\n",
       "2016-10-31 19:00:00 10.00"
      ]
     },
     "metadata": {},
     "output_type": "display_data"
    }
   ],
   "source": [
    "airTemp_site12_NA_interpolated[selected]"
   ]
  },
  {
   "cell_type": "markdown",
   "metadata": {},
   "source": [
    "Calculemos el error relativo para los valores interpolados con respecto a la serie original:"
   ]
  },
  {
   "cell_type": "code",
   "execution_count": 23,
   "metadata": {},
   "outputs": [
    {
     "name": "stderr",
     "output_type": "stream",
     "text": [
      "Warning message:\n",
      "\"timezone of object (GMT) is different than current timezone ().\""
     ]
    },
    {
     "name": "stdout",
     "output_type": "stream",
     "text": [
      "                       e1\n",
      "2016-01-28 03:00:00 10.61\n",
      "2016-02-06 08:00:00  1.79\n",
      "2016-02-14 17:00:00 11.29\n",
      "2016-03-07 23:00:00  9.37\n",
      "2016-03-12 02:00:00  5.21\n",
      "2016-04-10 18:00:00  1.76\n",
      "2016-06-17 06:00:00  0.50\n",
      "2016-09-19 10:00:00  1.60\n",
      "2016-10-04 18:00:00  0.71\n",
      "2016-10-31 19:00:00  9.09\n"
     ]
    }
   ],
   "source": [
    "err_lineal <- round((abs(airTemp_site12[selected] - airTemp_site12_NA_interpolated[selected])/airTemp_site12) * 100,2)\n",
    "print(err_lineal)"
   ]
  },
  {
   "cell_type": "markdown",
   "metadata": {},
   "source": [
    "Calculo del error relativo medio:"
   ]
  },
  {
   "cell_type": "code",
   "execution_count": 24,
   "metadata": {},
   "outputs": [
    {
     "name": "stdout",
     "output_type": "stream",
     "text": [
      "[1] 5.19\n"
     ]
    }
   ],
   "source": [
    "ERM_lineal <- mean(err_lineal)\n",
    "print(round(ERM_lineal, 2))"
   ]
  },
  {
   "cell_type": "markdown",
   "metadata": {},
   "source": [
    "#### Método 2: Interpolación con splines"
   ]
  },
  {
   "cell_type": "code",
   "execution_count": 25,
   "metadata": {},
   "outputs": [],
   "source": [
    "airTemp_site12_NA_splin <- na_interpolation(airTemp_site12_NA, option = \"spline\")"
   ]
  },
  {
   "cell_type": "code",
   "execution_count": 26,
   "metadata": {},
   "outputs": [
    {
     "name": "stdout",
     "output_type": "stream",
     "text": [
      "[1] \"Length of time series:\"\n",
      "[1] 8755\n",
      "[1] \"-------------------------\"\n",
      "[1] \"Number of Missing Values:\"\n",
      "[1] 0\n",
      "[1] \"-------------------------\"\n",
      "[1] \"Percentage of Missing Values:\"\n",
      "[1] \"0%\"\n",
      "[1] \"-------------------------\"\n",
      "[1] \"No NAs in the time Series.\"\n"
     ]
    },
    {
     "data": {
      "text/html": [
       "'No NAs'"
      ],
      "text/latex": [
       "'No NAs'"
      ],
      "text/markdown": [
       "'No NAs'"
      ],
      "text/plain": [
       "[1] \"No NAs\""
      ]
     },
     "metadata": {},
     "output_type": "display_data"
    }
   ],
   "source": [
    "statsNA(airTemp_site12_NA_splin)"
   ]
  },
  {
   "cell_type": "code",
   "execution_count": 27,
   "metadata": {},
   "outputs": [],
   "source": [
    "err_spline <- round((abs(airTemp_site12[selected] - airTemp_site12_NA_splin[selected])/airTemp_site12) * 100, 2)"
   ]
  },
  {
   "cell_type": "code",
   "execution_count": 28,
   "metadata": {},
   "outputs": [],
   "source": [
    "ERM_spline <- mean(err_spline)"
   ]
  },
  {
   "cell_type": "code",
   "execution_count": 29,
   "metadata": {},
   "outputs": [
    {
     "name": "stdout",
     "output_type": "stream",
     "text": [
      "[1] 6.97\n"
     ]
    }
   ],
   "source": [
    "print(round(ERM_spline, 2))"
   ]
  },
  {
   "cell_type": "code",
   "execution_count": 30,
   "metadata": {
    "scrolled": true
   },
   "outputs": [
    {
     "data": {
      "image/png": "[encoded data removed]",
      "text/plain": [
       "Plot with title \"Visualization Imputed Values\""
      ]
     },
     "metadata": {},
     "output_type": "display_data"
    }
   ],
   "source": [
    "plotNA.imputations(airTemp_site12_NA[selected], x.withImputations = airTemp_site12_NA_interpolated[selected], x.withTruth = airTemp_site12[selected]) "
   ]
  },
  {
   "cell_type": "markdown",
   "metadata": {},
   "source": [
    "#### Método 3: Interpolación *Stineman*"
   ]
  },
  {
   "cell_type": "code",
   "execution_count": 31,
   "metadata": {},
   "outputs": [],
   "source": [
    "airTemp_site12_NA_stineman <- na_interpolation(airTemp_site12_NA, option = \"stine\")"
   ]
  },
  {
   "cell_type": "code",
   "execution_count": 32,
   "metadata": {},
   "outputs": [
    {
     "name": "stdout",
     "output_type": "stream",
     "text": [
      "[1] \"Length of time series:\"\n",
      "[1] 8755\n",
      "[1] \"-------------------------\"\n",
      "[1] \"Number of Missing Values:\"\n",
      "[1] 0\n",
      "[1] \"-------------------------\"\n",
      "[1] \"Percentage of Missing Values:\"\n",
      "[1] \"0%\"\n",
      "[1] \"-------------------------\"\n",
      "[1] \"No NAs in the time Series.\"\n"
     ]
    },
    {
     "data": {
      "text/html": [
       "'No NAs'"
      ],
      "text/latex": [
       "'No NAs'"
      ],
      "text/markdown": [
       "'No NAs'"
      ],
      "text/plain": [
       "[1] \"No NAs\""
      ]
     },
     "metadata": {},
     "output_type": "display_data"
    }
   ],
   "source": [
    "statsNA(airTemp_site12_NA_splin)"
   ]
  },
  {
   "cell_type": "code",
   "execution_count": 33,
   "metadata": {},
   "outputs": [],
   "source": [
    "err_stine <- round((abs(airTemp_site12[selected] - airTemp_site12_NA_stineman[selected])/airTemp_site12) * 100, 2)"
   ]
  },
  {
   "cell_type": "code",
   "execution_count": 34,
   "metadata": {},
   "outputs": [
    {
     "name": "stdout",
     "output_type": "stream",
     "text": [
      "[1] 5.21\n"
     ]
    }
   ],
   "source": [
    "ERM_stine <- mean(err_stine)\n",
    "print(round(ERM_stine, 2))"
   ]
  },
  {
   "cell_type": "code",
   "execution_count": 35,
   "metadata": {},
   "outputs": [
    {
     "name": "stderr",
     "output_type": "stream",
     "text": [
      "Warning message:\n",
      "\"timezone of object (GMT) is different than current timezone ().\""
     ]
    },
    {
     "data": {
      "text/plain": [
       "                       e1\n",
       "2016-01-28 03:00:00  9.58\n",
       "2016-02-06 08:00:00  4.03\n",
       "2016-02-14 17:00:00 19.79\n",
       "2016-03-07 23:00:00 11.54\n",
       "2016-03-12 02:00:00  5.01\n",
       "2016-04-10 18:00:00  2.47\n",
       "2016-06-17 06:00:00  3.82\n",
       "2016-09-19 10:00:00  0.11\n",
       "2016-10-04 18:00:00  2.18\n",
       "2016-10-31 19:00:00 11.13"
      ]
     },
     "metadata": {},
     "output_type": "display_data"
    }
   ],
   "source": [
    "err_spline"
   ]
  },
  {
   "cell_type": "code",
   "execution_count": 36,
   "metadata": {
    "scrolled": true
   },
   "outputs": [
    {
     "data": {
      "image/png": "[encoded data removed]",
      "text/plain": [
       "Plot with title \"Visualization Imputed Values\""
      ]
     },
     "metadata": {},
     "output_type": "display_data"
    }
   ],
   "source": [
    "plotNA.imputations(airTemp_site12_NA[selected], x.withImputations = airTemp_site12_NA_stineman[selected], x.withTruth = airTemp_site12[selected]) "
   ]
  },
  {
   "cell_type": "markdown",
   "metadata": {},
   "source": [
    "De los tres métodos de interpolación empleados el que da una precisión mayor es el **Método de interpolación de Stineman**"
   ]
  },
  {
   "cell_type": "markdown",
   "metadata": {},
   "source": [
    "#### Método 4: Kalman Smoothing"
   ]
  },
  {
   "cell_type": "code",
   "execution_count": 37,
   "metadata": {},
   "outputs": [],
   "source": [
    "airTemp_site12_NA_kalStrct <- na_kalman(airTemp_site12_NA, model = \"StructTS\", smooth = TRUE, type = \"trend\")"
   ]
  },
  {
   "cell_type": "code",
   "execution_count": 38,
   "metadata": {},
   "outputs": [
    {
     "name": "stdout",
     "output_type": "stream",
     "text": [
      "[1] \"Length of time series:\"\n",
      "[1] 8755\n",
      "[1] \"-------------------------\"\n",
      "[1] \"Number of Missing Values:\"\n",
      "[1] 0\n",
      "[1] \"-------------------------\"\n",
      "[1] \"Percentage of Missing Values:\"\n",
      "[1] \"0%\"\n",
      "[1] \"-------------------------\"\n",
      "[1] \"No NAs in the time Series.\"\n"
     ]
    },
    {
     "data": {
      "text/html": [
       "'No NAs'"
      ],
      "text/latex": [
       "'No NAs'"
      ],
      "text/markdown": [
       "'No NAs'"
      ],
      "text/plain": [
       "[1] \"No NAs\""
      ]
     },
     "metadata": {},
     "output_type": "display_data"
    }
   ],
   "source": [
    "statsNA(airTemp_site12_NA_kalStrct)"
   ]
  },
  {
   "cell_type": "code",
   "execution_count": 39,
   "metadata": {},
   "outputs": [],
   "source": [
    "err_kalStrct <- round((abs(airTemp_site12[selected] - airTemp_site12_NA_kalStrct[selected])/airTemp_site12) * 100, 2)"
   ]
  },
  {
   "cell_type": "code",
   "execution_count": 40,
   "metadata": {},
   "outputs": [
    {
     "name": "stderr",
     "output_type": "stream",
     "text": [
      "Warning message:\n",
      "\"timezone of object (GMT) is different than current timezone ().\""
     ]
    },
    {
     "data": {
      "text/plain": [
       "                       e1\n",
       "2016-01-28 03:00:00 11.31\n",
       "2016-02-06 08:00:00  1.60\n",
       "2016-02-14 17:00:00 11.67\n",
       "2016-03-07 23:00:00  8.69\n",
       "2016-03-12 02:00:00  5.12\n",
       "2016-04-10 18:00:00  2.02\n",
       "2016-06-17 06:00:00  1.16\n",
       "2016-09-19 10:00:00  1.24\n",
       "2016-10-04 18:00:00  0.71\n",
       "2016-10-31 19:00:00  9.39"
      ]
     },
     "metadata": {},
     "output_type": "display_data"
    }
   ],
   "source": [
    "err_kalStrct"
   ]
  },
  {
   "cell_type": "code",
   "execution_count": 41,
   "metadata": {},
   "outputs": [
    {
     "name": "stdout",
     "output_type": "stream",
     "text": [
      "[1] 5.29\n"
     ]
    }
   ],
   "source": [
    "ERM_kalStrct <- mean(err_kalStrct)\n",
    "print(round(ERM_kalStrct, 2))"
   ]
  },
  {
   "cell_type": "code",
   "execution_count": 42,
   "metadata": {},
   "outputs": [],
   "source": [
    "airTemp_site12_NA_kalArima <- na_kalman(airTemp_site12_NA, model = \"auto.arima\", smooth = TRUE)"
   ]
  },
  {
   "cell_type": "code",
   "execution_count": 43,
   "metadata": {},
   "outputs": [],
   "source": [
    "err_kalArima <- round((abs(airTemp_site12[selected] - airTemp_site12_NA_kalArima[selected])/airTemp_site12) * 100, 2)"
   ]
  },
  {
   "cell_type": "code",
   "execution_count": 44,
   "metadata": {},
   "outputs": [
    {
     "name": "stderr",
     "output_type": "stream",
     "text": [
      "Warning message:\n",
      "\"timezone of object (GMT) is different than current timezone ().\""
     ]
    },
    {
     "data": {
      "text/plain": [
       "                       e1\n",
       "2016-01-28 03:00:00 11.09\n",
       "2016-02-06 08:00:00  1.49\n",
       "2016-02-14 17:00:00 11.72\n",
       "2016-03-07 23:00:00  9.29\n",
       "2016-03-12 02:00:00  5.37\n",
       "2016-04-10 18:00:00  2.00\n",
       "2016-06-17 06:00:00  1.45\n",
       "2016-09-19 10:00:00  0.91\n",
       "2016-10-04 18:00:00  0.60\n",
       "2016-10-31 19:00:00 10.11"
      ]
     },
     "metadata": {},
     "output_type": "display_data"
    }
   ],
   "source": [
    "err_kalArima"
   ]
  },
  {
   "cell_type": "code",
   "execution_count": 45,
   "metadata": {},
   "outputs": [
    {
     "name": "stdout",
     "output_type": "stream",
     "text": [
      "[1] 5.4\n"
     ]
    }
   ],
   "source": [
    "ERM_kalArima <- mean(err_kalArima)\n",
    "print(round(ERM_kalArima, 2))"
   ]
  },
  {
   "cell_type": "markdown",
   "metadata": {},
   "source": [
    "#### Método 5: Medias móviles"
   ]
  },
  {
   "cell_type": "code",
   "execution_count": 46,
   "metadata": {},
   "outputs": [],
   "source": [
    "airTemp_site12_NA_mas <- na_ma(airTemp_site12_NA, k = 4, weighting = \"simple\")"
   ]
  },
  {
   "cell_type": "code",
   "execution_count": 47,
   "metadata": {},
   "outputs": [],
   "source": [
    "err_mas <- round((abs(airTemp_site12[selected] - airTemp_site12_NA_mas[selected])/airTemp_site12) * 100, 2)"
   ]
  },
  {
   "cell_type": "code",
   "execution_count": 48,
   "metadata": {},
   "outputs": [
    {
     "name": "stderr",
     "output_type": "stream",
     "text": [
      "Warning message:\n",
      "\"timezone of object (GMT) is different than current timezone ().\""
     ]
    },
    {
     "data": {
      "text/plain": [
       "                      e1\n",
       "2016-01-28 03:00:00 6.82\n",
       "2016-02-06 08:00:00 4.24\n",
       "2016-02-14 17:00:00 0.00\n",
       "2016-03-07 23:00:00 9.77\n",
       "2016-03-12 02:00:00 4.82\n",
       "2016-04-10 18:00:00 0.88\n",
       "2016-06-17 06:00:00 8.79\n",
       "2016-09-19 10:00:00 7.40\n",
       "2016-10-04 18:00:00 0.44\n",
       "2016-10-31 19:00:00 1.82"
      ]
     },
     "metadata": {},
     "output_type": "display_data"
    }
   ],
   "source": [
    "err_mas"
   ]
  },
  {
   "cell_type": "code",
   "execution_count": 49,
   "metadata": {},
   "outputs": [
    {
     "name": "stdout",
     "output_type": "stream",
     "text": [
      "[1] 4.5\n"
     ]
    }
   ],
   "source": [
    "ERM_mas <- mean(err_mas)\n",
    "print(round(ERM_mas, 2))"
   ]
  },
  {
   "cell_type": "code",
   "execution_count": 50,
   "metadata": {},
   "outputs": [],
   "source": [
    "airTemp_site12_NA_mal <- na_ma(airTemp_site12_NA, k = 3, weighting = \"linear\")"
   ]
  },
  {
   "cell_type": "code",
   "execution_count": 51,
   "metadata": {},
   "outputs": [],
   "source": [
    "err_mal <- round((abs(airTemp_site12[selected] - airTemp_site12_NA_mal[selected])/airTemp_site12) * 100, 2)"
   ]
  },
  {
   "cell_type": "code",
   "execution_count": 52,
   "metadata": {},
   "outputs": [
    {
     "name": "stderr",
     "output_type": "stream",
     "text": [
      "Warning message:\n",
      "\"timezone of object (GMT) is different than current timezone ().\""
     ]
    },
    {
     "data": {
      "text/plain": [
       "                      e1\n",
       "2016-01-28 03:00:00 8.86\n",
       "2016-02-06 08:00:00 1.99\n",
       "2016-02-14 17:00:00 0.50\n",
       "2016-03-07 23:00:00 8.77\n",
       "2016-03-12 02:00:00 4.85\n",
       "2016-04-10 18:00:00 2.62\n",
       "2016-06-17 06:00:00 4.91\n",
       "2016-09-19 10:00:00 5.17\n",
       "2016-10-04 18:00:00 0.05\n",
       "2016-10-31 19:00:00 5.70"
      ]
     },
     "metadata": {},
     "output_type": "display_data"
    }
   ],
   "source": [
    "err_mal"
   ]
  },
  {
   "cell_type": "code",
   "execution_count": 53,
   "metadata": {},
   "outputs": [
    {
     "name": "stdout",
     "output_type": "stream",
     "text": [
      "[1] 4.34\n"
     ]
    }
   ],
   "source": [
    "ERM_mal <- mean(err_mal)\n",
    "print(round(ERM_mal, 2))"
   ]
  },
  {
   "cell_type": "code",
   "execution_count": 54,
   "metadata": {},
   "outputs": [],
   "source": [
    "airTemp_site12_NA_mae <- na_ma(airTemp_site12_NA, k = 3, weighting = \"exponential\")"
   ]
  },
  {
   "cell_type": "code",
   "execution_count": 55,
   "metadata": {},
   "outputs": [],
   "source": [
    "err_mae <- round((abs(airTemp_site12[selected] - airTemp_site12_NA_mae[selected])/airTemp_site12) * 100, 2)"
   ]
  },
  {
   "cell_type": "code",
   "execution_count": 56,
   "metadata": {},
   "outputs": [
    {
     "name": "stdout",
     "output_type": "stream",
     "text": [
      "[1] 4.49\n"
     ]
    }
   ],
   "source": [
    "ERM_mae <- mean(err_mae)\n",
    "print(round(ERM_mae, 2))"
   ]
  },
  {
   "cell_type": "code",
   "execution_count": 57,
   "metadata": {},
   "outputs": [
    {
     "data": {
      "image/png": "[encoded data removed]",
      "text/plain": [
       "Plot with title \"Visualization Imputed Values\""
      ]
     },
     "metadata": {},
     "output_type": "display_data"
    }
   ],
   "source": [
    "plotNA.imputations(airTemp_site12_NA[selected], x.withImputations = airTemp_site12_NA_mal[selected], x.withTruth = airTemp_site12[selected]) "
   ]
  },
  {
   "cell_type": "markdown",
   "metadata": {},
   "source": [
    "#### Método 6: Last Observation Carried Forward- LOCF y Next Observation Carried Backward- NOCB"
   ]
  },
  {
   "cell_type": "code",
   "execution_count": 59,
   "metadata": {},
   "outputs": [],
   "source": [
    "airTemp_site12_NA_locf <- na_locf(airTemp_site12_NA, option = \"locf\", na_remaining = \"rev\")"
   ]
  },
  {
   "cell_type": "code",
   "execution_count": 60,
   "metadata": {},
   "outputs": [],
   "source": [
    "err_locf <- round((abs(airTemp_site12[selected] - airTemp_site12_NA_locf[selected])/airTemp_site12) * 100, 2)"
   ]
  },
  {
   "cell_type": "code",
   "execution_count": 61,
   "metadata": {},
   "outputs": [
    {
     "name": "stderr",
     "output_type": "stream",
     "text": [
      "Warning message:\n",
      "\"timezone of object (GMT) is different than current timezone ().\""
     ]
    },
    {
     "data": {
      "text/plain": [
       "                       e1\n",
       "2016-01-28 03:00:00 27.27\n",
       "2016-02-06 08:00:00  5.36\n",
       "2016-02-14 17:00:00 32.26\n",
       "2016-03-07 23:00:00 12.50\n",
       "2016-03-12 02:00:00  1.04\n",
       "2016-04-10 18:00:00  4.71\n",
       "2016-06-17 06:00:00  4.95\n",
       "2016-09-19 10:00:00  8.80\n",
       "2016-10-04 18:00:00  3.55\n",
       "2016-10-31 19:00:00  0.00"
      ]
     },
     "metadata": {},
     "output_type": "display_data"
    }
   ],
   "source": [
    "err_locf"
   ]
  },
  {
   "cell_type": "code",
   "execution_count": 67,
   "metadata": {},
   "outputs": [],
   "source": [
    "airTemp_site12_NA_nocb <- na_locf(airTemp_site12_NA, option = \"nocb\", na_remaining = \"rev\")"
   ]
  },
  {
   "cell_type": "code",
   "execution_count": 68,
   "metadata": {},
   "outputs": [],
   "source": [
    "err_nocb <- round((abs(airTemp_site12[selected] - airTemp_site12_NA_locf[selected])/airTemp_site12) * 100, 2)"
   ]
  },
  {
   "cell_type": "code",
   "execution_count": 69,
   "metadata": {},
   "outputs": [
    {
     "name": "stderr",
     "output_type": "stream",
     "text": [
      "Warning message:\n",
      "\"timezone of object (GMT) is different than current timezone ().\""
     ]
    },
    {
     "data": {
      "text/plain": [
       "                       e1\n",
       "2016-01-28 03:00:00 27.27\n",
       "2016-02-06 08:00:00  5.36\n",
       "2016-02-14 17:00:00 32.26\n",
       "2016-03-07 23:00:00 12.50\n",
       "2016-03-12 02:00:00  1.04\n",
       "2016-04-10 18:00:00  4.71\n",
       "2016-06-17 06:00:00  4.95\n",
       "2016-09-19 10:00:00  8.80\n",
       "2016-10-04 18:00:00  3.55\n",
       "2016-10-31 19:00:00  0.00"
      ]
     },
     "metadata": {},
     "output_type": "display_data"
    }
   ],
   "source": [
    "err_nocb"
   ]
  },
  {
   "cell_type": "markdown",
   "metadata": {},
   "source": [
    "#### Método 7: descomposición estacional"
   ]
  },
  {
   "cell_type": "code",
   "execution_count": 73,
   "metadata": {},
   "outputs": [],
   "source": [
    "airTemp_site12_NA_dintl <- na_seasplit(airTemp_site12_NA, algorithm = \"interpolation\", option=\"linear\", find_frequency = FALSE)"
   ]
  },
  {
   "cell_type": "code",
   "execution_count": 74,
   "metadata": {},
   "outputs": [],
   "source": [
    "err_dintl <- round((abs(airTemp_site12[selected] - airTemp_site12_NA_dintl[selected])/airTemp_site12) * 100, 2)"
   ]
  },
  {
   "cell_type": "code",
   "execution_count": 75,
   "metadata": {},
   "outputs": [
    {
     "name": "stderr",
     "output_type": "stream",
     "text": [
      "Warning message:\n",
      "\"timezone of object (GMT) is different than current timezone ().\""
     ]
    },
    {
     "data": {
      "text/plain": [
       "                       e1\n",
       "2016-01-28 03:00:00  6.05\n",
       "2016-02-06 08:00:00  8.92\n",
       "2016-02-14 17:00:00 54.81\n",
       "2016-03-07 23:00:00  6.25\n",
       "2016-03-12 02:00:00  9.37\n",
       "2016-04-10 18:00:00  1.17\n",
       "2016-06-17 06:00:00  3.96\n",
       "2016-09-19 10:00:00  5.60\n",
       "2016-10-04 18:00:00  4.96\n",
       "2016-10-31 19:00:00 18.18"
      ]
     },
     "metadata": {},
     "output_type": "display_data"
    }
   ],
   "source": [
    "err_dintl"
   ]
  },
  {
   "cell_type": "code",
   "execution_count": 76,
   "metadata": {},
   "outputs": [],
   "source": [
    "airTemp_site12_NA_dintsp<- na_seasplit(airTemp_site12_NA, algorithm = \"interpolation\", option=\"spline\", find_frequency = FALSE)"
   ]
  },
  {
   "cell_type": "code",
   "execution_count": 78,
   "metadata": {},
   "outputs": [],
   "source": [
    "err_dintsp <- round((abs(airTemp_site12[selected] - airTemp_site12_NA_dintsp[selected])/airTemp_site12) * 100, 2)"
   ]
  },
  {
   "cell_type": "code",
   "execution_count": 79,
   "metadata": {},
   "outputs": [
    {
     "name": "stderr",
     "output_type": "stream",
     "text": [
      "Warning message:\n",
      "\"timezone of object (GMT) is different than current timezone ().\""
     ]
    },
    {
     "data": {
      "text/plain": [
       "                       e1\n",
       "2016-01-28 03:00:00  6.06\n",
       "2016-02-06 08:00:00  8.93\n",
       "2016-02-14 17:00:00 54.84\n",
       "2016-03-07 23:00:00  6.25\n",
       "2016-03-12 02:00:00  9.37\n",
       "2016-04-10 18:00:00  1.18\n",
       "2016-06-17 06:00:00  3.96\n",
       "2016-09-19 10:00:00  5.60\n",
       "2016-10-04 18:00:00  4.96\n",
       "2016-10-31 19:00:00 18.18"
      ]
     },
     "metadata": {},
     "output_type": "display_data"
    }
   ],
   "source": [
    "err_dintsp"
   ]
  },
  {
   "cell_type": "code",
   "execution_count": 92,
   "metadata": {},
   "outputs": [
    {
     "ename": "ERROR",
     "evalue": "Error: no se puede ubicar un vector de tamaño  120.1 Mb\n",
     "output_type": "error",
     "traceback": [
      "Error: no se puede ubicar un vector de tamaño  120.1 Mb\nTraceback:\n",
      "1. na_seasplit(airTemp_site12_NA, algorithm = \"interpolation\", option = \"stine\", \n .     find_frequency = FALSE)",
      "2. apply_base_algorithm(ts_temp, algorithm = algorithm, ...)",
      "3. na_interpolation(data, ...)",
      "4. stinepack::stinterp(indx, data_vec[indx], 1:n, ...)",
      "5. stinemanSlopes(x, y, scale = TRUE)"
     ]
    }
   ],
   "source": [
    "airTemp_site12_NA_dintst<- na_seasplit(airTemp_site12_NA, algorithm = \"interpolation\", option=\"stine\", find_frequency = FALSE)"
   ]
  },
  {
   "cell_type": "code",
   "execution_count": null,
   "metadata": {},
   "outputs": [],
   "source": []
  }
 ],
 "metadata": {
  "kernelspec": {
   "display_name": "R",
   "language": "R",
   "name": "ir"
  }
 },
 "nbformat": 4,
 "nbformat_minor": 2
}
